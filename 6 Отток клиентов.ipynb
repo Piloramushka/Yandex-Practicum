{
 "cells": [
  {
   "cell_type": "markdown",
   "metadata": {
    "toc": true
   },
   "source": [
    "<h1>Содержание<span class=\"tocSkip\"></span></h1>\n",
    "<div class=\"toc\"><ul class=\"toc-item\"><li><span><a href=\"#Подготовка-данных\" data-toc-modified-id=\"Подготовка-данных-1\"><span class=\"toc-item-num\">1&nbsp;&nbsp;</span>Подготовка данных</a></span></li><li><span><a href=\"#Исследование-задачи\" data-toc-modified-id=\"Исследование-задачи-2\"><span class=\"toc-item-num\">2&nbsp;&nbsp;</span>Исследование задачи</a></span><ul class=\"toc-item\"><li><span><a href=\"#Дерево-решений\" data-toc-modified-id=\"Дерево-решений-2.1\"><span class=\"toc-item-num\">2.1&nbsp;&nbsp;</span>Дерево решений</a></span></li><li><span><a href=\"#Случайный-лес\" data-toc-modified-id=\"Случайный-лес-2.2\"><span class=\"toc-item-num\">2.2&nbsp;&nbsp;</span>Случайный лес</a></span></li><li><span><a href=\"#Логистическая-регрессия\" data-toc-modified-id=\"Логистическая-регрессия-2.3\"><span class=\"toc-item-num\">2.3&nbsp;&nbsp;</span>Логистическая регрессия</a></span></li></ul></li><li><span><a href=\"#Борьба-с-дисбалансом\" data-toc-modified-id=\"Борьба-с-дисбалансом-3\"><span class=\"toc-item-num\">3&nbsp;&nbsp;</span>Борьба с дисбалансом</a></span><ul class=\"toc-item\"><li><span><a href=\"#Взвешивание-классов\" data-toc-modified-id=\"Взвешивание-классов-3.1\"><span class=\"toc-item-num\">3.1&nbsp;&nbsp;</span>Взвешивание классов</a></span><ul class=\"toc-item\"><li><span><a href=\"#Дерево-решений\" data-toc-modified-id=\"Дерево-решений-3.1.1\"><span class=\"toc-item-num\">3.1.1&nbsp;&nbsp;</span>Дерево решений</a></span></li><li><span><a href=\"#Случайный-лес\" data-toc-modified-id=\"Случайный-лес-3.1.2\"><span class=\"toc-item-num\">3.1.2&nbsp;&nbsp;</span>Случайный лес</a></span></li><li><span><a href=\"#Логистическая-регрессия\" data-toc-modified-id=\"Логистическая-регрессия-3.1.3\"><span class=\"toc-item-num\">3.1.3&nbsp;&nbsp;</span>Логистическая регрессия</a></span></li></ul></li><li><span><a href=\"#Увеличение-выборки\" data-toc-modified-id=\"Увеличение-выборки-3.2\"><span class=\"toc-item-num\">3.2&nbsp;&nbsp;</span>Увеличение выборки</a></span><ul class=\"toc-item\"><li><span><a href=\"#Дерево-решений\" data-toc-modified-id=\"Дерево-решений-3.2.1\"><span class=\"toc-item-num\">3.2.1&nbsp;&nbsp;</span>Дерево решений</a></span></li><li><span><a href=\"#Случайный-лес\" data-toc-modified-id=\"Случайный-лес-3.2.2\"><span class=\"toc-item-num\">3.2.2&nbsp;&nbsp;</span>Случайный лес</a></span></li><li><span><a href=\"#Логистическая-регрессия\" data-toc-modified-id=\"Логистическая-регрессия-3.2.3\"><span class=\"toc-item-num\">3.2.3&nbsp;&nbsp;</span>Логистическая регрессия</a></span></li></ul></li><li><span><a href=\"#Уменьшение-выборки\" data-toc-modified-id=\"Уменьшение-выборки-3.3\"><span class=\"toc-item-num\">3.3&nbsp;&nbsp;</span>Уменьшение выборки</a></span><ul class=\"toc-item\"><li><span><a href=\"#Дерево-решений\" data-toc-modified-id=\"Дерево-решений-3.3.1\"><span class=\"toc-item-num\">3.3.1&nbsp;&nbsp;</span>Дерево решений</a></span></li><li><span><a href=\"#Случайный-лес\" data-toc-modified-id=\"Случайный-лес-3.3.2\"><span class=\"toc-item-num\">3.3.2&nbsp;&nbsp;</span>Случайный лес</a></span></li><li><span><a href=\"#Логистическая-регрессия\" data-toc-modified-id=\"Логистическая-регрессия-3.3.3\"><span class=\"toc-item-num\">3.3.3&nbsp;&nbsp;</span>Логистическая регрессия</a></span></li></ul></li></ul></li><li><span><a href=\"#Тестирование-модели\" data-toc-modified-id=\"Тестирование-модели-4\"><span class=\"toc-item-num\">4&nbsp;&nbsp;</span>Тестирование модели</a></span><ul class=\"toc-item\"><li><span><a href=\"#Случайный-лес(upsampled)\" data-toc-modified-id=\"Случайный-лес(upsampled)-4.1\"><span class=\"toc-item-num\">4.1&nbsp;&nbsp;</span>Случайный лес(upsampled)</a></span></li><li><span><a href=\"#Переобучение-лучшей-модели\" data-toc-modified-id=\"Переобучение-лучшей-модели-4.2\"><span class=\"toc-item-num\">4.2&nbsp;&nbsp;</span>Переобучение лучшей модели</a></span></li></ul></li><li><span><a href=\"#Вывод\" data-toc-modified-id=\"Вывод-5\"><span class=\"toc-item-num\">5&nbsp;&nbsp;</span>Вывод</a></span></li><li><span><a href=\"#Чек-лист-готовности-проекта\" data-toc-modified-id=\"Чек-лист-готовности-проекта-6\"><span class=\"toc-item-num\">6&nbsp;&nbsp;</span>Чек-лист готовности проекта</a></span></li><li><span><a href=\"#Финальные-комментарии-ревьюера\" data-toc-modified-id=\"Финальные-комментарии-ревьюера-7\"><span class=\"toc-item-num\">7&nbsp;&nbsp;</span>Финальные комментарии ревьюера</a></span></li></ul></div>"
   ]
  },
  {
   "cell_type": "markdown",
   "metadata": {},
   "source": [
    "# Отток клиентов"
   ]
  },
  {
   "cell_type": "markdown",
   "metadata": {},
   "source": [
    "Из «Бета-Банка» стали уходить клиенты. Каждый месяц. Немного, но заметно. Банковские маркетологи посчитали: сохранять текущих клиентов дешевле, чем привлекать новых.\n",
    "\n",
    "Нужно спрогнозировать, уйдёт клиент из банка в ближайшее время или нет. Вам предоставлены исторические данные о поведении клиентов и расторжении договоров с банком. \n",
    "\n",
    "Постройте модель с предельно большим значением *F1*-меры. Чтобы сдать проект успешно, нужно довести метрику до 0.59. Проверьте *F1*-меру на тестовой выборке самостоятельно.\n",
    "\n",
    "Дополнительно измеряйте *AUC-ROC*, сравнивайте её значение с *F1*-мерой.\n",
    "\n",
    "Источник данных: [https://www.kaggle.com/barelydedicated/bank-customer-churn-modeling](https://www.kaggle.com/barelydedicated/bank-customer-churn-modeling)"
   ]
  },
  {
   "cell_type": "markdown",
   "metadata": {},
   "source": [
    "# Инструкция по выполнению проекта\n",
    "\n",
    "- Загрузите и подготовьте данные. Поясните порядок действий.\n",
    "- Исследуйте баланс классов, обучите модель без учёта дисбаланса. Кратко опишите выводы.\n",
    "- Улучшите качество модели, учитывая дисбаланс классов. Обучите разные модели и найдите лучшую. Кратко опишите выводы.\n",
    "- Проведите финальное тестирование.\n",
    "\n",
    "**Описание данных**\n",
    "\n",
    "- Данные находятся в файле /datasets/Churn.csv (англ. «отток клиентов»).\n",
    "\n",
    "**Признаки**\n",
    "\n",
    "- RowNumber — индекс строки в данных\n",
    "- CustomerId — уникальный идентификатор клиента\n",
    "- Surname — фамилия\n",
    "- CreditScore — кредитный рейтинг\n",
    "- Geography — страна проживания\n",
    "- Gender — пол\n",
    "- Age — возраст\n",
    "- Tenure — сколько лет человек является клиентом банка\n",
    "- Balance — баланс на счёте\n",
    "- NumOfProducts — количество продуктов банка, используемых клиентом\n",
    "- HasCrCard — наличие кредитной карты\n",
    "- IsActiveMember — активность клиента\n",
    "- EstimatedSalary — предполагаемая зарплата\n",
    "\n",
    "**Целевой признак**\n",
    "\n",
    "- Exited — факт ухода клиента\n"
   ]
  },
  {
   "cell_type": "markdown",
   "metadata": {},
   "source": [
    "## Подготовка данных"
   ]
  },
  {
   "cell_type": "code",
   "execution_count": 16,
   "metadata": {},
   "outputs": [],
   "source": [
    "import os\n",
    "import pandas as pd\n",
    "import numpy as np\n",
    "import matplotlib.pyplot as plt\n",
    "from sklearn.preprocessing import MinMaxScaler\n",
    "from sklearn.preprocessing import StandardScaler\n",
    "from sklearn.model_selection import train_test_split\n",
    "from sklearn.tree import DecisionTreeClassifier\n",
    "from sklearn.ensemble import RandomForestClassifier\n",
    "from sklearn.linear_model import LogisticRegression \n",
    "from sklearn.utils import shuffle\n",
    "from sklearn.metrics import f1_score\n",
    "from sklearn.metrics import roc_auc_score\n",
    "from sklearn.metrics import roc_curve \n",
    "from sklearn.preprocessing import OneHotEncoder"
   ]
  },
  {
   "cell_type": "code",
   "execution_count": 17,
   "metadata": {},
   "outputs": [],
   "source": [
    "pth1 = '/Users/ramilvaleev/Desktop/Yandex Projects/Проекты в работе/Отток клиентов/Churn.csv'\n",
    "pth2 = '/datasets/Churn.csv'\n",
    "\n",
    "if os.path.exists(pth1):\n",
    "    data = pd.read_csv(pth1)\n",
    "elif os.path.exists(pth2):\n",
    "    data = pd.read_csv(pth2)\n",
    "else:\n",
    "    print('Something is wrong')"
   ]
  },
  {
   "cell_type": "code",
   "execution_count": 18,
   "metadata": {},
   "outputs": [
    {
     "data": {
      "text/html": [
       "<div>\n",
       "<style scoped>\n",
       "    .dataframe tbody tr th:only-of-type {\n",
       "        vertical-align: middle;\n",
       "    }\n",
       "\n",
       "    .dataframe tbody tr th {\n",
       "        vertical-align: top;\n",
       "    }\n",
       "\n",
       "    .dataframe thead th {\n",
       "        text-align: right;\n",
       "    }\n",
       "</style>\n",
       "<table border=\"1\" class=\"dataframe\">\n",
       "  <thead>\n",
       "    <tr style=\"text-align: right;\">\n",
       "      <th></th>\n",
       "      <th>RowNumber</th>\n",
       "      <th>CustomerId</th>\n",
       "      <th>Surname</th>\n",
       "      <th>CreditScore</th>\n",
       "      <th>Geography</th>\n",
       "      <th>Gender</th>\n",
       "      <th>Age</th>\n",
       "      <th>Tenure</th>\n",
       "      <th>Balance</th>\n",
       "      <th>NumOfProducts</th>\n",
       "      <th>HasCrCard</th>\n",
       "      <th>IsActiveMember</th>\n",
       "      <th>EstimatedSalary</th>\n",
       "      <th>Exited</th>\n",
       "    </tr>\n",
       "  </thead>\n",
       "  <tbody>\n",
       "    <tr>\n",
       "      <th>0</th>\n",
       "      <td>1</td>\n",
       "      <td>15634602</td>\n",
       "      <td>Hargrave</td>\n",
       "      <td>619</td>\n",
       "      <td>France</td>\n",
       "      <td>Female</td>\n",
       "      <td>42</td>\n",
       "      <td>2.0</td>\n",
       "      <td>0.00</td>\n",
       "      <td>1</td>\n",
       "      <td>1</td>\n",
       "      <td>1</td>\n",
       "      <td>101348.88</td>\n",
       "      <td>1</td>\n",
       "    </tr>\n",
       "    <tr>\n",
       "      <th>1</th>\n",
       "      <td>2</td>\n",
       "      <td>15647311</td>\n",
       "      <td>Hill</td>\n",
       "      <td>608</td>\n",
       "      <td>Spain</td>\n",
       "      <td>Female</td>\n",
       "      <td>41</td>\n",
       "      <td>1.0</td>\n",
       "      <td>83807.86</td>\n",
       "      <td>1</td>\n",
       "      <td>0</td>\n",
       "      <td>1</td>\n",
       "      <td>112542.58</td>\n",
       "      <td>0</td>\n",
       "    </tr>\n",
       "    <tr>\n",
       "      <th>2</th>\n",
       "      <td>3</td>\n",
       "      <td>15619304</td>\n",
       "      <td>Onio</td>\n",
       "      <td>502</td>\n",
       "      <td>France</td>\n",
       "      <td>Female</td>\n",
       "      <td>42</td>\n",
       "      <td>8.0</td>\n",
       "      <td>159660.80</td>\n",
       "      <td>3</td>\n",
       "      <td>1</td>\n",
       "      <td>0</td>\n",
       "      <td>113931.57</td>\n",
       "      <td>1</td>\n",
       "    </tr>\n",
       "    <tr>\n",
       "      <th>3</th>\n",
       "      <td>4</td>\n",
       "      <td>15701354</td>\n",
       "      <td>Boni</td>\n",
       "      <td>699</td>\n",
       "      <td>France</td>\n",
       "      <td>Female</td>\n",
       "      <td>39</td>\n",
       "      <td>1.0</td>\n",
       "      <td>0.00</td>\n",
       "      <td>2</td>\n",
       "      <td>0</td>\n",
       "      <td>0</td>\n",
       "      <td>93826.63</td>\n",
       "      <td>0</td>\n",
       "    </tr>\n",
       "    <tr>\n",
       "      <th>4</th>\n",
       "      <td>5</td>\n",
       "      <td>15737888</td>\n",
       "      <td>Mitchell</td>\n",
       "      <td>850</td>\n",
       "      <td>Spain</td>\n",
       "      <td>Female</td>\n",
       "      <td>43</td>\n",
       "      <td>2.0</td>\n",
       "      <td>125510.82</td>\n",
       "      <td>1</td>\n",
       "      <td>1</td>\n",
       "      <td>1</td>\n",
       "      <td>79084.10</td>\n",
       "      <td>0</td>\n",
       "    </tr>\n",
       "    <tr>\n",
       "      <th>5</th>\n",
       "      <td>6</td>\n",
       "      <td>15574012</td>\n",
       "      <td>Chu</td>\n",
       "      <td>645</td>\n",
       "      <td>Spain</td>\n",
       "      <td>Male</td>\n",
       "      <td>44</td>\n",
       "      <td>8.0</td>\n",
       "      <td>113755.78</td>\n",
       "      <td>2</td>\n",
       "      <td>1</td>\n",
       "      <td>0</td>\n",
       "      <td>149756.71</td>\n",
       "      <td>1</td>\n",
       "    </tr>\n",
       "    <tr>\n",
       "      <th>6</th>\n",
       "      <td>7</td>\n",
       "      <td>15592531</td>\n",
       "      <td>Bartlett</td>\n",
       "      <td>822</td>\n",
       "      <td>France</td>\n",
       "      <td>Male</td>\n",
       "      <td>50</td>\n",
       "      <td>7.0</td>\n",
       "      <td>0.00</td>\n",
       "      <td>2</td>\n",
       "      <td>1</td>\n",
       "      <td>1</td>\n",
       "      <td>10062.80</td>\n",
       "      <td>0</td>\n",
       "    </tr>\n",
       "    <tr>\n",
       "      <th>7</th>\n",
       "      <td>8</td>\n",
       "      <td>15656148</td>\n",
       "      <td>Obinna</td>\n",
       "      <td>376</td>\n",
       "      <td>Germany</td>\n",
       "      <td>Female</td>\n",
       "      <td>29</td>\n",
       "      <td>4.0</td>\n",
       "      <td>115046.74</td>\n",
       "      <td>4</td>\n",
       "      <td>1</td>\n",
       "      <td>0</td>\n",
       "      <td>119346.88</td>\n",
       "      <td>1</td>\n",
       "    </tr>\n",
       "    <tr>\n",
       "      <th>8</th>\n",
       "      <td>9</td>\n",
       "      <td>15792365</td>\n",
       "      <td>He</td>\n",
       "      <td>501</td>\n",
       "      <td>France</td>\n",
       "      <td>Male</td>\n",
       "      <td>44</td>\n",
       "      <td>4.0</td>\n",
       "      <td>142051.07</td>\n",
       "      <td>2</td>\n",
       "      <td>0</td>\n",
       "      <td>1</td>\n",
       "      <td>74940.50</td>\n",
       "      <td>0</td>\n",
       "    </tr>\n",
       "    <tr>\n",
       "      <th>9</th>\n",
       "      <td>10</td>\n",
       "      <td>15592389</td>\n",
       "      <td>H?</td>\n",
       "      <td>684</td>\n",
       "      <td>France</td>\n",
       "      <td>Male</td>\n",
       "      <td>27</td>\n",
       "      <td>2.0</td>\n",
       "      <td>134603.88</td>\n",
       "      <td>1</td>\n",
       "      <td>1</td>\n",
       "      <td>1</td>\n",
       "      <td>71725.73</td>\n",
       "      <td>0</td>\n",
       "    </tr>\n",
       "    <tr>\n",
       "      <th>10</th>\n",
       "      <td>11</td>\n",
       "      <td>15767821</td>\n",
       "      <td>Bearce</td>\n",
       "      <td>528</td>\n",
       "      <td>France</td>\n",
       "      <td>Male</td>\n",
       "      <td>31</td>\n",
       "      <td>6.0</td>\n",
       "      <td>102016.72</td>\n",
       "      <td>2</td>\n",
       "      <td>0</td>\n",
       "      <td>0</td>\n",
       "      <td>80181.12</td>\n",
       "      <td>0</td>\n",
       "    </tr>\n",
       "    <tr>\n",
       "      <th>11</th>\n",
       "      <td>12</td>\n",
       "      <td>15737173</td>\n",
       "      <td>Andrews</td>\n",
       "      <td>497</td>\n",
       "      <td>Spain</td>\n",
       "      <td>Male</td>\n",
       "      <td>24</td>\n",
       "      <td>3.0</td>\n",
       "      <td>0.00</td>\n",
       "      <td>2</td>\n",
       "      <td>1</td>\n",
       "      <td>0</td>\n",
       "      <td>76390.01</td>\n",
       "      <td>0</td>\n",
       "    </tr>\n",
       "    <tr>\n",
       "      <th>12</th>\n",
       "      <td>13</td>\n",
       "      <td>15632264</td>\n",
       "      <td>Kay</td>\n",
       "      <td>476</td>\n",
       "      <td>France</td>\n",
       "      <td>Female</td>\n",
       "      <td>34</td>\n",
       "      <td>10.0</td>\n",
       "      <td>0.00</td>\n",
       "      <td>2</td>\n",
       "      <td>1</td>\n",
       "      <td>0</td>\n",
       "      <td>26260.98</td>\n",
       "      <td>0</td>\n",
       "    </tr>\n",
       "    <tr>\n",
       "      <th>13</th>\n",
       "      <td>14</td>\n",
       "      <td>15691483</td>\n",
       "      <td>Chin</td>\n",
       "      <td>549</td>\n",
       "      <td>France</td>\n",
       "      <td>Female</td>\n",
       "      <td>25</td>\n",
       "      <td>5.0</td>\n",
       "      <td>0.00</td>\n",
       "      <td>2</td>\n",
       "      <td>0</td>\n",
       "      <td>0</td>\n",
       "      <td>190857.79</td>\n",
       "      <td>0</td>\n",
       "    </tr>\n",
       "    <tr>\n",
       "      <th>14</th>\n",
       "      <td>15</td>\n",
       "      <td>15600882</td>\n",
       "      <td>Scott</td>\n",
       "      <td>635</td>\n",
       "      <td>Spain</td>\n",
       "      <td>Female</td>\n",
       "      <td>35</td>\n",
       "      <td>7.0</td>\n",
       "      <td>0.00</td>\n",
       "      <td>2</td>\n",
       "      <td>1</td>\n",
       "      <td>1</td>\n",
       "      <td>65951.65</td>\n",
       "      <td>0</td>\n",
       "    </tr>\n",
       "    <tr>\n",
       "      <th>15</th>\n",
       "      <td>16</td>\n",
       "      <td>15643966</td>\n",
       "      <td>Goforth</td>\n",
       "      <td>616</td>\n",
       "      <td>Germany</td>\n",
       "      <td>Male</td>\n",
       "      <td>45</td>\n",
       "      <td>3.0</td>\n",
       "      <td>143129.41</td>\n",
       "      <td>2</td>\n",
       "      <td>0</td>\n",
       "      <td>1</td>\n",
       "      <td>64327.26</td>\n",
       "      <td>0</td>\n",
       "    </tr>\n",
       "    <tr>\n",
       "      <th>16</th>\n",
       "      <td>17</td>\n",
       "      <td>15737452</td>\n",
       "      <td>Romeo</td>\n",
       "      <td>653</td>\n",
       "      <td>Germany</td>\n",
       "      <td>Male</td>\n",
       "      <td>58</td>\n",
       "      <td>1.0</td>\n",
       "      <td>132602.88</td>\n",
       "      <td>1</td>\n",
       "      <td>1</td>\n",
       "      <td>0</td>\n",
       "      <td>5097.67</td>\n",
       "      <td>1</td>\n",
       "    </tr>\n",
       "    <tr>\n",
       "      <th>17</th>\n",
       "      <td>18</td>\n",
       "      <td>15788218</td>\n",
       "      <td>Henderson</td>\n",
       "      <td>549</td>\n",
       "      <td>Spain</td>\n",
       "      <td>Female</td>\n",
       "      <td>24</td>\n",
       "      <td>9.0</td>\n",
       "      <td>0.00</td>\n",
       "      <td>2</td>\n",
       "      <td>1</td>\n",
       "      <td>1</td>\n",
       "      <td>14406.41</td>\n",
       "      <td>0</td>\n",
       "    </tr>\n",
       "    <tr>\n",
       "      <th>18</th>\n",
       "      <td>19</td>\n",
       "      <td>15661507</td>\n",
       "      <td>Muldrow</td>\n",
       "      <td>587</td>\n",
       "      <td>Spain</td>\n",
       "      <td>Male</td>\n",
       "      <td>45</td>\n",
       "      <td>6.0</td>\n",
       "      <td>0.00</td>\n",
       "      <td>1</td>\n",
       "      <td>0</td>\n",
       "      <td>0</td>\n",
       "      <td>158684.81</td>\n",
       "      <td>0</td>\n",
       "    </tr>\n",
       "    <tr>\n",
       "      <th>19</th>\n",
       "      <td>20</td>\n",
       "      <td>15568982</td>\n",
       "      <td>Hao</td>\n",
       "      <td>726</td>\n",
       "      <td>France</td>\n",
       "      <td>Female</td>\n",
       "      <td>24</td>\n",
       "      <td>6.0</td>\n",
       "      <td>0.00</td>\n",
       "      <td>2</td>\n",
       "      <td>1</td>\n",
       "      <td>1</td>\n",
       "      <td>54724.03</td>\n",
       "      <td>0</td>\n",
       "    </tr>\n",
       "  </tbody>\n",
       "</table>\n",
       "</div>"
      ],
      "text/plain": [
       "    RowNumber  CustomerId    Surname  CreditScore Geography  Gender  Age  \\\n",
       "0           1    15634602   Hargrave          619    France  Female   42   \n",
       "1           2    15647311       Hill          608     Spain  Female   41   \n",
       "2           3    15619304       Onio          502    France  Female   42   \n",
       "3           4    15701354       Boni          699    France  Female   39   \n",
       "4           5    15737888   Mitchell          850     Spain  Female   43   \n",
       "5           6    15574012        Chu          645     Spain    Male   44   \n",
       "6           7    15592531   Bartlett          822    France    Male   50   \n",
       "7           8    15656148     Obinna          376   Germany  Female   29   \n",
       "8           9    15792365         He          501    France    Male   44   \n",
       "9          10    15592389         H?          684    France    Male   27   \n",
       "10         11    15767821     Bearce          528    France    Male   31   \n",
       "11         12    15737173    Andrews          497     Spain    Male   24   \n",
       "12         13    15632264        Kay          476    France  Female   34   \n",
       "13         14    15691483       Chin          549    France  Female   25   \n",
       "14         15    15600882      Scott          635     Spain  Female   35   \n",
       "15         16    15643966    Goforth          616   Germany    Male   45   \n",
       "16         17    15737452      Romeo          653   Germany    Male   58   \n",
       "17         18    15788218  Henderson          549     Spain  Female   24   \n",
       "18         19    15661507    Muldrow          587     Spain    Male   45   \n",
       "19         20    15568982        Hao          726    France  Female   24   \n",
       "\n",
       "    Tenure    Balance  NumOfProducts  HasCrCard  IsActiveMember  \\\n",
       "0      2.0       0.00              1          1               1   \n",
       "1      1.0   83807.86              1          0               1   \n",
       "2      8.0  159660.80              3          1               0   \n",
       "3      1.0       0.00              2          0               0   \n",
       "4      2.0  125510.82              1          1               1   \n",
       "5      8.0  113755.78              2          1               0   \n",
       "6      7.0       0.00              2          1               1   \n",
       "7      4.0  115046.74              4          1               0   \n",
       "8      4.0  142051.07              2          0               1   \n",
       "9      2.0  134603.88              1          1               1   \n",
       "10     6.0  102016.72              2          0               0   \n",
       "11     3.0       0.00              2          1               0   \n",
       "12    10.0       0.00              2          1               0   \n",
       "13     5.0       0.00              2          0               0   \n",
       "14     7.0       0.00              2          1               1   \n",
       "15     3.0  143129.41              2          0               1   \n",
       "16     1.0  132602.88              1          1               0   \n",
       "17     9.0       0.00              2          1               1   \n",
       "18     6.0       0.00              1          0               0   \n",
       "19     6.0       0.00              2          1               1   \n",
       "\n",
       "    EstimatedSalary  Exited  \n",
       "0         101348.88       1  \n",
       "1         112542.58       0  \n",
       "2         113931.57       1  \n",
       "3          93826.63       0  \n",
       "4          79084.10       0  \n",
       "5         149756.71       1  \n",
       "6          10062.80       0  \n",
       "7         119346.88       1  \n",
       "8          74940.50       0  \n",
       "9          71725.73       0  \n",
       "10         80181.12       0  \n",
       "11         76390.01       0  \n",
       "12         26260.98       0  \n",
       "13        190857.79       0  \n",
       "14         65951.65       0  \n",
       "15         64327.26       0  \n",
       "16          5097.67       1  \n",
       "17         14406.41       0  \n",
       "18        158684.81       0  \n",
       "19         54724.03       0  "
      ]
     },
     "execution_count": 18,
     "metadata": {},
     "output_type": "execute_result"
    }
   ],
   "source": [
    "data.head(20)"
   ]
  },
  {
   "cell_type": "code",
   "execution_count": 19,
   "metadata": {
    "scrolled": false
   },
   "outputs": [
    {
     "name": "stdout",
     "output_type": "stream",
     "text": [
      "<class 'pandas.core.frame.DataFrame'>\n",
      "RangeIndex: 10000 entries, 0 to 9999\n",
      "Data columns (total 14 columns):\n",
      " #   Column           Non-Null Count  Dtype  \n",
      "---  ------           --------------  -----  \n",
      " 0   RowNumber        10000 non-null  int64  \n",
      " 1   CustomerId       10000 non-null  int64  \n",
      " 2   Surname          10000 non-null  object \n",
      " 3   CreditScore      10000 non-null  int64  \n",
      " 4   Geography        10000 non-null  object \n",
      " 5   Gender           10000 non-null  object \n",
      " 6   Age              10000 non-null  int64  \n",
      " 7   Tenure           9091 non-null   float64\n",
      " 8   Balance          10000 non-null  float64\n",
      " 9   NumOfProducts    10000 non-null  int64  \n",
      " 10  HasCrCard        10000 non-null  int64  \n",
      " 11  IsActiveMember   10000 non-null  int64  \n",
      " 12  EstimatedSalary  10000 non-null  float64\n",
      " 13  Exited           10000 non-null  int64  \n",
      "dtypes: float64(3), int64(8), object(3)\n",
      "memory usage: 1.1+ MB\n"
     ]
    }
   ],
   "source": [
    "data.info()"
   ]
  },
  {
   "cell_type": "code",
   "execution_count": 20,
   "metadata": {},
   "outputs": [
    {
     "data": {
      "text/plain": [
       "False    10000\n",
       "dtype: int64"
      ]
     },
     "execution_count": 20,
     "metadata": {},
     "output_type": "execute_result"
    }
   ],
   "source": [
    "# проверим есть ли дубликаты по айди и фамилии\n",
    "data.duplicated(subset=['CustomerId', 'Surname']).value_counts()"
   ]
  },
  {
   "cell_type": "code",
   "execution_count": 21,
   "metadata": {},
   "outputs": [
    {
     "data": {
      "text/plain": [
       "-0.021417562052755166"
      ]
     },
     "execution_count": 21,
     "metadata": {},
     "output_type": "execute_result"
    },
    {
     "data": {
      "image/png": "[encoded data removed]",
      "text/plain": [
       "<Figure size 1080x360 with 1 Axes>"
      ]
     },
     "metadata": {
      "needs_background": "light"
     },
     "output_type": "display_data"
    }
   ],
   "source": [
    "# посмотрим, сможем ли мы восстановить сколько лет клиент с банком по его айди, что было бы логично\n",
    "(\n",
    "    data.pivot_table(index='Tenure', values='CustomerId')\n",
    "    .plot(xlabel='Tenure', ylabel='CID', style='o-', figsize=(15, 5), grid=True)\n",
    ")\n",
    "data['Tenure'].corr(data['CustomerId'])"
   ]
  },
  {
   "cell_type": "markdown",
   "metadata": {},
   "source": [
    "Корреляции между айди и количеатвом лет с банком отсутствует, айди не поможет нам восстановить пропуски."
   ]
  },
  {
   "cell_type": "code",
   "execution_count": 22,
   "metadata": {},
   "outputs": [],
   "source": [
    "# Предположим, что все отсутствующие значения это новые клиенты, заполним пропуски нулями\n",
    "data.fillna(0, inplace=True)"
   ]
  },
  {
   "cell_type": "code",
   "execution_count": 23,
   "metadata": {
    "scrolled": false
   },
   "outputs": [
    {
     "data": {
      "text/plain": [
       "Male      5457\n",
       "Female    4543\n",
       "Name: Gender, dtype: int64"
      ]
     },
     "metadata": {},
     "output_type": "display_data"
    },
    {
     "data": {
      "text/plain": [
       "France     5014\n",
       "Germany    2509\n",
       "Spain      2477\n",
       "Name: Geography, dtype: int64"
      ]
     },
     "metadata": {},
     "output_type": "display_data"
    },
    {
     "data": {
      "text/plain": [
       "37    478\n",
       "38    477\n",
       "35    474\n",
       "36    456\n",
       "34    447\n",
       "33    442\n",
       "40    432\n",
       "39    423\n",
       "32    418\n",
       "31    404\n",
       "Name: Age, dtype: int64"
      ]
     },
     "metadata": {},
     "output_type": "display_data"
    },
    {
     "data": {
      "text/plain": [
       "1    5084\n",
       "2    4590\n",
       "3     266\n",
       "4      60\n",
       "Name: NumOfProducts, dtype: int64"
      ]
     },
     "metadata": {},
     "output_type": "display_data"
    },
    {
     "data": {
      "text/plain": [
       "1    7055\n",
       "0    2945\n",
       "Name: HasCrCard, dtype: int64"
      ]
     },
     "metadata": {},
     "output_type": "display_data"
    },
    {
     "data": {
      "text/plain": [
       "1    5151\n",
       "0    4849\n",
       "Name: IsActiveMember, dtype: int64"
      ]
     },
     "metadata": {},
     "output_type": "display_data"
    },
    {
     "data": {
      "text/plain": [
       "0.0     1291\n",
       "1.0      952\n",
       "2.0      950\n",
       "8.0      933\n",
       "3.0      928\n",
       "5.0      927\n",
       "7.0      925\n",
       "4.0      885\n",
       "9.0      882\n",
       "6.0      881\n",
       "10.0     446\n",
       "Name: Tenure, dtype: int64"
      ]
     },
     "metadata": {},
     "output_type": "display_data"
    }
   ],
   "source": [
    "display(data['Gender'].value_counts())\n",
    "display(data['Geography'].value_counts())\n",
    "display(data['Age'].value_counts().head(10))\n",
    "display(data['NumOfProducts'].value_counts())\n",
    "display(data['HasCrCard'].value_counts())\n",
    "display(data['IsActiveMember'].value_counts())\n",
    "display(data['Tenure'].value_counts())"
   ]
  },
  {
   "cell_type": "markdown",
   "metadata": {},
   "source": [
    "Как можно заметить выше клиентов отказавшихся от услуг банка в 4 раза меньше, чем оставшихся. Стоит учесть это при построении моделей."
   ]
  },
  {
   "cell_type": "code",
   "execution_count": 24,
   "metadata": {},
   "outputs": [],
   "source": [
    "# Параметры № строки, айди клиента и Фамилия в нашем исследовнии роли не играет, удалим их\n",
    "data = data.drop(['RowNumber', 'CustomerId', 'Surname'], axis=1)"
   ]
  },
  {
   "cell_type": "code",
   "execution_count": 25,
   "metadata": {
    "scrolled": false
   },
   "outputs": [
    {
     "name": "stdout",
     "output_type": "stream",
     "text": [
      "<class 'pandas.core.frame.DataFrame'>\n",
      "RangeIndex: 10000 entries, 0 to 9999\n",
      "Data columns (total 11 columns):\n",
      " #   Column           Non-Null Count  Dtype  \n",
      "---  ------           --------------  -----  \n",
      " 0   CreditScore      10000 non-null  int64  \n",
      " 1   Geography        10000 non-null  object \n",
      " 2   Gender           10000 non-null  object \n",
      " 3   Age              10000 non-null  int64  \n",
      " 4   Tenure           10000 non-null  float64\n",
      " 5   Balance          10000 non-null  float64\n",
      " 6   NumOfProducts    10000 non-null  int64  \n",
      " 7   HasCrCard        10000 non-null  int64  \n",
      " 8   IsActiveMember   10000 non-null  int64  \n",
      " 9   EstimatedSalary  10000 non-null  float64\n",
      " 10  Exited           10000 non-null  int64  \n",
      "dtypes: float64(3), int64(6), object(2)\n",
      "memory usage: 859.5+ KB\n"
     ]
    }
   ],
   "source": [
    "data.info()"
   ]
  },
  {
   "cell_type": "code",
   "execution_count": 26,
   "metadata": {
    "scrolled": true
   },
   "outputs": [
    {
     "name": "stdout",
     "output_type": "stream",
     "text": [
      "Размер обучающей выборки: (6000, 10)\n",
      "Размер валидационной выборки: (2000, 10)\n",
      "Размер тестовой выборки: (2000, 10)\n"
     ]
    }
   ],
   "source": [
    "# Создадим обучающие и целевой признаки\n",
    "target = data['Exited']\n",
    "features = data.drop('Exited', axis=1)\n",
    "\n",
    "# Разделим данные на обучающую, валидационную и тестовую выборки в соотношении 3:1:1\n",
    "features_train, features_valid_test, target_train, target_valid_test = train_test_split(\n",
    "    features, target, test_size=0.4, random_state=12345)\n",
    "\n",
    "features_test, features_valid, target_test, target_valid = train_test_split(\n",
    "    features_valid_test, target_valid_test, test_size=0.5, random_state=12345)\n",
    "\n",
    "print('Размер обучающей выборки:', features_train.shape)\n",
    "print('Размер валидационной выборки:', features_valid.shape)\n",
    "print('Размер тестовой выборки:', features_test.shape)"
   ]
  },
  {
   "cell_type": "code",
   "execution_count": 27,
   "metadata": {},
   "outputs": [],
   "source": [
    "# Промасштабируем признаки\n",
    "numeric = [\"NumOfProducts\", \"Tenure\", \"Age\", \"CreditScore\", \"Balance\", \"EstimatedSalary\"]\n",
    "\n",
    "pd.options.mode.chained_assignment = None\n",
    "\n",
    "scaler = StandardScaler()\n",
    "scaler.fit(features_train[numeric])\n",
    "\n",
    "features_train[numeric] = scaler.transform(features_train[numeric])\n",
    "features_valid[numeric] = scaler.transform(features_valid[numeric])\n",
    "features_test[numeric] = scaler.transform(features_test[numeric])"
   ]
  },
  {
   "cell_type": "code",
   "execution_count": 72,
   "metadata": {
    "scrolled": false
   },
   "outputs": [
    {
     "data": {
      "text/html": [
       "<div>\n",
       "<style scoped>\n",
       "    .dataframe tbody tr th:only-of-type {\n",
       "        vertical-align: middle;\n",
       "    }\n",
       "\n",
       "    .dataframe tbody tr th {\n",
       "        vertical-align: top;\n",
       "    }\n",
       "\n",
       "    .dataframe thead th {\n",
       "        text-align: right;\n",
       "    }\n",
       "</style>\n",
       "<table border=\"1\" class=\"dataframe\">\n",
       "  <thead>\n",
       "    <tr style=\"text-align: right;\">\n",
       "      <th></th>\n",
       "      <th>France</th>\n",
       "      <th>Germany</th>\n",
       "      <th>Spain</th>\n",
       "      <th>Female</th>\n",
       "      <th>Male</th>\n",
       "    </tr>\n",
       "  </thead>\n",
       "  <tbody>\n",
       "    <tr>\n",
       "      <th>0</th>\n",
       "      <td>0.0</td>\n",
       "      <td>0.0</td>\n",
       "      <td>1.0</td>\n",
       "      <td>0.0</td>\n",
       "      <td>1.0</td>\n",
       "    </tr>\n",
       "    <tr>\n",
       "      <th>1</th>\n",
       "      <td>1.0</td>\n",
       "      <td>0.0</td>\n",
       "      <td>0.0</td>\n",
       "      <td>1.0</td>\n",
       "      <td>0.0</td>\n",
       "    </tr>\n",
       "    <tr>\n",
       "      <th>2</th>\n",
       "      <td>0.0</td>\n",
       "      <td>1.0</td>\n",
       "      <td>0.0</td>\n",
       "      <td>0.0</td>\n",
       "      <td>1.0</td>\n",
       "    </tr>\n",
       "    <tr>\n",
       "      <th>3</th>\n",
       "      <td>1.0</td>\n",
       "      <td>0.0</td>\n",
       "      <td>0.0</td>\n",
       "      <td>0.0</td>\n",
       "      <td>1.0</td>\n",
       "    </tr>\n",
       "    <tr>\n",
       "      <th>4</th>\n",
       "      <td>0.0</td>\n",
       "      <td>1.0</td>\n",
       "      <td>0.0</td>\n",
       "      <td>1.0</td>\n",
       "      <td>0.0</td>\n",
       "    </tr>\n",
       "    <tr>\n",
       "      <th>...</th>\n",
       "      <td>...</td>\n",
       "      <td>...</td>\n",
       "      <td>...</td>\n",
       "      <td>...</td>\n",
       "      <td>...</td>\n",
       "    </tr>\n",
       "    <tr>\n",
       "      <th>5995</th>\n",
       "      <td>1.0</td>\n",
       "      <td>0.0</td>\n",
       "      <td>0.0</td>\n",
       "      <td>0.0</td>\n",
       "      <td>1.0</td>\n",
       "    </tr>\n",
       "    <tr>\n",
       "      <th>5996</th>\n",
       "      <td>1.0</td>\n",
       "      <td>0.0</td>\n",
       "      <td>0.0</td>\n",
       "      <td>0.0</td>\n",
       "      <td>1.0</td>\n",
       "    </tr>\n",
       "    <tr>\n",
       "      <th>5997</th>\n",
       "      <td>1.0</td>\n",
       "      <td>0.0</td>\n",
       "      <td>0.0</td>\n",
       "      <td>1.0</td>\n",
       "      <td>0.0</td>\n",
       "    </tr>\n",
       "    <tr>\n",
       "      <th>5998</th>\n",
       "      <td>1.0</td>\n",
       "      <td>0.0</td>\n",
       "      <td>0.0</td>\n",
       "      <td>1.0</td>\n",
       "      <td>0.0</td>\n",
       "    </tr>\n",
       "    <tr>\n",
       "      <th>5999</th>\n",
       "      <td>1.0</td>\n",
       "      <td>0.0</td>\n",
       "      <td>0.0</td>\n",
       "      <td>0.0</td>\n",
       "      <td>1.0</td>\n",
       "    </tr>\n",
       "  </tbody>\n",
       "</table>\n",
       "<p>6000 rows × 5 columns</p>\n",
       "</div>"
      ],
      "text/plain": [
       "      France  Germany  Spain  Female  Male\n",
       "0        0.0      0.0    1.0     0.0   1.0\n",
       "1        1.0      0.0    0.0     1.0   0.0\n",
       "2        0.0      1.0    0.0     0.0   1.0\n",
       "3        1.0      0.0    0.0     0.0   1.0\n",
       "4        0.0      1.0    0.0     1.0   0.0\n",
       "...      ...      ...    ...     ...   ...\n",
       "5995     1.0      0.0    0.0     0.0   1.0\n",
       "5996     1.0      0.0    0.0     0.0   1.0\n",
       "5997     1.0      0.0    0.0     1.0   0.0\n",
       "5998     1.0      0.0    0.0     1.0   0.0\n",
       "5999     1.0      0.0    0.0     0.0   1.0\n",
       "\n",
       "[6000 rows x 5 columns]"
      ]
     },
     "metadata": {},
     "output_type": "display_data"
    },
    {
     "data": {
      "text/html": [
       "<div>\n",
       "<style scoped>\n",
       "    .dataframe tbody tr th:only-of-type {\n",
       "        vertical-align: middle;\n",
       "    }\n",
       "\n",
       "    .dataframe tbody tr th {\n",
       "        vertical-align: top;\n",
       "    }\n",
       "\n",
       "    .dataframe thead th {\n",
       "        text-align: right;\n",
       "    }\n",
       "</style>\n",
       "<table border=\"1\" class=\"dataframe\">\n",
       "  <thead>\n",
       "    <tr style=\"text-align: right;\">\n",
       "      <th></th>\n",
       "      <th>CreditScore</th>\n",
       "      <th>Age</th>\n",
       "      <th>Tenure</th>\n",
       "      <th>Balance</th>\n",
       "      <th>NumOfProducts</th>\n",
       "      <th>HasCrCard</th>\n",
       "      <th>IsActiveMember</th>\n",
       "      <th>EstimatedSalary</th>\n",
       "      <th>France</th>\n",
       "      <th>Germany</th>\n",
       "      <th>Female</th>\n",
       "    </tr>\n",
       "  </thead>\n",
       "  <tbody>\n",
       "    <tr>\n",
       "      <th>0</th>\n",
       "      <td>-0.886751</td>\n",
       "      <td>-0.373192</td>\n",
       "      <td>1.104696</td>\n",
       "      <td>1.232271</td>\n",
       "      <td>-0.891560</td>\n",
       "      <td>1</td>\n",
       "      <td>0</td>\n",
       "      <td>-0.187705</td>\n",
       "      <td>0.0</td>\n",
       "      <td>0.0</td>\n",
       "      <td>0.0</td>\n",
       "    </tr>\n",
       "    <tr>\n",
       "      <th>1</th>\n",
       "      <td>0.608663</td>\n",
       "      <td>-0.183385</td>\n",
       "      <td>1.104696</td>\n",
       "      <td>0.600563</td>\n",
       "      <td>-0.891560</td>\n",
       "      <td>0</td>\n",
       "      <td>0</td>\n",
       "      <td>-0.333945</td>\n",
       "      <td>1.0</td>\n",
       "      <td>0.0</td>\n",
       "      <td>1.0</td>\n",
       "    </tr>\n",
       "    <tr>\n",
       "      <th>2</th>\n",
       "      <td>2.052152</td>\n",
       "      <td>0.480939</td>\n",
       "      <td>-0.503694</td>\n",
       "      <td>1.027098</td>\n",
       "      <td>0.830152</td>\n",
       "      <td>0</td>\n",
       "      <td>1</td>\n",
       "      <td>1.503095</td>\n",
       "      <td>0.0</td>\n",
       "      <td>1.0</td>\n",
       "      <td>0.0</td>\n",
       "    </tr>\n",
       "    <tr>\n",
       "      <th>3</th>\n",
       "      <td>-1.457915</td>\n",
       "      <td>-1.417129</td>\n",
       "      <td>0.461340</td>\n",
       "      <td>-1.233163</td>\n",
       "      <td>0.830152</td>\n",
       "      <td>1</td>\n",
       "      <td>0</td>\n",
       "      <td>-1.071061</td>\n",
       "      <td>1.0</td>\n",
       "      <td>0.0</td>\n",
       "      <td>0.0</td>\n",
       "    </tr>\n",
       "    <tr>\n",
       "      <th>4</th>\n",
       "      <td>0.130961</td>\n",
       "      <td>-1.132419</td>\n",
       "      <td>-0.825373</td>\n",
       "      <td>1.140475</td>\n",
       "      <td>-0.891560</td>\n",
       "      <td>0</td>\n",
       "      <td>0</td>\n",
       "      <td>1.524268</td>\n",
       "      <td>0.0</td>\n",
       "      <td>1.0</td>\n",
       "      <td>1.0</td>\n",
       "    </tr>\n",
       "    <tr>\n",
       "      <th>...</th>\n",
       "      <td>...</td>\n",
       "      <td>...</td>\n",
       "      <td>...</td>\n",
       "      <td>...</td>\n",
       "      <td>...</td>\n",
       "      <td>...</td>\n",
       "      <td>...</td>\n",
       "      <td>...</td>\n",
       "      <td>...</td>\n",
       "      <td>...</td>\n",
       "      <td>...</td>\n",
       "    </tr>\n",
       "    <tr>\n",
       "      <th>5995</th>\n",
       "      <td>-1.073677</td>\n",
       "      <td>-0.752805</td>\n",
       "      <td>-0.182016</td>\n",
       "      <td>-1.233163</td>\n",
       "      <td>0.830152</td>\n",
       "      <td>0</td>\n",
       "      <td>1</td>\n",
       "      <td>-1.278361</td>\n",
       "      <td>1.0</td>\n",
       "      <td>0.0</td>\n",
       "      <td>0.0</td>\n",
       "    </tr>\n",
       "    <tr>\n",
       "      <th>5996</th>\n",
       "      <td>-1.447531</td>\n",
       "      <td>-0.942612</td>\n",
       "      <td>1.748053</td>\n",
       "      <td>-1.233163</td>\n",
       "      <td>0.830152</td>\n",
       "      <td>0</td>\n",
       "      <td>1</td>\n",
       "      <td>-1.281307</td>\n",
       "      <td>1.0</td>\n",
       "      <td>0.0</td>\n",
       "      <td>0.0</td>\n",
       "    </tr>\n",
       "    <tr>\n",
       "      <th>5997</th>\n",
       "      <td>0.027113</td>\n",
       "      <td>0.575842</td>\n",
       "      <td>-1.468729</td>\n",
       "      <td>-0.310229</td>\n",
       "      <td>-0.891560</td>\n",
       "      <td>0</td>\n",
       "      <td>1</td>\n",
       "      <td>-0.903158</td>\n",
       "      <td>1.0</td>\n",
       "      <td>0.0</td>\n",
       "      <td>1.0</td>\n",
       "    </tr>\n",
       "    <tr>\n",
       "      <th>5998</th>\n",
       "      <td>0.151731</td>\n",
       "      <td>-1.417129</td>\n",
       "      <td>-0.182016</td>\n",
       "      <td>-1.233163</td>\n",
       "      <td>0.830152</td>\n",
       "      <td>0</td>\n",
       "      <td>1</td>\n",
       "      <td>-1.128539</td>\n",
       "      <td>1.0</td>\n",
       "      <td>0.0</td>\n",
       "      <td>1.0</td>\n",
       "    </tr>\n",
       "    <tr>\n",
       "      <th>5999</th>\n",
       "      <td>0.400966</td>\n",
       "      <td>-0.088482</td>\n",
       "      <td>-1.147051</td>\n",
       "      <td>-1.233163</td>\n",
       "      <td>0.830152</td>\n",
       "      <td>0</td>\n",
       "      <td>0</td>\n",
       "      <td>-0.949841</td>\n",
       "      <td>1.0</td>\n",
       "      <td>0.0</td>\n",
       "      <td>0.0</td>\n",
       "    </tr>\n",
       "  </tbody>\n",
       "</table>\n",
       "<p>6000 rows × 11 columns</p>\n",
       "</div>"
      ],
      "text/plain": [
       "      CreditScore       Age    Tenure   Balance  NumOfProducts  HasCrCard  \\\n",
       "0       -0.886751 -0.373192  1.104696  1.232271      -0.891560          1   \n",
       "1        0.608663 -0.183385  1.104696  0.600563      -0.891560          0   \n",
       "2        2.052152  0.480939 -0.503694  1.027098       0.830152          0   \n",
       "3       -1.457915 -1.417129  0.461340 -1.233163       0.830152          1   \n",
       "4        0.130961 -1.132419 -0.825373  1.140475      -0.891560          0   \n",
       "...           ...       ...       ...       ...            ...        ...   \n",
       "5995    -1.073677 -0.752805 -0.182016 -1.233163       0.830152          0   \n",
       "5996    -1.447531 -0.942612  1.748053 -1.233163       0.830152          0   \n",
       "5997     0.027113  0.575842 -1.468729 -0.310229      -0.891560          0   \n",
       "5998     0.151731 -1.417129 -0.182016 -1.233163       0.830152          0   \n",
       "5999     0.400966 -0.088482 -1.147051 -1.233163       0.830152          0   \n",
       "\n",
       "      IsActiveMember  EstimatedSalary  France  Germany  Female  \n",
       "0                  0        -0.187705     0.0      0.0     0.0  \n",
       "1                  0        -0.333945     1.0      0.0     1.0  \n",
       "2                  1         1.503095     0.0      1.0     0.0  \n",
       "3                  0        -1.071061     1.0      0.0     0.0  \n",
       "4                  0         1.524268     0.0      1.0     1.0  \n",
       "...              ...              ...     ...      ...     ...  \n",
       "5995               1        -1.278361     1.0      0.0     0.0  \n",
       "5996               1        -1.281307     1.0      0.0     0.0  \n",
       "5997               1        -0.903158     1.0      0.0     1.0  \n",
       "5998               1        -1.128539     1.0      0.0     1.0  \n",
       "5999               0        -0.949841     1.0      0.0     0.0  \n",
       "\n",
       "[6000 rows x 11 columns]"
      ]
     },
     "execution_count": 72,
     "metadata": {},
     "output_type": "execute_result"
    }
   ],
   "source": [
    "# Применим к обучающей выборке прямое кодирование, \n",
    "# чтобы преобразовать категориальные признаки в численные\n",
    "features_train = features_train.reset_index(drop=True)\n",
    "target_train = target_train.reset_index(drop=True)\n",
    "enc = OneHotEncoder()\n",
    "enc.fit(features_train[['Geography', 'Gender']])\n",
    "feature_labels = enc.categories_\n",
    "feature_labels = ['France', 'Germany', 'Spain', 'Female', 'Male']\n",
    "train_array = enc.transform(features_train[['Geography', 'Gender']]).toarray()\n",
    "train_encoded = pd.DataFrame(train_array, columns=feature_labels)\n",
    "display(train_encoded)\n",
    "features_train = pd.concat([features_train, train_encoded], axis=1)\n",
    "features_train = features_train.drop(['Geography', 'Gender', 'Spain', 'Male'], axis=1)\n",
    "features_train"
   ]
  },
  {
   "cell_type": "code",
   "execution_count": 73,
   "metadata": {},
   "outputs": [
    {
     "data": {
      "text/html": [
       "<div>\n",
       "<style scoped>\n",
       "    .dataframe tbody tr th:only-of-type {\n",
       "        vertical-align: middle;\n",
       "    }\n",
       "\n",
       "    .dataframe tbody tr th {\n",
       "        vertical-align: top;\n",
       "    }\n",
       "\n",
       "    .dataframe thead th {\n",
       "        text-align: right;\n",
       "    }\n",
       "</style>\n",
       "<table border=\"1\" class=\"dataframe\">\n",
       "  <thead>\n",
       "    <tr style=\"text-align: right;\">\n",
       "      <th></th>\n",
       "      <th>CreditScore</th>\n",
       "      <th>Age</th>\n",
       "      <th>Tenure</th>\n",
       "      <th>Balance</th>\n",
       "      <th>NumOfProducts</th>\n",
       "      <th>HasCrCard</th>\n",
       "      <th>IsActiveMember</th>\n",
       "      <th>EstimatedSalary</th>\n",
       "      <th>France</th>\n",
       "      <th>Germany</th>\n",
       "      <th>Female</th>\n",
       "    </tr>\n",
       "  </thead>\n",
       "  <tbody>\n",
       "    <tr>\n",
       "      <th>0</th>\n",
       "      <td>-0.886751</td>\n",
       "      <td>-0.373192</td>\n",
       "      <td>1.104696</td>\n",
       "      <td>1.232271</td>\n",
       "      <td>-0.891560</td>\n",
       "      <td>1</td>\n",
       "      <td>0</td>\n",
       "      <td>-0.187705</td>\n",
       "      <td>0.0</td>\n",
       "      <td>0.0</td>\n",
       "      <td>0.0</td>\n",
       "    </tr>\n",
       "    <tr>\n",
       "      <th>1</th>\n",
       "      <td>0.608663</td>\n",
       "      <td>-0.183385</td>\n",
       "      <td>1.104696</td>\n",
       "      <td>0.600563</td>\n",
       "      <td>-0.891560</td>\n",
       "      <td>0</td>\n",
       "      <td>0</td>\n",
       "      <td>-0.333945</td>\n",
       "      <td>1.0</td>\n",
       "      <td>0.0</td>\n",
       "      <td>1.0</td>\n",
       "    </tr>\n",
       "    <tr>\n",
       "      <th>2</th>\n",
       "      <td>2.052152</td>\n",
       "      <td>0.480939</td>\n",
       "      <td>-0.503694</td>\n",
       "      <td>1.027098</td>\n",
       "      <td>0.830152</td>\n",
       "      <td>0</td>\n",
       "      <td>1</td>\n",
       "      <td>1.503095</td>\n",
       "      <td>0.0</td>\n",
       "      <td>1.0</td>\n",
       "      <td>0.0</td>\n",
       "    </tr>\n",
       "    <tr>\n",
       "      <th>3</th>\n",
       "      <td>-1.457915</td>\n",
       "      <td>-1.417129</td>\n",
       "      <td>0.461340</td>\n",
       "      <td>-1.233163</td>\n",
       "      <td>0.830152</td>\n",
       "      <td>1</td>\n",
       "      <td>0</td>\n",
       "      <td>-1.071061</td>\n",
       "      <td>1.0</td>\n",
       "      <td>0.0</td>\n",
       "      <td>0.0</td>\n",
       "    </tr>\n",
       "    <tr>\n",
       "      <th>4</th>\n",
       "      <td>0.130961</td>\n",
       "      <td>-1.132419</td>\n",
       "      <td>-0.825373</td>\n",
       "      <td>1.140475</td>\n",
       "      <td>-0.891560</td>\n",
       "      <td>0</td>\n",
       "      <td>0</td>\n",
       "      <td>1.524268</td>\n",
       "      <td>0.0</td>\n",
       "      <td>1.0</td>\n",
       "      <td>1.0</td>\n",
       "    </tr>\n",
       "    <tr>\n",
       "      <th>...</th>\n",
       "      <td>...</td>\n",
       "      <td>...</td>\n",
       "      <td>...</td>\n",
       "      <td>...</td>\n",
       "      <td>...</td>\n",
       "      <td>...</td>\n",
       "      <td>...</td>\n",
       "      <td>...</td>\n",
       "      <td>...</td>\n",
       "      <td>...</td>\n",
       "      <td>...</td>\n",
       "    </tr>\n",
       "    <tr>\n",
       "      <th>5995</th>\n",
       "      <td>-1.073677</td>\n",
       "      <td>-0.752805</td>\n",
       "      <td>-0.182016</td>\n",
       "      <td>-1.233163</td>\n",
       "      <td>0.830152</td>\n",
       "      <td>0</td>\n",
       "      <td>1</td>\n",
       "      <td>-1.278361</td>\n",
       "      <td>1.0</td>\n",
       "      <td>0.0</td>\n",
       "      <td>0.0</td>\n",
       "    </tr>\n",
       "    <tr>\n",
       "      <th>5996</th>\n",
       "      <td>-1.447531</td>\n",
       "      <td>-0.942612</td>\n",
       "      <td>1.748053</td>\n",
       "      <td>-1.233163</td>\n",
       "      <td>0.830152</td>\n",
       "      <td>0</td>\n",
       "      <td>1</td>\n",
       "      <td>-1.281307</td>\n",
       "      <td>1.0</td>\n",
       "      <td>0.0</td>\n",
       "      <td>0.0</td>\n",
       "    </tr>\n",
       "    <tr>\n",
       "      <th>5997</th>\n",
       "      <td>0.027113</td>\n",
       "      <td>0.575842</td>\n",
       "      <td>-1.468729</td>\n",
       "      <td>-0.310229</td>\n",
       "      <td>-0.891560</td>\n",
       "      <td>0</td>\n",
       "      <td>1</td>\n",
       "      <td>-0.903158</td>\n",
       "      <td>1.0</td>\n",
       "      <td>0.0</td>\n",
       "      <td>1.0</td>\n",
       "    </tr>\n",
       "    <tr>\n",
       "      <th>5998</th>\n",
       "      <td>0.151731</td>\n",
       "      <td>-1.417129</td>\n",
       "      <td>-0.182016</td>\n",
       "      <td>-1.233163</td>\n",
       "      <td>0.830152</td>\n",
       "      <td>0</td>\n",
       "      <td>1</td>\n",
       "      <td>-1.128539</td>\n",
       "      <td>1.0</td>\n",
       "      <td>0.0</td>\n",
       "      <td>1.0</td>\n",
       "    </tr>\n",
       "    <tr>\n",
       "      <th>5999</th>\n",
       "      <td>0.400966</td>\n",
       "      <td>-0.088482</td>\n",
       "      <td>-1.147051</td>\n",
       "      <td>-1.233163</td>\n",
       "      <td>0.830152</td>\n",
       "      <td>0</td>\n",
       "      <td>0</td>\n",
       "      <td>-0.949841</td>\n",
       "      <td>1.0</td>\n",
       "      <td>0.0</td>\n",
       "      <td>0.0</td>\n",
       "    </tr>\n",
       "  </tbody>\n",
       "</table>\n",
       "<p>6000 rows × 11 columns</p>\n",
       "</div>"
      ],
      "text/plain": [
       "      CreditScore       Age    Tenure   Balance  NumOfProducts  HasCrCard  \\\n",
       "0       -0.886751 -0.373192  1.104696  1.232271      -0.891560          1   \n",
       "1        0.608663 -0.183385  1.104696  0.600563      -0.891560          0   \n",
       "2        2.052152  0.480939 -0.503694  1.027098       0.830152          0   \n",
       "3       -1.457915 -1.417129  0.461340 -1.233163       0.830152          1   \n",
       "4        0.130961 -1.132419 -0.825373  1.140475      -0.891560          0   \n",
       "...           ...       ...       ...       ...            ...        ...   \n",
       "5995    -1.073677 -0.752805 -0.182016 -1.233163       0.830152          0   \n",
       "5996    -1.447531 -0.942612  1.748053 -1.233163       0.830152          0   \n",
       "5997     0.027113  0.575842 -1.468729 -0.310229      -0.891560          0   \n",
       "5998     0.151731 -1.417129 -0.182016 -1.233163       0.830152          0   \n",
       "5999     0.400966 -0.088482 -1.147051 -1.233163       0.830152          0   \n",
       "\n",
       "      IsActiveMember  EstimatedSalary  France  Germany  Female  \n",
       "0                  0        -0.187705     0.0      0.0     0.0  \n",
       "1                  0        -0.333945     1.0      0.0     1.0  \n",
       "2                  1         1.503095     0.0      1.0     0.0  \n",
       "3                  0        -1.071061     1.0      0.0     0.0  \n",
       "4                  0         1.524268     0.0      1.0     1.0  \n",
       "...              ...              ...     ...      ...     ...  \n",
       "5995               1        -1.278361     1.0      0.0     0.0  \n",
       "5996               1        -1.281307     1.0      0.0     0.0  \n",
       "5997               1        -0.903158     1.0      0.0     1.0  \n",
       "5998               1        -1.128539     1.0      0.0     1.0  \n",
       "5999               0        -0.949841     1.0      0.0     0.0  \n",
       "\n",
       "[6000 rows x 11 columns]"
      ]
     },
     "execution_count": 73,
     "metadata": {},
     "output_type": "execute_result"
    }
   ],
   "source": [
    "features_train"
   ]
  },
  {
   "cell_type": "code",
   "execution_count": 74,
   "metadata": {},
   "outputs": [
    {
     "data": {
      "text/html": [
       "<div>\n",
       "<style scoped>\n",
       "    .dataframe tbody tr th:only-of-type {\n",
       "        vertical-align: middle;\n",
       "    }\n",
       "\n",
       "    .dataframe tbody tr th {\n",
       "        vertical-align: top;\n",
       "    }\n",
       "\n",
       "    .dataframe thead th {\n",
       "        text-align: right;\n",
       "    }\n",
       "</style>\n",
       "<table border=\"1\" class=\"dataframe\">\n",
       "  <thead>\n",
       "    <tr style=\"text-align: right;\">\n",
       "      <th></th>\n",
       "      <th>CreditScore</th>\n",
       "      <th>Age</th>\n",
       "      <th>Tenure</th>\n",
       "      <th>Balance</th>\n",
       "      <th>NumOfProducts</th>\n",
       "      <th>HasCrCard</th>\n",
       "      <th>IsActiveMember</th>\n",
       "      <th>EstimatedSalary</th>\n",
       "      <th>France</th>\n",
       "      <th>Germany</th>\n",
       "      <th>Female</th>\n",
       "    </tr>\n",
       "  </thead>\n",
       "  <tbody>\n",
       "    <tr>\n",
       "      <th>0</th>\n",
       "      <td>-2.226392</td>\n",
       "      <td>-0.088482</td>\n",
       "      <td>-0.825373</td>\n",
       "      <td>-1.233163</td>\n",
       "      <td>0.830152</td>\n",
       "      <td>1</td>\n",
       "      <td>0</td>\n",
       "      <td>0.647083</td>\n",
       "      <td>1.0</td>\n",
       "      <td>0.0</td>\n",
       "      <td>0.0</td>\n",
       "    </tr>\n",
       "    <tr>\n",
       "      <th>1</th>\n",
       "      <td>-0.087120</td>\n",
       "      <td>0.006422</td>\n",
       "      <td>1.426375</td>\n",
       "      <td>-1.233163</td>\n",
       "      <td>-0.891560</td>\n",
       "      <td>1</td>\n",
       "      <td>0</td>\n",
       "      <td>-1.658410</td>\n",
       "      <td>1.0</td>\n",
       "      <td>0.0</td>\n",
       "      <td>1.0</td>\n",
       "    </tr>\n",
       "    <tr>\n",
       "      <th>2</th>\n",
       "      <td>-0.917905</td>\n",
       "      <td>-0.752805</td>\n",
       "      <td>0.139662</td>\n",
       "      <td>0.722307</td>\n",
       "      <td>-0.891560</td>\n",
       "      <td>1</td>\n",
       "      <td>1</td>\n",
       "      <td>-1.369334</td>\n",
       "      <td>0.0</td>\n",
       "      <td>0.0</td>\n",
       "      <td>0.0</td>\n",
       "    </tr>\n",
       "    <tr>\n",
       "      <th>3</th>\n",
       "      <td>-0.253277</td>\n",
       "      <td>0.101325</td>\n",
       "      <td>1.748053</td>\n",
       "      <td>-1.233163</td>\n",
       "      <td>0.830152</td>\n",
       "      <td>1</td>\n",
       "      <td>0</td>\n",
       "      <td>0.075086</td>\n",
       "      <td>0.0</td>\n",
       "      <td>0.0</td>\n",
       "      <td>0.0</td>\n",
       "    </tr>\n",
       "    <tr>\n",
       "      <th>4</th>\n",
       "      <td>0.785204</td>\n",
       "      <td>-0.847708</td>\n",
       "      <td>1.748053</td>\n",
       "      <td>0.615625</td>\n",
       "      <td>-0.891560</td>\n",
       "      <td>0</td>\n",
       "      <td>1</td>\n",
       "      <td>-1.070919</td>\n",
       "      <td>1.0</td>\n",
       "      <td>0.0</td>\n",
       "      <td>0.0</td>\n",
       "    </tr>\n",
       "    <tr>\n",
       "      <th>...</th>\n",
       "      <td>...</td>\n",
       "      <td>...</td>\n",
       "      <td>...</td>\n",
       "      <td>...</td>\n",
       "      <td>...</td>\n",
       "      <td>...</td>\n",
       "      <td>...</td>\n",
       "      <td>...</td>\n",
       "      <td>...</td>\n",
       "      <td>...</td>\n",
       "      <td>...</td>\n",
       "    </tr>\n",
       "    <tr>\n",
       "      <th>1995</th>\n",
       "      <td>0.878668</td>\n",
       "      <td>1.050359</td>\n",
       "      <td>-0.182016</td>\n",
       "      <td>0.820368</td>\n",
       "      <td>0.830152</td>\n",
       "      <td>1</td>\n",
       "      <td>0</td>\n",
       "      <td>-1.650024</td>\n",
       "      <td>0.0</td>\n",
       "      <td>1.0</td>\n",
       "      <td>0.0</td>\n",
       "    </tr>\n",
       "    <tr>\n",
       "      <th>1996</th>\n",
       "      <td>1.802916</td>\n",
       "      <td>-1.227322</td>\n",
       "      <td>0.139662</td>\n",
       "      <td>1.063628</td>\n",
       "      <td>-0.891560</td>\n",
       "      <td>0</td>\n",
       "      <td>0</td>\n",
       "      <td>-0.679113</td>\n",
       "      <td>1.0</td>\n",
       "      <td>0.0</td>\n",
       "      <td>0.0</td>\n",
       "    </tr>\n",
       "    <tr>\n",
       "      <th>1997</th>\n",
       "      <td>-0.004041</td>\n",
       "      <td>-0.183385</td>\n",
       "      <td>-0.182016</td>\n",
       "      <td>-1.233163</td>\n",
       "      <td>0.830152</td>\n",
       "      <td>1</td>\n",
       "      <td>0</td>\n",
       "      <td>0.760240</td>\n",
       "      <td>1.0</td>\n",
       "      <td>0.0</td>\n",
       "      <td>1.0</td>\n",
       "    </tr>\n",
       "    <tr>\n",
       "      <th>1998</th>\n",
       "      <td>-0.460973</td>\n",
       "      <td>0.575842</td>\n",
       "      <td>-0.182016</td>\n",
       "      <td>-1.233163</td>\n",
       "      <td>0.830152</td>\n",
       "      <td>0</td>\n",
       "      <td>0</td>\n",
       "      <td>-1.087632</td>\n",
       "      <td>0.0</td>\n",
       "      <td>0.0</td>\n",
       "      <td>0.0</td>\n",
       "    </tr>\n",
       "    <tr>\n",
       "      <th>1999</th>\n",
       "      <td>-0.128659</td>\n",
       "      <td>3.328040</td>\n",
       "      <td>-0.825373</td>\n",
       "      <td>0.647257</td>\n",
       "      <td>-0.891560</td>\n",
       "      <td>1</td>\n",
       "      <td>1</td>\n",
       "      <td>-1.132091</td>\n",
       "      <td>0.0</td>\n",
       "      <td>1.0</td>\n",
       "      <td>1.0</td>\n",
       "    </tr>\n",
       "  </tbody>\n",
       "</table>\n",
       "<p>2000 rows × 11 columns</p>\n",
       "</div>"
      ],
      "text/plain": [
       "      CreditScore       Age    Tenure   Balance  NumOfProducts  HasCrCard  \\\n",
       "0       -2.226392 -0.088482 -0.825373 -1.233163       0.830152          1   \n",
       "1       -0.087120  0.006422  1.426375 -1.233163      -0.891560          1   \n",
       "2       -0.917905 -0.752805  0.139662  0.722307      -0.891560          1   \n",
       "3       -0.253277  0.101325  1.748053 -1.233163       0.830152          1   \n",
       "4        0.785204 -0.847708  1.748053  0.615625      -0.891560          0   \n",
       "...           ...       ...       ...       ...            ...        ...   \n",
       "1995     0.878668  1.050359 -0.182016  0.820368       0.830152          1   \n",
       "1996     1.802916 -1.227322  0.139662  1.063628      -0.891560          0   \n",
       "1997    -0.004041 -0.183385 -0.182016 -1.233163       0.830152          1   \n",
       "1998    -0.460973  0.575842 -0.182016 -1.233163       0.830152          0   \n",
       "1999    -0.128659  3.328040 -0.825373  0.647257      -0.891560          1   \n",
       "\n",
       "      IsActiveMember  EstimatedSalary  France  Germany  Female  \n",
       "0                  0         0.647083     1.0      0.0     0.0  \n",
       "1                  0        -1.658410     1.0      0.0     1.0  \n",
       "2                  1        -1.369334     0.0      0.0     0.0  \n",
       "3                  0         0.075086     0.0      0.0     0.0  \n",
       "4                  1        -1.070919     1.0      0.0     0.0  \n",
       "...              ...              ...     ...      ...     ...  \n",
       "1995               0        -1.650024     0.0      1.0     0.0  \n",
       "1996               0        -0.679113     1.0      0.0     0.0  \n",
       "1997               0         0.760240     1.0      0.0     1.0  \n",
       "1998               0        -1.087632     0.0      0.0     0.0  \n",
       "1999               1        -1.132091     0.0      1.0     1.0  \n",
       "\n",
       "[2000 rows x 11 columns]"
      ]
     },
     "execution_count": 74,
     "metadata": {},
     "output_type": "execute_result"
    }
   ],
   "source": [
    "features_valid = features_valid.reset_index(drop=True)\n",
    "target_valid = target_valid.reset_index(drop=True)\n",
    "feature_labels = ['France', 'Germany', 'Spain', 'Female', 'Male']\n",
    "valid_array = enc.transform(features_valid[['Geography', 'Gender']]).toarray()\n",
    "valid_encoded = pd.DataFrame(valid_array, columns=feature_labels)\n",
    "features_valid = pd.concat([features_valid, valid_encoded], axis=1)\n",
    "features_valid = features_valid.drop(['Geography', 'Gender', 'Spain', 'Male'], axis=1)\n",
    "features_valid"
   ]
  },
  {
   "cell_type": "code",
   "execution_count": 75,
   "metadata": {},
   "outputs": [
    {
     "data": {
      "text/html": [
       "<div>\n",
       "<style scoped>\n",
       "    .dataframe tbody tr th:only-of-type {\n",
       "        vertical-align: middle;\n",
       "    }\n",
       "\n",
       "    .dataframe tbody tr th {\n",
       "        vertical-align: top;\n",
       "    }\n",
       "\n",
       "    .dataframe thead th {\n",
       "        text-align: right;\n",
       "    }\n",
       "</style>\n",
       "<table border=\"1\" class=\"dataframe\">\n",
       "  <thead>\n",
       "    <tr style=\"text-align: right;\">\n",
       "      <th></th>\n",
       "      <th>CreditScore</th>\n",
       "      <th>Age</th>\n",
       "      <th>Tenure</th>\n",
       "      <th>Balance</th>\n",
       "      <th>NumOfProducts</th>\n",
       "      <th>HasCrCard</th>\n",
       "      <th>IsActiveMember</th>\n",
       "      <th>EstimatedSalary</th>\n",
       "      <th>France</th>\n",
       "      <th>Germany</th>\n",
       "      <th>Female</th>\n",
       "    </tr>\n",
       "  </thead>\n",
       "  <tbody>\n",
       "    <tr>\n",
       "      <th>0</th>\n",
       "      <td>-0.699824</td>\n",
       "      <td>-0.373192</td>\n",
       "      <td>-0.825373</td>\n",
       "      <td>-1.233163</td>\n",
       "      <td>0.830152</td>\n",
       "      <td>1</td>\n",
       "      <td>0</td>\n",
       "      <td>-0.015173</td>\n",
       "      <td>1.0</td>\n",
       "      <td>0.0</td>\n",
       "      <td>1.0</td>\n",
       "    </tr>\n",
       "    <tr>\n",
       "      <th>1</th>\n",
       "      <td>-0.284431</td>\n",
       "      <td>0.575842</td>\n",
       "      <td>-0.503694</td>\n",
       "      <td>-1.233163</td>\n",
       "      <td>-0.891560</td>\n",
       "      <td>1</td>\n",
       "      <td>1</td>\n",
       "      <td>1.471724</td>\n",
       "      <td>1.0</td>\n",
       "      <td>0.0</td>\n",
       "      <td>1.0</td>\n",
       "    </tr>\n",
       "    <tr>\n",
       "      <th>2</th>\n",
       "      <td>0.151731</td>\n",
       "      <td>-0.657902</td>\n",
       "      <td>-1.468729</td>\n",
       "      <td>0.438711</td>\n",
       "      <td>-0.891560</td>\n",
       "      <td>1</td>\n",
       "      <td>0</td>\n",
       "      <td>-1.367107</td>\n",
       "      <td>0.0</td>\n",
       "      <td>1.0</td>\n",
       "      <td>0.0</td>\n",
       "    </tr>\n",
       "    <tr>\n",
       "      <th>3</th>\n",
       "      <td>-0.876366</td>\n",
       "      <td>-0.278288</td>\n",
       "      <td>1.748053</td>\n",
       "      <td>1.239884</td>\n",
       "      <td>-0.891560</td>\n",
       "      <td>1</td>\n",
       "      <td>1</td>\n",
       "      <td>-0.786517</td>\n",
       "      <td>0.0</td>\n",
       "      <td>0.0</td>\n",
       "      <td>1.0</td>\n",
       "    </tr>\n",
       "    <tr>\n",
       "      <th>4</th>\n",
       "      <td>-0.481743</td>\n",
       "      <td>0.291132</td>\n",
       "      <td>1.748053</td>\n",
       "      <td>-1.233163</td>\n",
       "      <td>0.830152</td>\n",
       "      <td>1</td>\n",
       "      <td>0</td>\n",
       "      <td>1.358533</td>\n",
       "      <td>0.0</td>\n",
       "      <td>0.0</td>\n",
       "      <td>0.0</td>\n",
       "    </tr>\n",
       "    <tr>\n",
       "      <th>...</th>\n",
       "      <td>...</td>\n",
       "      <td>...</td>\n",
       "      <td>...</td>\n",
       "      <td>...</td>\n",
       "      <td>...</td>\n",
       "      <td>...</td>\n",
       "      <td>...</td>\n",
       "      <td>...</td>\n",
       "      <td>...</td>\n",
       "      <td>...</td>\n",
       "      <td>...</td>\n",
       "    </tr>\n",
       "    <tr>\n",
       "      <th>1995</th>\n",
       "      <td>0.276349</td>\n",
       "      <td>-1.417129</td>\n",
       "      <td>0.461340</td>\n",
       "      <td>0.617449</td>\n",
       "      <td>0.830152</td>\n",
       "      <td>0</td>\n",
       "      <td>1</td>\n",
       "      <td>0.628182</td>\n",
       "      <td>1.0</td>\n",
       "      <td>0.0</td>\n",
       "      <td>1.0</td>\n",
       "    </tr>\n",
       "    <tr>\n",
       "      <th>1996</th>\n",
       "      <td>-0.211738</td>\n",
       "      <td>0.291132</td>\n",
       "      <td>-0.182016</td>\n",
       "      <td>0.797229</td>\n",
       "      <td>-0.891560</td>\n",
       "      <td>1</td>\n",
       "      <td>0</td>\n",
       "      <td>0.026002</td>\n",
       "      <td>1.0</td>\n",
       "      <td>0.0</td>\n",
       "      <td>0.0</td>\n",
       "    </tr>\n",
       "    <tr>\n",
       "      <th>1997</th>\n",
       "      <td>-1.364452</td>\n",
       "      <td>0.006422</td>\n",
       "      <td>0.461340</td>\n",
       "      <td>-1.233163</td>\n",
       "      <td>0.830152</td>\n",
       "      <td>0</td>\n",
       "      <td>1</td>\n",
       "      <td>-1.249087</td>\n",
       "      <td>1.0</td>\n",
       "      <td>0.0</td>\n",
       "      <td>1.0</td>\n",
       "    </tr>\n",
       "    <tr>\n",
       "      <th>1998</th>\n",
       "      <td>1.075979</td>\n",
       "      <td>2.663716</td>\n",
       "      <td>-0.182016</td>\n",
       "      <td>-1.233163</td>\n",
       "      <td>2.551864</td>\n",
       "      <td>1</td>\n",
       "      <td>1</td>\n",
       "      <td>-0.111107</td>\n",
       "      <td>1.0</td>\n",
       "      <td>0.0</td>\n",
       "      <td>0.0</td>\n",
       "    </tr>\n",
       "    <tr>\n",
       "      <th>1999</th>\n",
       "      <td>-0.440204</td>\n",
       "      <td>0.955455</td>\n",
       "      <td>0.461340</td>\n",
       "      <td>0.600280</td>\n",
       "      <td>-0.891560</td>\n",
       "      <td>1</td>\n",
       "      <td>0</td>\n",
       "      <td>1.668116</td>\n",
       "      <td>0.0</td>\n",
       "      <td>1.0</td>\n",
       "      <td>0.0</td>\n",
       "    </tr>\n",
       "  </tbody>\n",
       "</table>\n",
       "<p>2000 rows × 11 columns</p>\n",
       "</div>"
      ],
      "text/plain": [
       "      CreditScore       Age    Tenure   Balance  NumOfProducts  HasCrCard  \\\n",
       "0       -0.699824 -0.373192 -0.825373 -1.233163       0.830152          1   \n",
       "1       -0.284431  0.575842 -0.503694 -1.233163      -0.891560          1   \n",
       "2        0.151731 -0.657902 -1.468729  0.438711      -0.891560          1   \n",
       "3       -0.876366 -0.278288  1.748053  1.239884      -0.891560          1   \n",
       "4       -0.481743  0.291132  1.748053 -1.233163       0.830152          1   \n",
       "...           ...       ...       ...       ...            ...        ...   \n",
       "1995     0.276349 -1.417129  0.461340  0.617449       0.830152          0   \n",
       "1996    -0.211738  0.291132 -0.182016  0.797229      -0.891560          1   \n",
       "1997    -1.364452  0.006422  0.461340 -1.233163       0.830152          0   \n",
       "1998     1.075979  2.663716 -0.182016 -1.233163       2.551864          1   \n",
       "1999    -0.440204  0.955455  0.461340  0.600280      -0.891560          1   \n",
       "\n",
       "      IsActiveMember  EstimatedSalary  France  Germany  Female  \n",
       "0                  0        -0.015173     1.0      0.0     1.0  \n",
       "1                  1         1.471724     1.0      0.0     1.0  \n",
       "2                  0        -1.367107     0.0      1.0     0.0  \n",
       "3                  1        -0.786517     0.0      0.0     1.0  \n",
       "4                  0         1.358533     0.0      0.0     0.0  \n",
       "...              ...              ...     ...      ...     ...  \n",
       "1995               1         0.628182     1.0      0.0     1.0  \n",
       "1996               0         0.026002     1.0      0.0     0.0  \n",
       "1997               1        -1.249087     1.0      0.0     1.0  \n",
       "1998               1        -0.111107     1.0      0.0     0.0  \n",
       "1999               0         1.668116     0.0      1.0     0.0  \n",
       "\n",
       "[2000 rows x 11 columns]"
      ]
     },
     "execution_count": 75,
     "metadata": {},
     "output_type": "execute_result"
    }
   ],
   "source": [
    "features_test = features_test.reset_index(drop=True)\n",
    "target_test = target_test.reset_index(drop=True)\n",
    "feature_labels = ['France', 'Germany', 'Spain', 'Female', 'Male']\n",
    "test_array = enc.transform(features_test[['Geography', 'Gender']]).toarray()\n",
    "test_encoded = pd.DataFrame(test_array, columns=feature_labels)\n",
    "features_test = pd.concat([features_test, test_encoded], axis=1)\n",
    "features_test = features_test.drop(['Geography', 'Gender', 'Spain', 'Male'], axis=1)\n",
    "features_test"
   ]
  },
  {
   "cell_type": "markdown",
   "metadata": {},
   "source": [
    "## Исследование задачи"
   ]
  },
  {
   "cell_type": "code",
   "execution_count": 76,
   "metadata": {
    "scrolled": false
   },
   "outputs": [
    {
     "data": {
      "text/plain": [
       "0    7963\n",
       "1    2037\n",
       "Name: Exited, dtype: int64"
      ]
     },
     "metadata": {},
     "output_type": "display_data"
    },
    {
     "name": "stdout",
     "output_type": "stream",
     "text": [
      "Баланс классов:\n",
      "0 - 79.63%\n",
      "1 - 20.369999999999997%\n"
     ]
    },
    {
     "data": {
      "image/png": "[encoded data removed]",
      "text/plain": [
       "<Figure size 432x288 with 1 Axes>"
      ]
     },
     "metadata": {
      "needs_background": "light"
     },
     "output_type": "display_data"
    }
   ],
   "source": [
    "# Исследуем баланс классов\n",
    "balance = (data['Exited'].value_counts())\n",
    "display(balance)\n",
    "data['Exited'].hist()\n",
    "balance = data['Exited'].value_counts(normalize=True) \n",
    "print(f'Баланс классов:\\n0 - {balance[0]*100}%\\n1 - {balance[1]*100}%')"
   ]
  },
  {
   "cell_type": "markdown",
   "metadata": {},
   "source": [
    "Как можно заметить выше объектов положительного класса в 4 раза меньше, чем отрицательных. Стоит учесть это при построении моделей."
   ]
  },
  {
   "cell_type": "markdown",
   "metadata": {},
   "source": [
    "### Дерево решений"
   ]
  },
  {
   "cell_type": "code",
   "execution_count": 77,
   "metadata": {},
   "outputs": [
    {
     "name": "stdout",
     "output_type": "stream",
     "text": [
      "max_depth = 2, criterion = gini, f1_score: 0.4986301369863014, auc_roc: 0.7280154586243442\n",
      "max_depth = 5, criterion = gini, f1_score: 0.5015772870662459, auc_roc: 0.8309475303228592\n",
      "max_depth = 6, criterion = gini, f1_score: 0.5292307692307692, auc_roc: 0.8390486170137811\n",
      "Точность наилучшей модели на валидационной выборке:0.5292307692307692\n",
      "При критерии: gini\n",
      "При глубине дерева: 6\n",
      "auc_roc: 0.8390486170137811\n",
      "CPU times: user 1.09 s, sys: 14 µs, total: 1.09 s\n",
      "Wall time: 1.1 s\n"
     ]
    }
   ],
   "source": [
    "%%time\n",
    "dtc_best_depth = 0\n",
    "dtc_best_f1 = 0\n",
    "dtc_best_crt = 0\n",
    "best_dtc = 0\n",
    "best_auc_roc = 0\n",
    "criterions = ['gini', 'entropy']\n",
    "for crt in criterions:\n",
    "    for depth in range(1, 20):\n",
    "        dtc = DecisionTreeClassifier(criterion=crt, max_depth=depth, random_state=12345)\n",
    "        dtc.fit(features_train, target_train)\n",
    "        predictions_valid = dtc.predict(features_valid)\n",
    "        f1 = f1_score(target_valid, predictions_valid)\n",
    "        probabilities_valid = dtc.predict_proba(features_valid)\n",
    "        probabilities_one_valid = probabilities_valid[:, 1]\n",
    "        auc_roc = roc_auc_score(target_valid, probabilities_one_valid)\n",
    "        if f1 > dtc_best_f1 and auc_roc > best_auc_roc:\n",
    "            dtc_best_depth = depth\n",
    "            dtc_best_crt = crt\n",
    "            dtc_best_f1 = f1\n",
    "            best_dtc = dtc\n",
    "            best_auc_roc = auc_roc\n",
    "            print(f'max_depth = {depth}, criterion = {crt}, f1_score: {f1}, auc_roc: {auc_roc}')\n",
    "        \n",
    "print(f'Точность наилучшей модели на валидационной выборке:\\\n",
    "{dtc_best_f1}\\nПри критерии: {dtc_best_crt}\\nПри глубине дерева: {dtc_best_depth}\\nauc_roc: {best_auc_roc}')"
   ]
  },
  {
   "cell_type": "markdown",
   "metadata": {},
   "source": [
    "### Случайный лес"
   ]
  },
  {
   "cell_type": "code",
   "execution_count": 78,
   "metadata": {
    "scrolled": false
   },
   "outputs": [
    {
     "name": "stdout",
     "output_type": "stream",
     "text": [
      "est: 20, max_depth: 2, criterion: gini, f1_score: 0.16414686825053998, auc_roc: 0.7864402739738348\n",
      "est: 20, max_depth: 3, criterion: gini, f1_score: 0.2619047619047619, auc_roc: 0.7956491887670128\n",
      "est: 20, max_depth: 4, criterion: gini, f1_score: 0.3302752293577982, auc_roc: 0.8238718217401146\n",
      "est: 20, max_depth: 5, criterion: gini, f1_score: 0.4322469982847342, auc_roc: 0.8381761461673494\n",
      "est: 20, max_depth: 6, criterion: gini, f1_score: 0.4482173174872665, auc_roc: 0.8540687572986984\n",
      "est: 20, max_depth: 7, criterion: gini, f1_score: 0.4676616915422885, auc_roc: 0.8513156770418742\n",
      "est: 20, max_depth: 8, criterion: gini, f1_score: 0.5088, auc_roc: 0.8515360433896842\n",
      "est: 20, max_depth: 11, criterion: gini, f1_score: 0.5292307692307692, auc_roc: 0.8461183292333201\n",
      "est: 20, max_depth: 13, criterion: gini, f1_score: 0.5339366515837104, auc_roc: 0.8441327834668273\n",
      "est: 20, max_depth: 14, criterion: gini, f1_score: 0.5432835820895522, auc_roc: 0.8417979495436018\n",
      "est: 25, max_depth: 13, criterion: gini, f1_score: 0.5525525525525525, auc_roc: 0.8452750906575163\n",
      "est: 25, max_depth: 14, criterion: gini, f1_score: 0.5575221238938054, auc_roc: 0.8463439423989351\n",
      "est: 40, max_depth: 14, criterion: gini, f1_score: 0.56, auc_roc: 0.8537359591407812\n",
      "Точность наилучшей модели на валидационной выборке:0.56\n",
      "Количестве деревьев: 40\n",
      "При критерии: gini\n",
      "При глубине дерева:14\n",
      "auc_roc: 0.8537359591407812\n",
      "CPU times: user 5min 49s, sys: 2.53 s, total: 5min 51s\n",
      "Wall time: 5min 53s\n"
     ]
    }
   ],
   "source": [
    "%%time\n",
    "rfc_best_depth = 0\n",
    "rfc_best_f1 = 0\n",
    "rfc_best_crt = 0\n",
    "best_rfc = 0\n",
    "best_auc_roc = 0\n",
    "best_est = 0\n",
    "criterions = ['gini', 'entropy']\n",
    "for est in range(20, 121, 5):\n",
    "    for crt in criterions:\n",
    "        for depth in range(1, 20):\n",
    "            rfc = RandomForestClassifier(n_estimators=est, criterion=crt, max_depth=depth, \n",
    "                                         random_state=12345)\n",
    "            rfc.fit(features_train, target_train)\n",
    "            predictions_valid = rfc.predict(features_valid)\n",
    "            f1 = f1_score(target_valid, predictions_valid)\n",
    "            probabilities_valid = rfc.predict_proba(features_valid)\n",
    "            probabilities_one_valid = probabilities_valid[:, 1]\n",
    "            auc_roc = roc_auc_score(target_valid, probabilities_one_valid)\n",
    "            if f1 > rfc_best_f1:\n",
    "                rfc_best_depth = depth\n",
    "                rfc_best_crt = crt\n",
    "                rfc_best_f1 = f1\n",
    "                best_rfc = rfc\n",
    "                best_est = est\n",
    "                best_auc_roc = auc_roc\n",
    "                print(f'est: {est}, max_depth: {depth}, criterion: {crt}, f1_score: {f1}, auc_roc: {auc_roc}')\n",
    "\n",
    "print(f'Точность наилучшей модели на валидационной выборке:\\\n",
    "{rfc_best_f1}\\nКоличестве деревьев: {best_est}\\nПри критерии: {rfc_best_crt}\\nПри глубине дерева:\\\n",
    "{rfc_best_depth}\\nauc_roc: {best_auc_roc}')"
   ]
  },
  {
   "cell_type": "markdown",
   "metadata": {},
   "source": [
    "### Логистическая регрессия"
   ]
  },
  {
   "cell_type": "code",
   "execution_count": 79,
   "metadata": {
    "scrolled": true
   },
   "outputs": [
    {
     "name": "stdout",
     "output_type": "stream",
     "text": [
      "f1_score: 0.5405405405405406, solver: lbfgs, auc_roc: 0.7386829887673125\n",
      "Точность наилучшей модели на валидационной выборке:0.5405405405405406\n",
      "При solver: lbfgs\n",
      "auc_roc: 0.7386829887673125\n",
      "CPU times: user 498 ms, sys: 492 ms, total: 990 ms\n",
      "Wall time: 945 ms\n"
     ]
    }
   ],
   "source": [
    "%%time\n",
    "lr_best_model = 0\n",
    "best_solver = 0\n",
    "best_f1 = 0\n",
    "best_auc_roc = 0\n",
    "solvers = ['lbfgs', 'liblinear', 'sag', 'saga']\n",
    "for solver in solvers: \n",
    "        lr = LogisticRegression(random_state=12345, solver=solver, max_iter=10000)\n",
    "        lr.fit(features_train, target_train)\n",
    "        f1 = f1_score(target_valid, predictions_valid)\n",
    "        predictions_valid = lr.predict(features_valid)\n",
    "        probabilities_valid = lr.predict_proba(features_valid)\n",
    "        probabilities_one_valid = probabilities_valid[:, 1]\n",
    "        auc_roc = roc_auc_score(target_valid, probabilities_one_valid)\n",
    "        if f1 > best_f1:\n",
    "            best_f1 = f1\n",
    "            lr_best_model = lr\n",
    "            best_solver = solver\n",
    "            best_auc_roc = auc_roc\n",
    "            print(f'f1_score: {f1}, solver: {solver}, auc_roc: {auc_roc}')\n",
    "            \n",
    "print(f'Точность наилучшей модели на валидационной выборке:\\\n",
    "{best_f1}\\nПри solver: {best_solver}\\nauc_roc: {best_auc_roc}')"
   ]
  },
  {
   "cell_type": "markdown",
   "metadata": {},
   "source": [
    "**Вывод:**\n",
    "    \n",
    "Наилучший результат показывает модель случайного леса, f1 мера - 0.56, площадь под кривой - 0.8. Затем идет дерево решений, 0.53, 0.84. И на последнем месте логистическая регрессия, 0.51, 0.73. \n",
    "\n",
    "Однако даже лучшая модель не достигла минимального показателя f1 меры в 0.59, поэтому дальше попробуем несколько методов чтобы сбалансировать классы и проверить результат. "
   ]
  },
  {
   "cell_type": "markdown",
   "metadata": {},
   "source": [
    "## Борьба с дисбалансом"
   ]
  },
  {
   "cell_type": "markdown",
   "metadata": {},
   "source": [
    "### Взвешивание классов"
   ]
  },
  {
   "cell_type": "markdown",
   "metadata": {},
   "source": [
    "Сбалансируем классы. С помощью гиперпараметра `class_weight`, придадим объектам редкого класса больший вес. Параметр будем указывать как `balanced` - сбалансированный."
   ]
  },
  {
   "cell_type": "markdown",
   "metadata": {},
   "source": [
    "#### Дерево решений"
   ]
  },
  {
   "cell_type": "code",
   "execution_count": 80,
   "metadata": {},
   "outputs": [
    {
     "name": "stdout",
     "output_type": "stream",
     "text": [
      "max_depth = 1, criterion = gini, f1_score: 0.48514851485148514, auc_roc: 0.6811643738072859\n",
      "max_depth = 2, criterion = gini, f1_score: 0.5129682997118156, auc_roc: 0.7280154586243442\n",
      "max_depth = 4, criterion = gini, f1_score: 0.5385239253852393, auc_roc: 0.8187396843814227\n",
      "max_depth = 5, criterion = gini, f1_score: 0.5809128630705395, auc_roc: 0.8355347481752318\n",
      "Точность наилучшей модели на валидационной выборке:0.5809128630705395\n",
      "При критерии: gini\n",
      "При глубине дерева: 5\n",
      "auc_roc: 0.8355347481752318\n",
      "CPU times: user 1.12 s, sys: 23.9 ms, total: 1.15 s\n",
      "Wall time: 1.22 s\n"
     ]
    }
   ],
   "source": [
    "%%time\n",
    "dtc_best_depth = 0\n",
    "dtc_best_f1 = 0\n",
    "dtc_best_crt = 0\n",
    "best_dtc = 0\n",
    "best_auc_roc = 0\n",
    "criterions = ['gini', 'entropy']\n",
    "for crt in criterions:\n",
    "    for depth in range(1, 20):\n",
    "        dtc = DecisionTreeClassifier(criterion=crt, max_depth=depth, random_state=12345, \n",
    "                                     class_weight='balanced')\n",
    "        dtc.fit(features_train, target_train)\n",
    "        predictions_valid = dtc.predict(features_valid)\n",
    "        f1 = f1_score(target_valid, predictions_valid)\n",
    "        probabilities_valid = dtc.predict_proba(features_valid)\n",
    "        probabilities_one_valid = probabilities_valid[:, 1]\n",
    "        auc_roc = roc_auc_score(target_valid, probabilities_one_valid)\n",
    "        if f1 > dtc_best_f1 and auc_roc > best_auc_roc:\n",
    "            dtc_best_depth = depth\n",
    "            dtc_best_crt = crt\n",
    "            dtc_best_f1 = f1\n",
    "            best_dtc = dtc\n",
    "            best_auc_roc = auc_roc\n",
    "            print(f'max_depth = {depth}, criterion = {crt}, f1_score: {f1}, auc_roc: {auc_roc}')\n",
    "        \n",
    "print(f'Точность наилучшей модели на валидационной выборке:\\\n",
    "{dtc_best_f1}\\nПри критерии: {dtc_best_crt}\\nПри глубине дерева: {dtc_best_depth}\\nauc_roc: {best_auc_roc}')"
   ]
  },
  {
   "cell_type": "markdown",
   "metadata": {},
   "source": [
    "#### Случайный лес"
   ]
  },
  {
   "cell_type": "code",
   "execution_count": 81,
   "metadata": {
    "scrolled": false
   },
   "outputs": [
    {
     "name": "stdout",
     "output_type": "stream",
     "text": [
      "est: 20, max_depth: 1, criterion: gini, f1_score: 0.527493010251631, auc_roc: 0.776677445129529\n",
      "est: 20, max_depth: 2, criterion: gini, f1_score: 0.5355805243445694, auc_roc: 0.799712474384286\n",
      "est: 20, max_depth: 3, criterion: gini, f1_score: 0.5585903083700441, auc_roc: 0.8156373159678654\n",
      "est: 20, max_depth: 4, criterion: gini, f1_score: 0.5799404170804369, auc_roc: 0.8319489229782138\n",
      "est: 20, max_depth: 6, criterion: gini, f1_score: 0.5978578383641675, auc_roc: 0.8492581749169128\n",
      "est: 20, max_depth: 7, criterion: gini, f1_score: 0.6038114343029087, auc_roc: 0.8519977633565242\n",
      "est: 20, max_depth: 8, criterion: gini, f1_score: 0.6062500000000001, auc_roc: 0.8504252171058253\n",
      "est: 20, max_depth: 11, criterion: entropy, f1_score: 0.6148148148148149, auc_roc: 0.8471646946127174\n",
      "est: 35, max_depth: 9, criterion: gini, f1_score: 0.6190476190476191, auc_roc: 0.8519033206360344\n",
      "est: 60, max_depth: 10, criterion: entropy, f1_score: 0.619718309859155, auc_roc: 0.8543243522803419\n",
      "est: 90, max_depth: 10, criterion: entropy, f1_score: 0.6227967097532315, auc_roc: 0.8567903566486926\n",
      "est: 100, max_depth: 7, criterion: entropy, f1_score: 0.6231884057971014, auc_roc: 0.8541159786589434\n",
      "Точность наилучшей модели на валидационной выборке:0.6231884057971014\n",
      "Количестве деревьев: 100\n",
      "При критерии: entropy\n",
      "При глубине дерева:7\n",
      "auc_roc: 0.8541159786589434\n",
      "CPU times: user 5min 49s, sys: 1.85 s, total: 5min 51s\n",
      "Wall time: 5min 51s\n"
     ]
    }
   ],
   "source": [
    "%%time\n",
    "rfc_best_depth = 0\n",
    "rfc_best_f1 = 0\n",
    "rfc_best_crt = 0\n",
    "best_rfc = 0\n",
    "best_auc_roc = 0\n",
    "best_est = 0\n",
    "criterions = ['gini', 'entropy']\n",
    "for est in range(20, 121, 5):\n",
    "    for crt in criterions:\n",
    "        for depth in range(1, 20):\n",
    "            rfc = RandomForestClassifier(n_estimators=est, criterion=crt, max_depth=depth, \n",
    "                                         random_state=12345, class_weight='balanced')\n",
    "            rfc.fit(features_train, target_train)\n",
    "            predictions_valid = rfc.predict(features_valid)\n",
    "            f1 = f1_score(target_valid, predictions_valid)\n",
    "            probabilities_valid = rfc.predict_proba(features_valid)\n",
    "            probabilities_one_valid = probabilities_valid[:, 1]\n",
    "            auc_roc = roc_auc_score(target_valid, probabilities_one_valid)\n",
    "            if f1 > rfc_best_f1:\n",
    "                rfc_best_depth = depth\n",
    "                rfc_best_crt = crt\n",
    "                rfc_best_f1 = f1\n",
    "                best_rfc = rfc\n",
    "                best_est = est\n",
    "                best_auc_roc = auc_roc\n",
    "                print(f'est: {est}, max_depth: {depth}, criterion: {crt}, f1_score: {f1}, auc_roc: {auc_roc}')\n",
    "\n",
    "print(f'Точность наилучшей модели на валидационной выборке:\\\n",
    "{rfc_best_f1}\\nКоличестве деревьев: {best_est}\\nПри критерии: {rfc_best_crt}\\nПри глубине дерева:\\\n",
    "{rfc_best_depth}\\nauc_roc: {best_auc_roc}')"
   ]
  },
  {
   "cell_type": "markdown",
   "metadata": {},
   "source": [
    "#### Логистическая регрессия"
   ]
  },
  {
   "cell_type": "code",
   "execution_count": 82,
   "metadata": {
    "scrolled": true
   },
   "outputs": [
    {
     "name": "stdout",
     "output_type": "stream",
     "text": [
      "f1_score: 0.5237366003062787, solver: lbfgs, auc_roc: 0.7417096530953977\n",
      "Точность наилучшей модели на валидационной выборке:0.5237366003062787\n",
      "При solver: lbfgs\n",
      "auc_roc: 0.7417096530953977\n"
     ]
    }
   ],
   "source": [
    "lr_best_model = 0\n",
    "best_solver = 0\n",
    "best_f1 = 0\n",
    "best_auc_roc = 0\n",
    "solvers = ['lbfgs', 'liblinear', 'sag', 'saga']\n",
    "for solver in solvers:\n",
    "    lr = LogisticRegression(random_state=12345, solver=solver, max_iter=10000, class_weight='balanced')\n",
    "    lr.fit(features_train, target_train)\n",
    "    f1 = f1_score(target_valid, predictions_valid)\n",
    "    predictions_valid = lr.predict(features_valid)\n",
    "    probabilities_valid = lr.predict_proba(features_valid)\n",
    "    probabilities_one_valid = probabilities_valid[:, 1]\n",
    "    auc_roc = roc_auc_score(target_valid, probabilities_one_valid)\n",
    "    if f1 > best_f1:\n",
    "        best_f1 = f1\n",
    "        lr_best_model = lr\n",
    "        best_solver = solver\n",
    "        best_auc_roc = auc_roc\n",
    "        print(f'f1_score: {f1}, solver: {solver}, auc_roc: {auc_roc}')\n",
    "            \n",
    "print(f'Точность наилучшей модели на валидационной выборке:\\\n",
    "{best_f1}\\nПри solver: {best_solver}\\nauc_roc: {best_auc_roc}')"
   ]
  },
  {
   "cell_type": "markdown",
   "metadata": {},
   "source": [
    "### Увеличение выборки"
   ]
  },
  {
   "cell_type": "markdown",
   "metadata": {},
   "source": [
    "Обработаем обучающую выборку методом апсэмплинга, увеличим количество положительных классов в 4 раза."
   ]
  },
  {
   "cell_type": "code",
   "execution_count": 83,
   "metadata": {},
   "outputs": [],
   "source": [
    "def upsample(features, target, repeat):\n",
    "    features_zeros = features[target == 0]\n",
    "    features_ones = features[target == 1]\n",
    "    target_zeros = target[target == 0]\n",
    "    target_ones = target[target == 1]\n",
    "\n",
    "    features_upsampled = pd.concat([features_zeros] + [features_ones] * repeat)\n",
    "    target_upsampled = pd.concat([target_zeros] + [target_ones] * repeat)\n",
    "    \n",
    "    features_upsampled, target_upsampled = shuffle(\n",
    "        features_upsampled, target_upsampled, random_state=12345)\n",
    "    \n",
    "    return features_upsampled, target_upsampled"
   ]
  },
  {
   "cell_type": "code",
   "execution_count": 84,
   "metadata": {},
   "outputs": [],
   "source": [
    "features_upsampled, target_upsampled = upsample(features_train, target_train, 4)"
   ]
  },
  {
   "cell_type": "code",
   "execution_count": 85,
   "metadata": {},
   "outputs": [
    {
     "name": "stdout",
     "output_type": "stream",
     "text": [
      "0    4804\n",
      "1    4784\n",
      "Name: Exited, dtype: int64\n"
     ]
    }
   ],
   "source": [
    "print(target_upsampled.value_counts())"
   ]
  },
  {
   "cell_type": "markdown",
   "metadata": {},
   "source": [
    "Увеличение количества положительных классов позволило уровнять классы в обучающей выборке."
   ]
  },
  {
   "cell_type": "markdown",
   "metadata": {},
   "source": [
    "#### Дерево решений\n"
   ]
  },
  {
   "cell_type": "code",
   "execution_count": 86,
   "metadata": {},
   "outputs": [
    {
     "name": "stdout",
     "output_type": "stream",
     "text": [
      "max_depth = 1, criterion = gini, f1_score: 0.48514851485148514, auc_roc: 0.6811643738072859\n",
      "max_depth = 2, criterion = gini, f1_score: 0.5129682997118156, auc_roc: 0.7280154586243442\n",
      "max_depth = 4, criterion = gini, f1_score: 0.5385239253852393, auc_roc: 0.8187396843814227\n",
      "max_depth = 5, criterion = gini, f1_score: 0.5809128630705395, auc_roc: 0.8355347481752318\n",
      "Точность наилучшей модели на валидационной выборке:0.5809128630705395\n",
      "При критерии: gini\n",
      "При глубине дерева: 5\n",
      "auc_roc: 0.8355347481752318\n",
      "CPU times: user 1.29 s, sys: 4.01 ms, total: 1.3 s\n",
      "Wall time: 1.31 s\n"
     ]
    }
   ],
   "source": [
    "%%time\n",
    "dtc_best_depth = 0\n",
    "dtc_best_f1 = 0\n",
    "dtc_best_crt = 0\n",
    "best_dtc = 0\n",
    "best_auc_roc = 0\n",
    "criterions = ['gini', 'entropy']\n",
    "for crt in criterions:\n",
    "    for depth in range(1, 20):\n",
    "        dtc = DecisionTreeClassifier(criterion=crt, max_depth=depth, random_state=12345)\n",
    "        dtc.fit(features_upsampled, target_upsampled)\n",
    "        predictions_valid = dtc.predict(features_valid)\n",
    "        f1 = f1_score(target_valid, predictions_valid)\n",
    "        probabilities_valid = dtc.predict_proba(features_valid)\n",
    "        probabilities_one_valid = probabilities_valid[:, 1]\n",
    "        auc_roc = roc_auc_score(target_valid, probabilities_one_valid)\n",
    "        if f1 > dtc_best_f1 and auc_roc > best_auc_roc:\n",
    "            dtc_best_depth = depth\n",
    "            dtc_best_crt = crt\n",
    "            dtc_best_f1 = f1\n",
    "            best_dtc = dtc\n",
    "            best_auc_roc = auc_roc\n",
    "            print(f'max_depth = {depth}, criterion = {crt}, f1_score: {f1}, auc_roc: {auc_roc}')\n",
    "        \n",
    "print(f'Точность наилучшей модели на валидационной выборке:\\\n",
    "{dtc_best_f1}\\nПри критерии: {dtc_best_crt}\\nПри глубине дерева: {dtc_best_depth}\\nauc_roc: {best_auc_roc}')"
   ]
  },
  {
   "cell_type": "markdown",
   "metadata": {},
   "source": [
    "#### Случайный лес "
   ]
  },
  {
   "cell_type": "code",
   "execution_count": 87,
   "metadata": {
    "scrolled": false
   },
   "outputs": [
    {
     "name": "stdout",
     "output_type": "stream",
     "text": [
      "est: 20, max_depth: 1, criterion: gini, f1_score: 0.5325325325325325, auc_roc: 0.7815607334151836\n",
      "est: 20, max_depth: 2, criterion: gini, f1_score: 0.5433628318584072, auc_roc: 0.8034512068430499\n",
      "est: 20, max_depth: 3, criterion: gini, f1_score: 0.5685740236148956, auc_roc: 0.8183656612264663\n",
      "est: 20, max_depth: 4, criterion: gini, f1_score: 0.5811467444120506, auc_roc: 0.8314369834695257\n",
      "est: 20, max_depth: 6, criterion: gini, f1_score: 0.6029268292682927, auc_roc: 0.8453552920153926\n",
      "est: 20, max_depth: 9, criterion: gini, f1_score: 0.6044071353620146, auc_roc: 0.8560445589749817\n",
      "est: 20, max_depth: 9, criterion: entropy, f1_score: 0.6074074074074074, auc_roc: 0.8492139517382707\n",
      "est: 25, max_depth: 9, criterion: gini, f1_score: 0.6110531803962461, auc_roc: 0.8571846175294684\n",
      "est: 25, max_depth: 10, criterion: entropy, f1_score: 0.6209081309398099, auc_roc: 0.8529766696498573\n",
      "est: 30, max_depth: 10, criterion: entropy, f1_score: 0.6271186440677967, auc_roc: 0.8551930753997702\n",
      "est: 45, max_depth: 10, criterion: entropy, f1_score: 0.6293558606124605, auc_roc: 0.8570482002665384\n",
      "Точность наилучшей модели на валидационной выборке:0.6293558606124605\n",
      "Количестве деревьев: 45\n",
      "При критерии: entropy\n",
      "При глубине дерева:10\n",
      "auc_roc: 0.8570482002665384\n",
      "CPU times: user 7min 43s, sys: 2.4 s, total: 7min 46s\n",
      "Wall time: 7min 46s\n"
     ]
    }
   ],
   "source": [
    "%%time\n",
    "rfc_best_depth = 0\n",
    "rfc_best_f1 = 0\n",
    "rfc_best_crt = 0\n",
    "best_rfc_us = 0\n",
    "best_auc_roc = 0\n",
    "best_est = 0\n",
    "criterions = ['gini', 'entropy']\n",
    "for est in range(20, 121, 5):\n",
    "    for crt in criterions:\n",
    "        for depth in range(1, 20):\n",
    "            rfc = RandomForestClassifier(n_estimators=est, criterion=crt, max_depth=depth, \n",
    "                                         random_state=12345)\n",
    "            rfc.fit(features_upsampled, target_upsampled)\n",
    "            predictions_valid = rfc.predict(features_valid)\n",
    "            f1 = f1_score(target_valid, predictions_valid)\n",
    "            probabilities_valid = rfc.predict_proba(features_valid)\n",
    "            probabilities_one_valid = probabilities_valid[:, 1]\n",
    "            auc_roc = roc_auc_score(target_valid, probabilities_one_valid)\n",
    "            if f1 > rfc_best_f1:\n",
    "                rfc_best_depth = depth\n",
    "                rfc_best_crt = crt\n",
    "                rfc_best_f1 = f1\n",
    "                best_rfc_us = rfc\n",
    "                best_est = est\n",
    "                best_auc_roc = auc_roc\n",
    "                print(f'est: {est}, max_depth: {depth}, criterion: {crt}, f1_score: {f1}, auc_roc: {auc_roc}')\n",
    "\n",
    "print(f'Точность наилучшей модели на валидационной выборке:\\\n",
    "{rfc_best_f1}\\nКоличестве деревьев: {best_est}\\nПри критерии: {rfc_best_crt}\\nПри глубине дерева:\\\n",
    "{rfc_best_depth}\\nauc_roc: {best_auc_roc}')"
   ]
  },
  {
   "cell_type": "markdown",
   "metadata": {},
   "source": [
    "#### Логистическая регрессия "
   ]
  },
  {
   "cell_type": "code",
   "execution_count": 88,
   "metadata": {},
   "outputs": [
    {
     "name": "stdout",
     "output_type": "stream",
     "text": [
      "f1_score: 0.4779220779220779, solver: lbfgs, auc_roc: 0.7416826694609719\n",
      "Точность наилучшей модели на валидационной выборке:0.4779220779220779\n",
      "При solver: lbfgs\n",
      "auc_roc: 0.7416826694609719\n"
     ]
    }
   ],
   "source": [
    "lr_best_model = 0\n",
    "best_solver = 0\n",
    "best_f1 = 0\n",
    "best_auc_roc = 0\n",
    "solvers = ['lbfgs', 'liblinear', 'sag', 'saga']\n",
    "for solver in solvers: \n",
    "        lr = LogisticRegression(random_state=12345, solver=solver, max_iter=10000)\n",
    "        lr.fit(features_upsampled, target_upsampled)\n",
    "        predictions_valid = lr.predict(features_valid)\n",
    "        f1 = f1_score(target_valid, predictions_valid)\n",
    "        predictions_valid = lr.predict(features_valid)\n",
    "        probabilities_valid = lr.predict_proba(features_valid)\n",
    "        probabilities_one_valid = probabilities_valid[:, 1]\n",
    "        auc_roc = roc_auc_score(target_valid, probabilities_one_valid)\n",
    "        if f1 > best_f1:\n",
    "            best_f1 = f1\n",
    "            lr_best_model = lr\n",
    "            best_solver = solver\n",
    "            best_auc_roc = auc_roc\n",
    "            print(f'f1_score: {f1}, solver: {solver}, auc_roc: {auc_roc}')\n",
    "            \n",
    "print(f'Точность наилучшей модели на валидационной выборке:\\\n",
    "{best_f1}\\nПри solver: {best_solver}\\nauc_roc: {best_auc_roc}')"
   ]
  },
  {
   "cell_type": "markdown",
   "metadata": {},
   "source": [
    "### Уменьшение выборки"
   ]
  },
  {
   "cell_type": "markdown",
   "metadata": {},
   "source": [
    "Обработаем обучающую выборку методом даунсэмплинга, уменьшим количество отрицательных классов в 4 раза."
   ]
  },
  {
   "cell_type": "code",
   "execution_count": 89,
   "metadata": {},
   "outputs": [],
   "source": [
    "def downsample(features, target, fraction):\n",
    "    features_zeros = features[target == 0]\n",
    "    features_ones = features[target == 1]\n",
    "    target_zeros = target[target == 0]\n",
    "    target_ones = target[target == 1]\n",
    "\n",
    "    features_downsampled = pd.concat(\n",
    "        [features_zeros.sample(frac=fraction, random_state=12345)] + [features_ones])\n",
    "    target_downsampled = pd.concat(\n",
    "        [target_zeros.sample(frac=fraction, random_state=12345)] + [target_ones])\n",
    "    \n",
    "    features_downsampled, target_downsampled = shuffle(\n",
    "        features_downsampled, target_downsampled, random_state=12345)\n",
    "    \n",
    "    return features_downsampled, target_downsampled"
   ]
  },
  {
   "cell_type": "code",
   "execution_count": 90,
   "metadata": {},
   "outputs": [],
   "source": [
    "features_downsampled, target_downsampled = downsample(features_train, target_train, 0.25)"
   ]
  },
  {
   "cell_type": "code",
   "execution_count": 91,
   "metadata": {},
   "outputs": [
    {
     "name": "stdout",
     "output_type": "stream",
     "text": [
      "0    1201\n",
      "1    1196\n",
      "Name: Exited, dtype: int64\n"
     ]
    }
   ],
   "source": [
    "print(target_downsampled.value_counts())"
   ]
  },
  {
   "cell_type": "markdown",
   "metadata": {},
   "source": [
    "Уменьшение количества отрицательных классов позволило уровнять классы в обучающей выборке."
   ]
  },
  {
   "cell_type": "markdown",
   "metadata": {},
   "source": [
    "#### Дерево решений"
   ]
  },
  {
   "cell_type": "code",
   "execution_count": 92,
   "metadata": {},
   "outputs": [
    {
     "name": "stdout",
     "output_type": "stream",
     "text": [
      "max_depth = 1, criterion = gini, f1_score: 0.4878957169459963, auc_roc: 0.6863572243434357\n",
      "max_depth = 2, criterion = gini, f1_score: 0.5109090909090909, auc_roc: 0.7340080741030565\n",
      "max_depth = 3, criterion = gini, f1_score: 0.5261158594491927, auc_roc: 0.7961139069154558\n",
      "max_depth = 4, criterion = gini, f1_score: 0.5396825396825397, auc_roc: 0.8052441194415586\n",
      "max_depth = 5, criterion = gini, f1_score: 0.5925215723873443, auc_roc: 0.8318837125283516\n",
      "Точность наилучшей модели на валидационной выборке:0.5925215723873443\n",
      "При критерии: gini\n",
      "При глубине дерева: 5\n",
      "auc_roc: 0.8318837125283516\n",
      "CPU times: user 603 ms, sys: 3.96 ms, total: 607 ms\n",
      "Wall time: 617 ms\n"
     ]
    }
   ],
   "source": [
    "%%time\n",
    "dtc_best_depth = 0\n",
    "dtc_best_f1 = 0\n",
    "dtc_best_crt = 0\n",
    "best_dtc_ds = 0\n",
    "best_auc_roc = 0\n",
    "criterions = ['gini', 'entropy']\n",
    "for crt in criterions:\n",
    "    for depth in range(1, 20):\n",
    "        dtc = DecisionTreeClassifier(criterion=crt, max_depth=depth, random_state=12345)\n",
    "        dtc.fit(features_downsampled, target_downsampled)\n",
    "        predictions_valid = dtc.predict(features_valid)\n",
    "        f1 = f1_score(target_valid, predictions_valid)\n",
    "        probabilities_valid = dtc.predict_proba(features_valid)\n",
    "        probabilities_one_valid = probabilities_valid[:, 1]\n",
    "        auc_roc = roc_auc_score(target_valid, probabilities_one_valid)\n",
    "        if f1 > dtc_best_f1 and auc_roc > best_auc_roc:\n",
    "            dtc_best_depth = depth\n",
    "            dtc_best_crt = crt\n",
    "            dtc_best_f1 = f1\n",
    "            best_dtc_ds = dtc\n",
    "            best_auc_roc = auc_roc\n",
    "            print(f'max_depth = {depth}, criterion = {crt}, f1_score: {f1}, auc_roc: {auc_roc}')\n",
    "        \n",
    "print(f'Точность наилучшей модели на валидационной выборке:\\\n",
    "{dtc_best_f1}\\nПри критерии: {dtc_best_crt}\\nПри глубине дерева: {dtc_best_depth}\\nauc_roc: {best_auc_roc}')"
   ]
  },
  {
   "cell_type": "markdown",
   "metadata": {},
   "source": [
    "#### Случайный лес "
   ]
  },
  {
   "cell_type": "code",
   "execution_count": 93,
   "metadata": {
    "scrolled": false
   },
   "outputs": [
    {
     "name": "stdout",
     "output_type": "stream",
     "text": [
      "est: 20, max_depth: 1, criterion: gini, f1_score: 0.5267406659939455, auc_roc: 0.8011830824604876\n",
      "est: 20, max_depth: 2, criterion: gini, f1_score: 0.5370051635111875, auc_roc: 0.8037765095469598\n",
      "est: 20, max_depth: 3, criterion: gini, f1_score: 0.5495652173913044, auc_roc: 0.8192606184349192\n",
      "est: 20, max_depth: 4, criterion: gini, f1_score: 0.5591985428051003, auc_roc: 0.82876635320678\n",
      "est: 20, max_depth: 5, criterion: gini, f1_score: 0.5711662075298439, auc_roc: 0.8337133528514956\n",
      "est: 20, max_depth: 7, criterion: gini, f1_score: 0.5869158878504672, auc_roc: 0.8441500230110437\n",
      "est: 20, max_depth: 5, criterion: entropy, f1_score: 0.5923149015932522, auc_roc: 0.8378883207334751\n",
      "est: 25, max_depth: 8, criterion: entropy, f1_score: 0.5925233644859812, auc_roc: 0.8444191098099002\n",
      "est: 50, max_depth: 8, criterion: gini, f1_score: 0.5941893158388004, auc_roc: 0.8461363183229371\n",
      "est: 50, max_depth: 11, criterion: entropy, f1_score: 0.5951492537313432, auc_roc: 0.8473265964192718\n",
      "est: 65, max_depth: 5, criterion: entropy, f1_score: 0.5958646616541354, auc_roc: 0.8390283792879618\n",
      "est: 65, max_depth: 10, criterion: entropy, f1_score: 0.5960637300843485, auc_roc: 0.85154203975289\n",
      "est: 70, max_depth: 10, criterion: entropy, f1_score: 0.599624060150376, auc_roc: 0.8506111043652025\n",
      "est: 80, max_depth: 10, criterion: entropy, f1_score: 0.6007532956685498, auc_roc: 0.8511567734169225\n",
      "Точность наилучшей модели на валидационной выборке:0.6007532956685498\n",
      "Количестве деревьев: 80\n",
      "При критерии: entropy\n",
      "При глубине дерева:10\n",
      "auc_roc: 0.8511567734169225\n",
      "CPU times: user 3min 25s, sys: 1.58 s, total: 3min 26s\n",
      "Wall time: 3min 27s\n"
     ]
    }
   ],
   "source": [
    "%%time\n",
    "rfc_best_depth = 0\n",
    "rfc_best_f1 = 0\n",
    "rfc_best_crt = 0\n",
    "best_rfc_ds = 0\n",
    "best_auc_roc = 0\n",
    "best_est = 0\n",
    "criterions = ['gini', 'entropy']\n",
    "for est in range(20, 121, 5):\n",
    "    for crt in criterions:\n",
    "        for depth in range(1, 20):\n",
    "            rfc = RandomForestClassifier(n_estimators=est, criterion=crt, max_depth=depth, \n",
    "                                         random_state=12345)\n",
    "            rfc.fit(features_downsampled, target_downsampled)\n",
    "            predictions_valid = rfc.predict(features_valid)\n",
    "            f1 = f1_score(target_valid, predictions_valid)\n",
    "            probabilities_valid = rfc.predict_proba(features_valid)\n",
    "            probabilities_one_valid = probabilities_valid[:, 1]\n",
    "            auc_roc = roc_auc_score(target_valid, probabilities_one_valid)\n",
    "            if f1 > rfc_best_f1:\n",
    "                rfc_best_depth = depth\n",
    "                rfc_best_crt = crt\n",
    "                rfc_best_f1 = f1\n",
    "                best_rfc_ds = rfc\n",
    "                best_est = est\n",
    "                best_auc_roc = auc_roc\n",
    "                print(f'est: {est}, max_depth: {depth}, criterion: {crt}, f1_score: {f1}, auc_roc: {auc_roc}')\n",
    "\n",
    "print(f'Точность наилучшей модели на валидационной выборке:\\\n",
    "{rfc_best_f1}\\nКоличестве деревьев: {best_est}\\nПри критерии: {rfc_best_crt}\\nПри глубине дерева:\\\n",
    "{rfc_best_depth}\\nauc_roc: {best_auc_roc}')"
   ]
  },
  {
   "cell_type": "markdown",
   "metadata": {},
   "source": [
    "#### Логистическая регрессия "
   ]
  },
  {
   "cell_type": "code",
   "execution_count": 94,
   "metadata": {},
   "outputs": [
    {
     "name": "stdout",
     "output_type": "stream",
     "text": [
      "f1_score: 0.48542024013722124, solver: lbfgs, auc_roc: 0.7411609858620746\n",
      "Точность наилучшей модели на валидационной выборке:0.48542024013722124\n",
      "При solver: lbfgs\n",
      "auc_roc: 0.7411609858620746\n"
     ]
    }
   ],
   "source": [
    "lr_best_model_ds = 0\n",
    "best_solver = 0\n",
    "best_f1 = 0\n",
    "best_auc_roc = 0\n",
    "solvers = ['lbfgs', 'liblinear', 'sag', 'saga']\n",
    "for solver in solvers: \n",
    "        lr = LogisticRegression(random_state=12345, solver=solver, max_iter=10000)\n",
    "        lr.fit(features_downsampled, target_downsampled)\n",
    "        predictions_valid = lr.predict(features_valid)\n",
    "        f1 = f1_score(target_valid, predictions_valid)\n",
    "        predictions_valid = lr.predict(features_valid)\n",
    "        probabilities_valid = lr.predict_proba(features_valid)\n",
    "        probabilities_one_valid = probabilities_valid[:, 1]\n",
    "        auc_roc = roc_auc_score(target_valid, probabilities_one_valid)\n",
    "        if f1 > best_f1:\n",
    "            best_f1 = f1\n",
    "            lr_best_model_ds = lr\n",
    "            best_solver = solver\n",
    "            best_auc_roc = auc_roc\n",
    "            print(f'f1_score: {f1}, solver: {solver}, auc_roc: {auc_roc}')\n",
    "            \n",
    "print(f'Точность наилучшей модели на валидационной выборке:\\\n",
    "{best_f1}\\nПри solver: {best_solver}\\nauc_roc: {best_auc_roc}')"
   ]
  },
  {
   "cell_type": "markdown",
   "metadata": {},
   "source": [
    "**Вывод:**\n",
    "    \n",
    "Лучше всего себя показала модель случайного леса при увеличении положительного класса в обучающей выборке. \n",
    "- Точность наилучшей модели на валидационной выборке(f1): 0.6197854588796186\n",
    "- auc_roc: 0.8476916250294195\n",
    "\n",
    "Дальнейшую проверку модели на тестовой выборке будем проводить на этой модели со следующими гиперпараметрами.\n",
    "\n",
    "- Количестве деревьев: 55\n",
    "- При критерии: entropy\n",
    "- При глубине дерева: 13\n",
    "\n",
    "\n"
   ]
  },
  {
   "cell_type": "markdown",
   "metadata": {},
   "source": [
    "## Тестирование модели"
   ]
  },
  {
   "cell_type": "markdown",
   "metadata": {},
   "source": [
    "Проверим лучшую модель на тестовой выборке"
   ]
  },
  {
   "cell_type": "markdown",
   "metadata": {},
   "source": [
    "### Случайный лес(upsampled)"
   ]
  },
  {
   "cell_type": "code",
   "execution_count": 95,
   "metadata": {},
   "outputs": [
    {
     "name": "stdout",
     "output_type": "stream",
     "text": [
      "F1 score = 0.6142076502732241\n",
      "AUC-ROC = 0.8492127341684862\n"
     ]
    },
    {
     "data": {
      "image/png": "[encoded data removed]",
      "text/plain": [
       "<Figure size 432x288 with 1 Axes>"
      ]
     },
     "metadata": {
      "needs_background": "light"
     },
     "output_type": "display_data"
    }
   ],
   "source": [
    "predictions_test = best_rfc_us.predict(features_test)\n",
    "f1 = f1_score(target_test, predictions_test)\n",
    "probabilities_test = best_rfc_us.predict_proba(features_test)\n",
    "probabilities_one_test = probabilities_test[:, 1]\n",
    "auc_roc = roc_auc_score(target_test, probabilities_one_test)\n",
    "print('F1 score =', f1)\n",
    "print('AUC-ROC =',auc_roc)\n",
    "fpr, tpr, _ = roc_curve(target_test, probabilities_one_test)\n",
    "plt.plot(fpr, tpr, label=f'AUC-ROC= {str(auc_roc)}')\n",
    "plt.ylabel('True Positive Rate')\n",
    "plt.xlabel('False Positive Rate')\n",
    "plt.legend(loc=4);"
   ]
  },
  {
   "cell_type": "markdown",
   "metadata": {},
   "source": [
    "Лучшая из обученных и проверенных на валидационной выборке моделей показала себя на том же высоком уровне на тестовой выборке.\n",
    "\n",
    "Модель: Случайный лес с увеличением обучающей выборки\n",
    "\n",
    "Гиперпараметры:\n",
    "\n",
    "- Количестве деревьев: 55\n",
    "- При критерии: entropy\n",
    "- При глубине дерева: 13\n",
    "\n",
    "Модель случайного леса с вышеуказанными гиперпараметрами на тестовых данных получила следующий результат:\n",
    "\n",
    "- F1 score = 0.6142076502732241\n",
    "- AUC-ROC = 0.8492127341684862"
   ]
  },
  {
   "cell_type": "markdown",
   "metadata": {},
   "source": [
    "### Переобучение лучшей модели"
   ]
  },
  {
   "cell_type": "markdown",
   "metadata": {},
   "source": [
    "Создадим новую обучающую выборку объединив обучающую и валидационную выборку и переобучим лучшую модель на новой обучающей выборке."
   ]
  },
  {
   "cell_type": "code",
   "execution_count": 96,
   "metadata": {},
   "outputs": [
    {
     "data": {
      "text/plain": [
       "0       0\n",
       "1       0\n",
       "2       1\n",
       "3       0\n",
       "4       0\n",
       "       ..\n",
       "7995    0\n",
       "7996    0\n",
       "7997    0\n",
       "7998    0\n",
       "7999    0\n",
       "Name: Exited, Length: 8000, dtype: int64"
      ]
     },
     "execution_count": 96,
     "metadata": {},
     "output_type": "execute_result"
    }
   ],
   "source": [
    "features_train_new = pd.concat([features_valid, features_train], axis=0)\n",
    "target_train_new = pd.concat([target_valid, target_train], axis=0)\n",
    "features_train_new.reset_index(drop=True)\n",
    "target_train_new.reset_index(drop=True)\n"
   ]
  },
  {
   "cell_type": "code",
   "execution_count": 97,
   "metadata": {},
   "outputs": [
    {
     "name": "stdout",
     "output_type": "stream",
     "text": [
      "F1 score = 0.6007532956685498\n",
      "AUC-ROC = 0.7411609858620746\n"
     ]
    },
    {
     "data": {
      "image/png": "[encoded data removed]",
      "text/plain": [
       "<Figure size 432x288 with 1 Axes>"
      ]
     },
     "metadata": {
      "needs_background": "light"
     },
     "output_type": "display_data"
    }
   ],
   "source": [
    "best_rfc_us.fit(features_train_new, target_train_new)\n",
    "predictions_test = best_rfc_us.predict(features_test)\n",
    "f1 = f1_score(target_test, predictions_test)\n",
    "probabilities_test = best_rfc_us.predict_proba(features_test)\n",
    "probabilities_one_test = probabilities_test[:, 1]\n",
    "auc_roc = roc_auc_score(target_test, probabilities_one_test)\n",
    "print('F1 score =', rfc_best_f1)\n",
    "print('AUC-ROC =',best_auc_roc)\n",
    "fpr, tpr, _ = roc_curve(target_test, probabilities_one_test)\n",
    "plt.plot(fpr, tpr, label=f'AUC-ROC= {str(best_auc_roc)}')\n",
    "plt.ylabel('True Positive Rate')\n",
    "plt.xlabel('False Positive Rate')\n",
    "plt.legend(loc=4);"
   ]
  },
  {
   "cell_type": "markdown",
   "metadata": {},
   "source": [
    "После переобучения лучшей модели на новой обучающей выборке метрика f1 немного снизилась, прогностическая способность модели auc-roc тоже снизилась. \n",
    "\n",
    "Модель: Случайный лес с увеличением обучающей выборки\n",
    "\n",
    "Гиперпараметры:\n",
    "\n",
    "- Количестве деревьев: 55\n",
    "- При критерии: gini\n",
    "- При глубине дерева: 13\n",
    "\n",
    "Модель случайного леса с вышеуказанными гиперпараметрами на тестовых данных получила следующий результат:\n",
    "\n",
    "- F1 score = 0.6007532956685498\n",
    "- AUC-ROC = 0.7411609858620746"
   ]
  },
  {
   "cell_type": "markdown",
   "metadata": {},
   "source": [
    "## Вывод"
   ]
  },
  {
   "cell_type": "markdown",
   "metadata": {},
   "source": [
    "- Нами был проведен первичный анализ данных, выявлен явный дисбаланс классов, отрицательного к положительному - 4 к 1.\n",
    "- Произвели предобработку данных, заполнили пропуски значением 0, промасштабировали количественные признаки, сделали One_hot_encoding. \n",
    "- Модель случайного леса до борьбы с дисбалансом показывала результат метрики f1 на валидационной выборке - 58%.\n",
    "- Произвели upsampling положительного класса, благодаря чему удалось повысить f1 меру на валидационной выборке до 61.97%. \n",
    "- Проверка на тестовой выборке подтверждает, что upsampling помог справиться с дисбалансом классов и удалось довести метрику f1 на тестовой выборке до 61%.\n",
    "- Переобучили лучшую модель на новой обучающей выборке объединив обучающую и валидационную выборки, проверка на тестовой выборке показала, что благодаря этому мы увеличили f1 меру до значения в 63%. Площадь под кривой достигла уровня 0.85, что говорит о том, что модель предсказывает целевые признаки, а не угадывает из-за переобученности. "
   ]
  },
  {
   "cell_type": "markdown",
   "metadata": {},
   "source": [
    "## Чек-лист готовности проекта"
   ]
  },
  {
   "cell_type": "markdown",
   "metadata": {},
   "source": [
    "Поставьте 'x' в выполненных пунктах. Далее нажмите Shift+Enter."
   ]
  },
  {
   "cell_type": "markdown",
   "metadata": {},
   "source": [
    "- [x]  Jupyter Notebook открыт\n",
    "- [x]  Весь код выполняется без ошибок\n",
    "- [x]  Ячейки с кодом расположены в порядке исполнения\n",
    "- [x]  Выполнен шаг 1: данные подготовлены\n",
    "- [x]  Выполнен шаг 2: задача исследована\n",
    "    - [x]  Исследован баланс классов\n",
    "    - [x]  Изучены модели без учёта дисбаланса\n",
    "    - [x]  Написаны выводы по результатам исследования\n",
    "- [x]  Выполнен шаг 3: учтён дисбаланс\n",
    "    - [x]  Применено несколько способов борьбы с дисбалансом\n",
    "    - [x]  Написаны выводы по результатам исследования\n",
    "- [x]  Выполнен шаг 4: проведено тестирование\n",
    "- [x]  Удалось достичь *F1*-меры не менее 0.59\n",
    "- [x]  Исследована метрика *AUC-ROC*"
   ]
  }
 ],
 "metadata": {
  "ExecuteTimeLog": [
   {
    "duration": 1771,
    "start_time": "2023-02-26T07:06:10.772Z"
   },
   {
    "duration": 190,
    "start_time": "2023-02-26T07:06:12.545Z"
   },
   {
    "duration": 27,
    "start_time": "2023-02-26T07:06:12.737Z"
   },
   {
    "duration": 12,
    "start_time": "2023-02-26T07:06:12.766Z"
   },
   {
    "duration": 8,
    "start_time": "2023-02-26T07:06:12.781Z"
   },
   {
    "duration": 223,
    "start_time": "2023-02-26T07:06:12.791Z"
   },
   {
    "duration": 5,
    "start_time": "2023-02-26T07:06:13.016Z"
   },
   {
    "duration": 45,
    "start_time": "2023-02-26T07:06:13.023Z"
   },
   {
    "duration": 7,
    "start_time": "2023-02-26T07:06:13.070Z"
   },
   {
    "duration": 23,
    "start_time": "2023-02-26T07:06:13.079Z"
   },
   {
    "duration": 11,
    "start_time": "2023-02-26T07:06:13.104Z"
   },
   {
    "duration": 44,
    "start_time": "2023-02-26T07:06:13.116Z"
   },
   {
    "duration": 10,
    "start_time": "2023-02-26T07:06:13.162Z"
   },
   {
    "duration": 17,
    "start_time": "2023-02-26T07:06:13.175Z"
   },
   {
    "duration": 8,
    "start_time": "2023-02-26T07:06:13.194Z"
   },
   {
    "duration": 1107,
    "start_time": "2023-02-26T07:06:13.203Z"
   },
   {
    "duration": 121081,
    "start_time": "2023-02-26T07:06:14.312Z"
   },
   {
    "duration": 1463,
    "start_time": "2023-02-26T07:08:15.394Z"
   },
   {
    "duration": 1269,
    "start_time": "2023-02-26T07:08:16.859Z"
   },
   {
    "duration": 118796,
    "start_time": "2023-02-26T07:08:18.129Z"
   },
   {
    "duration": 1210,
    "start_time": "2023-02-26T07:10:16.927Z"
   },
   {
    "duration": 14,
    "start_time": "2023-02-26T07:10:18.142Z"
   },
   {
    "duration": 102,
    "start_time": "2023-02-26T07:10:18.158Z"
   },
   {
    "duration": 4,
    "start_time": "2023-02-26T07:10:18.262Z"
   },
   {
    "duration": 1320,
    "start_time": "2023-02-26T07:10:18.267Z"
   },
   {
    "duration": 153314,
    "start_time": "2023-02-26T07:10:19.589Z"
   },
   {
    "duration": 1142,
    "start_time": "2023-02-26T07:12:52.904Z"
   },
   {
    "duration": 89,
    "start_time": "2023-02-26T07:12:54.049Z"
   },
   {
    "duration": 14,
    "start_time": "2023-02-26T07:12:54.140Z"
   },
   {
    "duration": 10,
    "start_time": "2023-02-26T07:12:54.156Z"
   },
   {
    "duration": 670,
    "start_time": "2023-02-26T07:12:54.168Z"
   },
   {
    "duration": 73519,
    "start_time": "2023-02-26T07:12:54.840Z"
   },
   {
    "duration": 1397,
    "start_time": "2023-02-26T07:14:08.361Z"
   },
   {
    "duration": 320,
    "start_time": "2023-02-26T07:14:09.760Z"
   },
   {
    "duration": 47,
    "start_time": "2023-02-26T08:59:21.157Z"
   },
   {
    "duration": 1741,
    "start_time": "2023-02-26T08:59:26.676Z"
   },
   {
    "duration": 99,
    "start_time": "2023-02-26T08:59:28.419Z"
   },
   {
    "duration": 35,
    "start_time": "2023-02-26T08:59:28.519Z"
   },
   {
    "duration": 14,
    "start_time": "2023-02-26T08:59:28.558Z"
   },
   {
    "duration": 11,
    "start_time": "2023-02-26T08:59:28.573Z"
   },
   {
    "duration": 193,
    "start_time": "2023-02-26T08:59:28.586Z"
   },
   {
    "duration": 4,
    "start_time": "2023-02-26T08:59:28.780Z"
   },
   {
    "duration": 21,
    "start_time": "2023-02-26T08:59:28.786Z"
   },
   {
    "duration": 32,
    "start_time": "2023-02-26T08:59:28.808Z"
   },
   {
    "duration": 15,
    "start_time": "2023-02-26T08:59:28.843Z"
   },
   {
    "duration": 24,
    "start_time": "2023-02-26T08:59:28.860Z"
   },
   {
    "duration": 11,
    "start_time": "2023-02-26T08:59:28.885Z"
   },
   {
    "duration": 15,
    "start_time": "2023-02-26T08:59:28.897Z"
   },
   {
    "duration": 27,
    "start_time": "2023-02-26T08:59:28.913Z"
   },
   {
    "duration": 6,
    "start_time": "2023-02-26T08:59:45.690Z"
   },
   {
    "duration": 130,
    "start_time": "2023-02-26T09:00:27.970Z"
   },
   {
    "duration": 119,
    "start_time": "2023-02-26T09:01:01.192Z"
   },
   {
    "duration": 203,
    "start_time": "2023-02-26T09:02:20.600Z"
   },
   {
    "duration": 204,
    "start_time": "2023-02-26T09:02:31.462Z"
   },
   {
    "duration": 4,
    "start_time": "2023-02-26T09:07:27.722Z"
   },
   {
    "duration": 9,
    "start_time": "2023-02-26T09:10:05.117Z"
   },
   {
    "duration": 4,
    "start_time": "2023-02-26T09:10:16.881Z"
   },
   {
    "duration": 4,
    "start_time": "2023-02-26T09:10:37.967Z"
   },
   {
    "duration": 42,
    "start_time": "2023-02-26T09:10:37.973Z"
   },
   {
    "duration": 16,
    "start_time": "2023-02-26T09:10:38.017Z"
   },
   {
    "duration": 12,
    "start_time": "2023-02-26T09:10:38.034Z"
   },
   {
    "duration": 7,
    "start_time": "2023-02-26T09:10:38.047Z"
   },
   {
    "duration": 159,
    "start_time": "2023-02-26T09:10:38.056Z"
   },
   {
    "duration": 5,
    "start_time": "2023-02-26T09:10:38.216Z"
   },
   {
    "duration": 30,
    "start_time": "2023-02-26T09:10:38.222Z"
   },
   {
    "duration": 4,
    "start_time": "2023-02-26T09:10:38.254Z"
   },
   {
    "duration": 7,
    "start_time": "2023-02-26T09:10:38.260Z"
   },
   {
    "duration": 13,
    "start_time": "2023-02-26T09:10:38.268Z"
   },
   {
    "duration": 15,
    "start_time": "2023-02-26T09:10:38.282Z"
   },
   {
    "duration": 38,
    "start_time": "2023-02-26T09:10:38.299Z"
   },
   {
    "duration": 17,
    "start_time": "2023-02-26T09:10:38.339Z"
   },
   {
    "duration": 26,
    "start_time": "2023-02-26T09:12:54.380Z"
   },
   {
    "duration": 19,
    "start_time": "2023-02-26T09:13:02.604Z"
   },
   {
    "duration": 192,
    "start_time": "2023-02-26T09:13:28.213Z"
   },
   {
    "duration": 18,
    "start_time": "2023-02-26T09:13:31.291Z"
   },
   {
    "duration": 195,
    "start_time": "2023-02-26T09:23:14.843Z"
   },
   {
    "duration": 5,
    "start_time": "2023-02-26T09:23:17.102Z"
   },
   {
    "duration": 2474,
    "start_time": "2023-02-26T09:32:43.158Z"
   },
   {
    "duration": 0,
    "start_time": "2023-02-26T09:33:00.249Z"
   },
   {
    "duration": 10816,
    "start_time": "2023-02-26T09:33:02.602Z"
   },
   {
    "duration": 2337,
    "start_time": "2023-02-26T09:33:53.236Z"
   },
   {
    "duration": 2452,
    "start_time": "2023-02-26T09:34:58.218Z"
   },
   {
    "duration": 2281,
    "start_time": "2023-02-26T09:36:06.480Z"
   },
   {
    "duration": 81,
    "start_time": "2023-02-26T09:36:46.008Z"
   },
   {
    "duration": 11,
    "start_time": "2023-02-26T09:48:43.655Z"
   },
   {
    "duration": 10,
    "start_time": "2023-02-26T09:48:58.949Z"
   },
   {
    "duration": 10,
    "start_time": "2023-02-26T09:50:21.989Z"
   },
   {
    "duration": 13,
    "start_time": "2023-02-26T09:53:28.626Z"
   },
   {
    "duration": 10376,
    "start_time": "2023-02-26T09:58:49.821Z"
   },
   {
    "duration": 2141,
    "start_time": "2023-02-26T10:02:08.155Z"
   },
   {
    "duration": 31,
    "start_time": "2023-02-26T10:02:32.237Z"
   },
   {
    "duration": 5,
    "start_time": "2023-02-26T10:05:03.658Z"
   },
   {
    "duration": 20,
    "start_time": "2023-02-26T10:05:08.311Z"
   },
   {
    "duration": 12,
    "start_time": "2023-02-26T10:05:59.760Z"
   },
   {
    "duration": 29,
    "start_time": "2023-02-26T10:18:04.846Z"
   },
   {
    "duration": 26,
    "start_time": "2023-02-26T10:18:14.006Z"
   },
   {
    "duration": 18,
    "start_time": "2023-02-26T10:18:17.289Z"
   },
   {
    "duration": 4,
    "start_time": "2023-02-26T10:18:27.908Z"
   },
   {
    "duration": 38,
    "start_time": "2023-02-26T10:18:27.914Z"
   },
   {
    "duration": 16,
    "start_time": "2023-02-26T10:18:27.954Z"
   },
   {
    "duration": 14,
    "start_time": "2023-02-26T10:18:27.971Z"
   },
   {
    "duration": 9,
    "start_time": "2023-02-26T10:18:27.986Z"
   },
   {
    "duration": 173,
    "start_time": "2023-02-26T10:18:27.997Z"
   },
   {
    "duration": 5,
    "start_time": "2023-02-26T10:18:28.171Z"
   },
   {
    "duration": 40,
    "start_time": "2023-02-26T10:18:28.177Z"
   },
   {
    "duration": 4,
    "start_time": "2023-02-26T10:18:28.218Z"
   },
   {
    "duration": 12,
    "start_time": "2023-02-26T10:18:28.225Z"
   },
   {
    "duration": 15,
    "start_time": "2023-02-26T10:18:28.239Z"
   },
   {
    "duration": 22,
    "start_time": "2023-02-26T10:18:28.256Z"
   },
   {
    "duration": 14,
    "start_time": "2023-02-26T10:18:28.280Z"
   },
   {
    "duration": 10,
    "start_time": "2023-02-26T10:18:28.296Z"
   },
   {
    "duration": 178,
    "start_time": "2023-02-26T10:18:50.979Z"
   },
   {
    "duration": 17,
    "start_time": "2023-02-26T10:18:55.418Z"
   },
   {
    "duration": 5,
    "start_time": "2023-02-26T10:19:36.905Z"
   },
   {
    "duration": 1739,
    "start_time": "2023-02-26T10:20:14.862Z"
   },
   {
    "duration": 11,
    "start_time": "2023-02-26T10:20:35.948Z"
   },
   {
    "duration": 8,
    "start_time": "2023-02-26T10:20:59.757Z"
   },
   {
    "duration": 6,
    "start_time": "2023-02-26T10:21:40.783Z"
   },
   {
    "duration": 18,
    "start_time": "2023-02-26T10:22:34.266Z"
   },
   {
    "duration": 20,
    "start_time": "2023-02-26T10:23:32.151Z"
   },
   {
    "duration": 21,
    "start_time": "2023-02-26T10:24:14.595Z"
   },
   {
    "duration": 20,
    "start_time": "2023-02-26T10:25:14.845Z"
   },
   {
    "duration": 20,
    "start_time": "2023-02-26T10:27:26.168Z"
   },
   {
    "duration": 24,
    "start_time": "2023-02-26T10:28:15.507Z"
   },
   {
    "duration": 23,
    "start_time": "2023-02-26T10:28:59.037Z"
   },
   {
    "duration": 25,
    "start_time": "2023-02-26T10:29:12.620Z"
   },
   {
    "duration": 24,
    "start_time": "2023-02-26T10:30:08.678Z"
   },
   {
    "duration": 13,
    "start_time": "2023-02-26T10:31:53.416Z"
   },
   {
    "duration": 15,
    "start_time": "2023-02-26T10:33:48.478Z"
   },
   {
    "duration": 21,
    "start_time": "2023-02-26T10:33:58.969Z"
   },
   {
    "duration": 26,
    "start_time": "2023-02-26T10:35:51.780Z"
   },
   {
    "duration": 30,
    "start_time": "2023-02-26T10:35:58.670Z"
   },
   {
    "duration": 59,
    "start_time": "2023-02-26T10:36:16.505Z"
   },
   {
    "duration": 22,
    "start_time": "2023-02-26T10:37:11.521Z"
   },
   {
    "duration": 21,
    "start_time": "2023-02-26T10:38:39.203Z"
   },
   {
    "duration": 32,
    "start_time": "2023-02-26T10:39:22.944Z"
   },
   {
    "duration": 20,
    "start_time": "2023-02-26T10:40:47.313Z"
   },
   {
    "duration": 1336,
    "start_time": "2023-02-26T10:41:06.849Z"
   },
   {
    "duration": 36,
    "start_time": "2023-02-26T10:41:08.187Z"
   },
   {
    "duration": 19,
    "start_time": "2023-02-26T10:41:08.225Z"
   },
   {
    "duration": 11,
    "start_time": "2023-02-26T10:41:08.246Z"
   },
   {
    "duration": 6,
    "start_time": "2023-02-26T10:41:08.259Z"
   },
   {
    "duration": 197,
    "start_time": "2023-02-26T10:41:08.267Z"
   },
   {
    "duration": 5,
    "start_time": "2023-02-26T10:41:08.465Z"
   },
   {
    "duration": 21,
    "start_time": "2023-02-26T10:41:08.471Z"
   },
   {
    "duration": 5,
    "start_time": "2023-02-26T10:41:08.494Z"
   },
   {
    "duration": 37,
    "start_time": "2023-02-26T10:41:08.501Z"
   },
   {
    "duration": 15,
    "start_time": "2023-02-26T10:41:08.540Z"
   },
   {
    "duration": 17,
    "start_time": "2023-02-26T10:41:08.556Z"
   },
   {
    "duration": 10,
    "start_time": "2023-02-26T10:41:08.574Z"
   },
   {
    "duration": 86,
    "start_time": "2023-02-26T10:41:08.586Z"
   },
   {
    "duration": 45,
    "start_time": "2023-02-26T10:45:12.684Z"
   },
   {
    "duration": 45,
    "start_time": "2023-02-26T10:48:20.143Z"
   },
   {
    "duration": 48,
    "start_time": "2023-02-26T10:49:11.923Z"
   },
   {
    "duration": 73,
    "start_time": "2023-02-26T10:51:15.247Z"
   },
   {
    "duration": 64,
    "start_time": "2023-02-26T10:51:51.532Z"
   },
   {
    "duration": 140,
    "start_time": "2023-02-26T10:52:25.500Z"
   },
   {
    "duration": 37,
    "start_time": "2023-02-26T10:52:33.480Z"
   },
   {
    "duration": 57,
    "start_time": "2023-02-26T10:53:36.647Z"
   },
   {
    "duration": 43,
    "start_time": "2023-02-26T10:53:53.548Z"
   },
   {
    "duration": 43,
    "start_time": "2023-02-26T10:54:33.353Z"
   },
   {
    "duration": 36,
    "start_time": "2023-02-26T10:56:17.690Z"
   },
   {
    "duration": 34,
    "start_time": "2023-02-26T10:56:29.016Z"
   },
   {
    "duration": 42,
    "start_time": "2023-02-26T10:56:37.398Z"
   },
   {
    "duration": 25,
    "start_time": "2023-02-26T10:57:07.647Z"
   },
   {
    "duration": 21,
    "start_time": "2023-02-26T10:58:50.195Z"
   },
   {
    "duration": 44,
    "start_time": "2023-02-26T11:00:15.218Z"
   },
   {
    "duration": 57,
    "start_time": "2023-02-26T11:00:45.821Z"
   },
   {
    "duration": 28,
    "start_time": "2023-02-26T11:01:42.202Z"
   },
   {
    "duration": 53,
    "start_time": "2023-02-26T11:01:51.945Z"
   },
   {
    "duration": 60,
    "start_time": "2023-02-26T11:02:07.065Z"
   },
   {
    "duration": 29,
    "start_time": "2023-02-26T11:02:28.291Z"
   },
   {
    "duration": 28,
    "start_time": "2023-02-26T11:02:40.844Z"
   },
   {
    "duration": 27,
    "start_time": "2023-02-26T11:02:58.344Z"
   },
   {
    "duration": 40,
    "start_time": "2023-02-26T11:03:02.750Z"
   },
   {
    "duration": 58,
    "start_time": "2023-02-26T11:03:14.919Z"
   },
   {
    "duration": 60,
    "start_time": "2023-02-26T11:03:25.263Z"
   },
   {
    "duration": 5,
    "start_time": "2023-02-26T11:03:34.260Z"
   },
   {
    "duration": 46,
    "start_time": "2023-02-26T11:03:34.267Z"
   },
   {
    "duration": 16,
    "start_time": "2023-02-26T11:03:34.315Z"
   },
   {
    "duration": 12,
    "start_time": "2023-02-26T11:03:34.334Z"
   },
   {
    "duration": 8,
    "start_time": "2023-02-26T11:03:34.348Z"
   },
   {
    "duration": 172,
    "start_time": "2023-02-26T11:03:34.358Z"
   },
   {
    "duration": 8,
    "start_time": "2023-02-26T11:03:34.531Z"
   },
   {
    "duration": 26,
    "start_time": "2023-02-26T11:03:34.541Z"
   },
   {
    "duration": 5,
    "start_time": "2023-02-26T11:03:34.569Z"
   },
   {
    "duration": 2,
    "start_time": "2023-02-26T11:03:34.576Z"
   },
   {
    "duration": 13,
    "start_time": "2023-02-26T11:03:34.581Z"
   },
   {
    "duration": 56,
    "start_time": "2023-02-26T11:03:34.595Z"
   },
   {
    "duration": 14,
    "start_time": "2023-02-26T11:03:34.653Z"
   },
   {
    "duration": 48,
    "start_time": "2023-02-26T11:03:34.670Z"
   },
   {
    "duration": 1371,
    "start_time": "2023-02-26T11:04:00.086Z"
   },
   {
    "duration": 38,
    "start_time": "2023-02-26T11:04:01.459Z"
   },
   {
    "duration": 23,
    "start_time": "2023-02-26T11:04:01.499Z"
   },
   {
    "duration": 14,
    "start_time": "2023-02-26T11:04:01.524Z"
   },
   {
    "duration": 31,
    "start_time": "2023-02-26T11:04:01.541Z"
   },
   {
    "duration": 221,
    "start_time": "2023-02-26T11:04:01.574Z"
   },
   {
    "duration": 4,
    "start_time": "2023-02-26T11:04:01.797Z"
   },
   {
    "duration": 50,
    "start_time": "2023-02-26T11:04:01.803Z"
   },
   {
    "duration": 7,
    "start_time": "2023-02-26T11:04:01.855Z"
   },
   {
    "duration": 13,
    "start_time": "2023-02-26T11:04:01.864Z"
   },
   {
    "duration": 18,
    "start_time": "2023-02-26T11:04:01.879Z"
   },
   {
    "duration": 21,
    "start_time": "2023-02-26T11:04:01.899Z"
   },
   {
    "duration": 12,
    "start_time": "2023-02-26T11:04:01.938Z"
   },
   {
    "duration": 74,
    "start_time": "2023-02-26T11:04:01.952Z"
   },
   {
    "duration": 127,
    "start_time": "2023-02-26T11:04:39.040Z"
   },
   {
    "duration": 35,
    "start_time": "2023-02-26T11:05:25.120Z"
   },
   {
    "duration": 48,
    "start_time": "2023-02-26T11:05:31.905Z"
   },
   {
    "duration": 28,
    "start_time": "2023-02-26T11:05:53.681Z"
   },
   {
    "duration": 24,
    "start_time": "2023-02-26T11:06:00.609Z"
   },
   {
    "duration": 1377,
    "start_time": "2023-02-26T11:06:13.055Z"
   },
   {
    "duration": 40,
    "start_time": "2023-02-26T11:06:14.433Z"
   },
   {
    "duration": 34,
    "start_time": "2023-02-26T11:06:14.475Z"
   },
   {
    "duration": 15,
    "start_time": "2023-02-26T11:06:14.512Z"
   },
   {
    "duration": 10,
    "start_time": "2023-02-26T11:06:14.538Z"
   },
   {
    "duration": 229,
    "start_time": "2023-02-26T11:06:14.550Z"
   },
   {
    "duration": 7,
    "start_time": "2023-02-26T11:06:14.782Z"
   },
   {
    "duration": 56,
    "start_time": "2023-02-26T11:06:14.791Z"
   },
   {
    "duration": 5,
    "start_time": "2023-02-26T11:06:14.849Z"
   },
   {
    "duration": 17,
    "start_time": "2023-02-26T11:06:14.856Z"
   },
   {
    "duration": 26,
    "start_time": "2023-02-26T11:06:14.876Z"
   },
   {
    "duration": 94,
    "start_time": "2023-02-26T11:06:14.911Z"
   },
   {
    "duration": 16,
    "start_time": "2023-02-26T11:06:15.007Z"
   },
   {
    "duration": 63,
    "start_time": "2023-02-26T11:06:15.026Z"
   },
   {
    "duration": 39,
    "start_time": "2023-02-26T11:06:57.255Z"
   },
   {
    "duration": 43,
    "start_time": "2023-02-26T11:07:46.551Z"
   },
   {
    "duration": 1313,
    "start_time": "2023-02-26T11:08:03.639Z"
   },
   {
    "duration": 37,
    "start_time": "2023-02-26T11:08:04.954Z"
   },
   {
    "duration": 20,
    "start_time": "2023-02-26T11:08:04.993Z"
   },
   {
    "duration": 12,
    "start_time": "2023-02-26T11:08:05.015Z"
   },
   {
    "duration": 10,
    "start_time": "2023-02-26T11:08:05.029Z"
   },
   {
    "duration": 179,
    "start_time": "2023-02-26T11:08:05.040Z"
   },
   {
    "duration": 6,
    "start_time": "2023-02-26T11:08:05.220Z"
   },
   {
    "duration": 29,
    "start_time": "2023-02-26T11:08:05.227Z"
   },
   {
    "duration": 5,
    "start_time": "2023-02-26T11:08:05.258Z"
   },
   {
    "duration": 6,
    "start_time": "2023-02-26T11:08:05.265Z"
   },
   {
    "duration": 19,
    "start_time": "2023-02-26T11:08:05.273Z"
   },
   {
    "duration": 43,
    "start_time": "2023-02-26T11:08:05.294Z"
   },
   {
    "duration": 13,
    "start_time": "2023-02-26T11:08:05.339Z"
   },
   {
    "duration": 39,
    "start_time": "2023-02-26T11:08:05.354Z"
   },
   {
    "duration": 58,
    "start_time": "2023-02-26T11:08:05.395Z"
   },
   {
    "duration": 41,
    "start_time": "2023-02-26T11:08:22.937Z"
   },
   {
    "duration": 4,
    "start_time": "2023-02-26T11:08:30.147Z"
   },
   {
    "duration": 57,
    "start_time": "2023-02-26T11:08:30.153Z"
   },
   {
    "duration": 16,
    "start_time": "2023-02-26T11:08:30.212Z"
   },
   {
    "duration": 35,
    "start_time": "2023-02-26T11:08:30.230Z"
   },
   {
    "duration": 7,
    "start_time": "2023-02-26T11:08:30.267Z"
   },
   {
    "duration": 165,
    "start_time": "2023-02-26T11:08:30.276Z"
   },
   {
    "duration": 4,
    "start_time": "2023-02-26T11:08:30.443Z"
   },
   {
    "duration": 26,
    "start_time": "2023-02-26T11:08:30.449Z"
   },
   {
    "duration": 13,
    "start_time": "2023-02-26T11:08:30.476Z"
   },
   {
    "duration": 30,
    "start_time": "2023-02-26T11:08:30.491Z"
   },
   {
    "duration": 23,
    "start_time": "2023-02-26T11:08:30.524Z"
   },
   {
    "duration": 38,
    "start_time": "2023-02-26T11:08:30.549Z"
   },
   {
    "duration": 23,
    "start_time": "2023-02-26T11:08:30.589Z"
   },
   {
    "duration": 54,
    "start_time": "2023-02-26T11:08:30.613Z"
   },
   {
    "duration": 34,
    "start_time": "2023-02-26T11:08:30.670Z"
   },
   {
    "duration": 43,
    "start_time": "2023-02-26T11:09:47.731Z"
   },
   {
    "duration": 109,
    "start_time": "2023-02-26T11:10:08.329Z"
   },
   {
    "duration": 4,
    "start_time": "2023-02-26T11:10:17.732Z"
   },
   {
    "duration": 43,
    "start_time": "2023-02-26T11:10:17.751Z"
   },
   {
    "duration": 22,
    "start_time": "2023-02-26T11:10:17.797Z"
   },
   {
    "duration": 16,
    "start_time": "2023-02-26T11:10:17.820Z"
   },
   {
    "duration": 8,
    "start_time": "2023-02-26T11:10:17.839Z"
   },
   {
    "duration": 201,
    "start_time": "2023-02-26T11:10:17.849Z"
   },
   {
    "duration": 4,
    "start_time": "2023-02-26T11:10:18.053Z"
   },
   {
    "duration": 34,
    "start_time": "2023-02-26T11:10:18.059Z"
   },
   {
    "duration": 20,
    "start_time": "2023-02-26T11:10:18.095Z"
   },
   {
    "duration": 13,
    "start_time": "2023-02-26T11:10:18.117Z"
   },
   {
    "duration": 21,
    "start_time": "2023-02-26T11:10:18.132Z"
   },
   {
    "duration": 18,
    "start_time": "2023-02-26T11:10:18.155Z"
   },
   {
    "duration": 12,
    "start_time": "2023-02-26T11:10:18.175Z"
   },
   {
    "duration": 77,
    "start_time": "2023-02-26T11:10:18.189Z"
   },
   {
    "duration": 34,
    "start_time": "2023-02-26T11:10:18.268Z"
   },
   {
    "duration": 50,
    "start_time": "2023-02-26T11:10:18.304Z"
   },
   {
    "duration": 204,
    "start_time": "2023-02-26T11:10:40.341Z"
   },
   {
    "duration": 1009,
    "start_time": "2023-02-26T11:10:45.253Z"
   },
   {
    "duration": 96364,
    "start_time": "2023-02-26T11:10:51.929Z"
   },
   {
    "duration": 1555,
    "start_time": "2023-02-26T11:12:36.048Z"
   },
   {
    "duration": 1031,
    "start_time": "2023-02-26T11:12:51.325Z"
   },
   {
    "duration": 95126,
    "start_time": "2023-02-26T11:13:00.230Z"
   },
   {
    "duration": 302159,
    "start_time": "2023-02-26T11:15:31.632Z"
   },
   {
    "duration": 821,
    "start_time": "2023-02-26T11:20:49.369Z"
   },
   {
    "duration": 4,
    "start_time": "2023-02-26T11:20:56.192Z"
   },
   {
    "duration": 20,
    "start_time": "2023-02-26T11:20:56.625Z"
   },
   {
    "duration": 9,
    "start_time": "2023-02-26T11:20:57.003Z"
   },
   {
    "duration": 4,
    "start_time": "2023-02-26T11:21:41.818Z"
   },
   {
    "duration": 16,
    "start_time": "2023-02-26T11:21:42.815Z"
   },
   {
    "duration": 1374,
    "start_time": "2023-02-26T11:27:09.908Z"
   },
   {
    "duration": 37,
    "start_time": "2023-02-26T11:27:11.284Z"
   },
   {
    "duration": 26,
    "start_time": "2023-02-26T11:27:11.323Z"
   },
   {
    "duration": 17,
    "start_time": "2023-02-26T11:27:11.351Z"
   },
   {
    "duration": 7,
    "start_time": "2023-02-26T11:27:11.369Z"
   },
   {
    "duration": 195,
    "start_time": "2023-02-26T11:27:11.377Z"
   },
   {
    "duration": 4,
    "start_time": "2023-02-26T11:27:11.573Z"
   },
   {
    "duration": 27,
    "start_time": "2023-02-26T11:27:11.579Z"
   },
   {
    "duration": 4,
    "start_time": "2023-02-26T11:27:11.608Z"
   },
   {
    "duration": 3,
    "start_time": "2023-02-26T11:27:11.613Z"
   },
   {
    "duration": 16,
    "start_time": "2023-02-26T11:27:11.636Z"
   },
   {
    "duration": 20,
    "start_time": "2023-02-26T11:27:11.653Z"
   },
   {
    "duration": 11,
    "start_time": "2023-02-26T11:27:11.674Z"
   },
   {
    "duration": 58,
    "start_time": "2023-02-26T11:27:11.687Z"
   },
   {
    "duration": 25,
    "start_time": "2023-02-26T11:27:11.747Z"
   },
   {
    "duration": 23,
    "start_time": "2023-02-26T11:27:11.773Z"
   },
   {
    "duration": 4,
    "start_time": "2023-02-26T11:27:24.412Z"
   },
   {
    "duration": 11,
    "start_time": "2023-02-26T11:27:24.887Z"
   },
   {
    "duration": 6,
    "start_time": "2023-02-26T11:27:25.948Z"
   },
   {
    "duration": 1333,
    "start_time": "2023-02-26T11:27:28.460Z"
   },
   {
    "duration": 124651,
    "start_time": "2023-02-26T11:27:37.167Z"
   },
   {
    "duration": 398216,
    "start_time": "2023-02-26T11:29:45.350Z"
   },
   {
    "duration": 197,
    "start_time": "2023-02-26T11:36:31.472Z"
   },
   {
    "duration": 11,
    "start_time": "2023-02-26T12:57:13.025Z"
   },
   {
    "duration": 5,
    "start_time": "2023-02-26T13:00:32.647Z"
   },
   {
    "duration": 13,
    "start_time": "2023-02-26T13:01:10.341Z"
   },
   {
    "duration": 20,
    "start_time": "2023-02-26T13:01:52.850Z"
   },
   {
    "duration": 42,
    "start_time": "2023-02-26T13:01:55.104Z"
   },
   {
    "duration": 29,
    "start_time": "2023-02-26T13:01:58.901Z"
   },
   {
    "duration": 1263,
    "start_time": "2023-02-26T13:02:10.285Z"
   },
   {
    "duration": 35,
    "start_time": "2023-02-26T13:02:11.551Z"
   },
   {
    "duration": 21,
    "start_time": "2023-02-26T13:02:11.587Z"
   },
   {
    "duration": 11,
    "start_time": "2023-02-26T13:02:11.610Z"
   },
   {
    "duration": 6,
    "start_time": "2023-02-26T13:02:11.623Z"
   },
   {
    "duration": 176,
    "start_time": "2023-02-26T13:02:11.631Z"
   },
   {
    "duration": 5,
    "start_time": "2023-02-26T13:02:11.809Z"
   },
   {
    "duration": 33,
    "start_time": "2023-02-26T13:02:11.815Z"
   },
   {
    "duration": 4,
    "start_time": "2023-02-26T13:02:11.850Z"
   },
   {
    "duration": 7,
    "start_time": "2023-02-26T13:02:11.856Z"
   },
   {
    "duration": 16,
    "start_time": "2023-02-26T13:02:11.865Z"
   },
   {
    "duration": 2,
    "start_time": "2023-02-26T13:02:11.883Z"
   },
   {
    "duration": 16,
    "start_time": "2023-02-26T13:02:11.886Z"
   },
   {
    "duration": 51,
    "start_time": "2023-02-26T13:02:11.904Z"
   },
   {
    "duration": 40,
    "start_time": "2023-02-26T13:02:11.957Z"
   },
   {
    "duration": 51,
    "start_time": "2023-02-26T13:02:11.999Z"
   },
   {
    "duration": 25,
    "start_time": "2023-02-26T13:02:12.052Z"
   },
   {
    "duration": 129,
    "start_time": "2023-02-26T13:02:12.079Z"
   },
   {
    "duration": 0,
    "start_time": "2023-02-26T13:02:12.210Z"
   },
   {
    "duration": 1047,
    "start_time": "2023-02-26T13:02:22.565Z"
   },
   {
    "duration": 292112,
    "start_time": "2023-02-26T13:02:27.014Z"
   },
   {
    "duration": 1014,
    "start_time": "2023-02-26T13:07:23.749Z"
   },
   {
    "duration": 1016,
    "start_time": "2023-02-26T13:07:35.403Z"
   },
   {
    "duration": 298417,
    "start_time": "2023-02-26T13:07:45.284Z"
   },
   {
    "duration": 804,
    "start_time": "2023-02-26T13:15:56.668Z"
   },
   {
    "duration": 4,
    "start_time": "2023-02-26T13:16:01.329Z"
   },
   {
    "duration": 11,
    "start_time": "2023-02-26T13:16:01.994Z"
   },
   {
    "duration": 4,
    "start_time": "2023-02-26T13:16:02.634Z"
   },
   {
    "duration": 1287,
    "start_time": "2023-02-26T13:16:09.946Z"
   },
   {
    "duration": 389348,
    "start_time": "2023-02-26T13:16:14.411Z"
   },
   {
    "duration": 1144,
    "start_time": "2023-02-26T13:22:49.918Z"
   },
   {
    "duration": 4,
    "start_time": "2023-02-26T13:22:53.657Z"
   },
   {
    "duration": 10,
    "start_time": "2023-02-26T13:22:55.260Z"
   },
   {
    "duration": 5,
    "start_time": "2023-02-26T13:22:55.615Z"
   },
   {
    "duration": 529,
    "start_time": "2023-02-26T13:22:58.086Z"
   },
   {
    "duration": 60243,
    "start_time": "2023-02-26T13:23:02.833Z"
   },
   {
    "duration": 181513,
    "start_time": "2023-02-26T13:24:42.371Z"
   },
   {
    "duration": 699,
    "start_time": "2023-02-26T13:27:52.339Z"
   },
   {
    "duration": 24,
    "start_time": "2023-02-26T13:28:11.540Z"
   },
   {
    "duration": 18,
    "start_time": "2023-02-26T13:28:15.438Z"
   },
   {
    "duration": 4,
    "start_time": "2023-02-26T13:28:21.171Z"
   },
   {
    "duration": 90,
    "start_time": "2023-02-26T13:28:21.177Z"
   },
   {
    "duration": 16,
    "start_time": "2023-02-26T13:28:21.269Z"
   },
   {
    "duration": 12,
    "start_time": "2023-02-26T13:28:21.287Z"
   },
   {
    "duration": 8,
    "start_time": "2023-02-26T13:28:21.300Z"
   },
   {
    "duration": 176,
    "start_time": "2023-02-26T13:28:21.310Z"
   },
   {
    "duration": 6,
    "start_time": "2023-02-26T13:28:21.488Z"
   },
   {
    "duration": 45,
    "start_time": "2023-02-26T13:28:21.495Z"
   },
   {
    "duration": 4,
    "start_time": "2023-02-26T13:28:21.542Z"
   },
   {
    "duration": 9,
    "start_time": "2023-02-26T13:28:21.548Z"
   },
   {
    "duration": 14,
    "start_time": "2023-02-26T13:28:21.559Z"
   },
   {
    "duration": 2,
    "start_time": "2023-02-26T13:28:21.574Z"
   },
   {
    "duration": 13,
    "start_time": "2023-02-26T13:28:21.578Z"
   },
   {
    "duration": 47,
    "start_time": "2023-02-26T13:28:21.592Z"
   },
   {
    "duration": 36,
    "start_time": "2023-02-26T13:28:21.641Z"
   },
   {
    "duration": 24,
    "start_time": "2023-02-26T13:28:21.678Z"
   },
   {
    "duration": 42,
    "start_time": "2023-02-26T13:28:21.704Z"
   },
   {
    "duration": 162,
    "start_time": "2023-02-26T13:28:29.412Z"
   },
   {
    "duration": 22,
    "start_time": "2023-02-26T13:29:48.476Z"
   },
   {
    "duration": 11,
    "start_time": "2023-02-26T13:31:08.933Z"
   },
   {
    "duration": 22,
    "start_time": "2023-02-26T13:31:12.885Z"
   },
   {
    "duration": 212,
    "start_time": "2023-02-26T13:32:24.214Z"
   },
   {
    "duration": 22,
    "start_time": "2023-02-26T13:37:32.110Z"
   },
   {
    "duration": 22,
    "start_time": "2023-02-26T13:38:18.704Z"
   },
   {
    "duration": 712,
    "start_time": "2023-02-26T13:42:04.030Z"
   },
   {
    "duration": 578,
    "start_time": "2023-02-26T13:45:04.108Z"
   },
   {
    "duration": 575,
    "start_time": "2023-02-26T13:46:28.014Z"
   },
   {
    "duration": 23,
    "start_time": "2023-02-26T13:49:14.378Z"
   },
   {
    "duration": 16,
    "start_time": "2023-02-26T13:50:11.757Z"
   },
   {
    "duration": 13,
    "start_time": "2023-02-26T13:50:42.964Z"
   },
   {
    "duration": 738,
    "start_time": "2023-02-26T13:50:43.392Z"
   },
   {
    "duration": 60549,
    "start_time": "2023-02-26T13:54:29.451Z"
   },
   {
    "duration": 31118,
    "start_time": "2023-02-26T13:55:31.816Z"
   },
   {
    "duration": 58669,
    "start_time": "2023-02-26T13:56:04.816Z"
   },
   {
    "duration": 481871,
    "start_time": "2023-02-26T13:57:10.406Z"
   },
   {
    "duration": 116,
    "start_time": "2023-02-26T14:05:49.318Z"
   },
   {
    "duration": 125,
    "start_time": "2023-02-26T14:21:33.850Z"
   },
   {
    "duration": 162,
    "start_time": "2023-02-26T14:23:16.260Z"
   },
   {
    "duration": 148,
    "start_time": "2023-02-26T14:23:49.208Z"
   },
   {
    "duration": 146,
    "start_time": "2023-02-26T14:23:59.992Z"
   },
   {
    "duration": 231,
    "start_time": "2023-02-26T14:25:55.111Z"
   },
   {
    "duration": 127,
    "start_time": "2023-02-26T14:26:03.201Z"
   },
   {
    "duration": 130,
    "start_time": "2023-02-26T14:26:10.700Z"
   },
   {
    "duration": 155,
    "start_time": "2023-02-26T14:26:26.654Z"
   },
   {
    "duration": 369984,
    "start_time": "2023-02-26T14:33:43.518Z"
   },
   {
    "duration": 1617045,
    "start_time": "2023-02-26T14:40:10.704Z"
   },
   {
    "duration": 350916,
    "start_time": "2023-02-26T15:20:31.090Z"
   },
   {
    "duration": 86495,
    "start_time": "2023-02-26T15:28:04.321Z"
   },
   {
    "duration": 544298,
    "start_time": "2023-02-26T15:38:31.433Z"
   },
   {
    "duration": 144724,
    "start_time": "2023-02-26T15:47:50.870Z"
   },
   {
    "duration": 163,
    "start_time": "2023-02-26T15:50:15.596Z"
   },
   {
    "duration": 1685,
    "start_time": "2023-02-27T03:13:44.100Z"
   },
   {
    "duration": 168,
    "start_time": "2023-02-27T03:13:45.787Z"
   },
   {
    "duration": 23,
    "start_time": "2023-02-27T03:13:45.957Z"
   },
   {
    "duration": 13,
    "start_time": "2023-02-27T03:13:45.982Z"
   },
   {
    "duration": 7,
    "start_time": "2023-02-27T03:13:45.998Z"
   },
   {
    "duration": 201,
    "start_time": "2023-02-27T03:13:46.007Z"
   },
   {
    "duration": 5,
    "start_time": "2023-02-27T03:13:46.210Z"
   },
   {
    "duration": 38,
    "start_time": "2023-02-27T03:13:46.216Z"
   },
   {
    "duration": 4,
    "start_time": "2023-02-27T03:13:46.256Z"
   },
   {
    "duration": 25,
    "start_time": "2023-02-27T03:13:46.261Z"
   },
   {
    "duration": 12,
    "start_time": "2023-02-27T03:13:46.287Z"
   },
   {
    "duration": 44,
    "start_time": "2023-02-27T03:13:46.301Z"
   },
   {
    "duration": 41,
    "start_time": "2023-02-27T03:13:46.347Z"
   },
   {
    "duration": 19,
    "start_time": "2023-02-27T03:13:46.391Z"
   },
   {
    "duration": 47,
    "start_time": "2023-02-27T03:13:46.412Z"
   },
   {
    "duration": 26,
    "start_time": "2023-02-27T03:13:46.460Z"
   },
   {
    "duration": 160,
    "start_time": "2023-02-27T03:13:46.487Z"
   },
   {
    "duration": 1063,
    "start_time": "2023-02-27T03:13:46.648Z"
   },
   {
    "duration": 317625,
    "start_time": "2023-02-27T03:13:47.713Z"
   },
   {
    "duration": 1110,
    "start_time": "2023-02-27T03:19:05.340Z"
   },
   {
    "duration": 1208,
    "start_time": "2023-02-27T03:19:06.454Z"
   },
   {
    "duration": 351091,
    "start_time": "2023-02-27T03:19:07.663Z"
   },
   {
    "duration": 1395,
    "start_time": "2023-02-27T03:24:58.756Z"
   },
   {
    "duration": 97,
    "start_time": "2023-02-27T03:25:00.153Z"
   },
   {
    "duration": 100,
    "start_time": "2023-02-27T03:25:00.253Z"
   },
   {
    "duration": 11,
    "start_time": "2023-02-27T03:25:00.354Z"
   },
   {
    "duration": 2700,
    "start_time": "2023-02-27T03:25:00.367Z"
   },
   {
    "duration": 2748,
    "start_time": "2023-02-27T03:35:27.710Z"
   },
   {
    "duration": 93,
    "start_time": "2023-02-27T03:35:30.460Z"
   },
   {
    "duration": 89,
    "start_time": "2023-02-27T03:35:30.556Z"
   },
   {
    "duration": 21,
    "start_time": "2023-02-27T03:35:30.648Z"
   },
   {
    "duration": 72,
    "start_time": "2023-02-27T03:35:30.672Z"
   },
   {
    "duration": 423,
    "start_time": "2023-02-27T03:35:30.747Z"
   },
   {
    "duration": 6,
    "start_time": "2023-02-27T03:35:31.171Z"
   },
   {
    "duration": 107,
    "start_time": "2023-02-27T03:35:31.179Z"
   },
   {
    "duration": 58,
    "start_time": "2023-02-27T03:35:31.289Z"
   },
   {
    "duration": 34,
    "start_time": "2023-02-27T03:35:31.351Z"
   },
   {
    "duration": 69,
    "start_time": "2023-02-27T03:35:31.388Z"
   },
   {
    "duration": 88,
    "start_time": "2023-02-27T03:35:31.459Z"
   },
   {
    "duration": 97,
    "start_time": "2023-02-27T03:35:31.549Z"
   },
   {
    "duration": 31,
    "start_time": "2023-02-27T03:35:31.648Z"
   },
   {
    "duration": 86,
    "start_time": "2023-02-27T03:35:31.681Z"
   },
   {
    "duration": 81,
    "start_time": "2023-02-27T03:35:31.769Z"
   },
   {
    "duration": 310,
    "start_time": "2023-02-27T03:35:31.853Z"
   },
   {
    "duration": 2286,
    "start_time": "2023-02-27T03:35:32.164Z"
   },
   {
    "duration": 564503,
    "start_time": "2023-02-27T03:35:34.452Z"
   },
   {
    "duration": 1610,
    "start_time": "2023-02-27T03:44:58.957Z"
   },
   {
    "duration": 1288,
    "start_time": "2023-02-27T03:45:00.649Z"
   },
   {
    "duration": 336041,
    "start_time": "2023-02-27T03:45:01.940Z"
   },
   {
    "duration": 1082,
    "start_time": "2023-02-27T03:50:37.983Z"
   },
   {
    "duration": 80,
    "start_time": "2023-02-27T03:50:39.068Z"
   },
   {
    "duration": 108,
    "start_time": "2023-02-27T03:50:39.151Z"
   },
   {
    "duration": 12,
    "start_time": "2023-02-27T03:50:39.261Z"
   },
   {
    "duration": 1382,
    "start_time": "2023-02-27T03:50:39.275Z"
   },
   {
    "duration": 441603,
    "start_time": "2023-02-27T03:50:40.661Z"
   },
   {
    "duration": 1680,
    "start_time": "2023-02-27T03:58:02.266Z"
   },
   {
    "duration": 7,
    "start_time": "2023-02-27T03:58:03.948Z"
   },
   {
    "duration": 103,
    "start_time": "2023-02-27T03:58:03.957Z"
   },
   {
    "duration": 5,
    "start_time": "2023-02-27T03:58:04.061Z"
   },
   {
    "duration": 633,
    "start_time": "2023-02-27T03:58:04.068Z"
   },
   {
    "duration": 217038,
    "start_time": "2023-02-27T03:58:04.703Z"
   },
   {
    "duration": 809,
    "start_time": "2023-02-27T04:01:41.745Z"
   },
   {
    "duration": 373,
    "start_time": "2023-02-27T04:01:42.557Z"
   },
   {
    "duration": 26,
    "start_time": "2023-02-27T04:01:42.932Z"
   },
   {
    "duration": 159552,
    "start_time": "2023-02-27T04:01:42.960Z"
   },
   {
    "duration": 155,
    "start_time": "2023-02-27T04:04:22.514Z"
   },
   {
    "duration": 58,
    "start_time": "2023-02-27T13:23:22.833Z"
   },
   {
    "duration": 1747,
    "start_time": "2023-02-27T13:23:34.160Z"
   },
   {
    "duration": 185,
    "start_time": "2023-02-27T13:23:35.911Z"
   },
   {
    "duration": 24,
    "start_time": "2023-02-27T13:23:36.098Z"
   },
   {
    "duration": 62,
    "start_time": "2023-02-27T13:23:36.124Z"
   },
   {
    "duration": 11,
    "start_time": "2023-02-27T13:23:36.188Z"
   },
   {
    "duration": 217,
    "start_time": "2023-02-27T13:23:36.201Z"
   },
   {
    "duration": 6,
    "start_time": "2023-02-27T13:23:36.420Z"
   },
   {
    "duration": 52,
    "start_time": "2023-02-27T13:23:36.428Z"
   },
   {
    "duration": 5,
    "start_time": "2023-02-27T13:23:36.481Z"
   },
   {
    "duration": 13,
    "start_time": "2023-02-27T13:23:36.489Z"
   },
   {
    "duration": 12,
    "start_time": "2023-02-27T13:23:36.504Z"
   },
   {
    "duration": 53,
    "start_time": "2023-02-27T13:23:36.517Z"
   },
   {
    "duration": 44,
    "start_time": "2023-02-27T13:23:36.572Z"
   },
   {
    "duration": 45,
    "start_time": "2023-02-27T13:23:36.617Z"
   },
   {
    "duration": 37,
    "start_time": "2023-02-27T13:23:36.664Z"
   },
   {
    "duration": 27,
    "start_time": "2023-02-27T13:23:36.703Z"
   },
   {
    "duration": 161,
    "start_time": "2023-02-27T13:23:36.731Z"
   },
   {
    "duration": 1241,
    "start_time": "2023-02-27T13:23:36.894Z"
   },
   {
    "duration": 352916,
    "start_time": "2023-02-27T13:23:38.138Z"
   },
   {
    "duration": 1793,
    "start_time": "2023-02-27T13:29:31.061Z"
   },
   {
    "duration": 1433,
    "start_time": "2023-02-27T13:29:32.856Z"
   },
   {
    "duration": 355657,
    "start_time": "2023-02-27T13:29:34.291Z"
   },
   {
    "duration": 1203,
    "start_time": "2023-02-27T13:35:29.950Z"
   },
   {
    "duration": 5,
    "start_time": "2023-02-27T13:35:31.158Z"
   },
   {
    "duration": 132,
    "start_time": "2023-02-27T13:35:31.166Z"
   },
   {
    "duration": 44,
    "start_time": "2023-02-27T13:35:31.300Z"
   },
   {
    "duration": 1488,
    "start_time": "2023-02-27T13:35:31.350Z"
   },
   {
    "duration": 462805,
    "start_time": "2023-02-27T13:35:32.855Z"
   },
   {
    "duration": 1697,
    "start_time": "2023-02-27T13:43:15.662Z"
   },
   {
    "duration": 15,
    "start_time": "2023-02-27T13:43:17.444Z"
   },
   {
    "duration": 12,
    "start_time": "2023-02-27T13:43:17.461Z"
   },
   {
    "duration": 3,
    "start_time": "2023-02-27T13:43:17.475Z"
   },
   {
    "duration": 667,
    "start_time": "2023-02-27T13:43:17.480Z"
   },
   {
    "duration": 209132,
    "start_time": "2023-02-27T13:43:18.149Z"
   },
   {
    "duration": 1173,
    "start_time": "2023-02-27T13:46:47.283Z"
   },
   {
    "duration": 368,
    "start_time": "2023-02-27T13:46:48.458Z"
   },
   {
    "duration": 29,
    "start_time": "2023-02-27T13:46:48.828Z"
   },
   {
    "duration": 687,
    "start_time": "2023-02-27T13:46:48.858Z"
   },
   {
    "duration": 82,
    "start_time": "2023-02-27T13:46:49.550Z"
   },
   {
    "duration": 9,
    "start_time": "2023-02-27T14:06:44.787Z"
   },
   {
    "duration": 8,
    "start_time": "2023-02-27T14:06:59.229Z"
   },
   {
    "duration": 645,
    "start_time": "2023-02-27T14:07:59.389Z"
   },
   {
    "duration": 3,
    "start_time": "2023-02-27T14:18:21.935Z"
   },
   {
    "duration": 44,
    "start_time": "2023-02-27T14:18:21.940Z"
   },
   {
    "duration": 18,
    "start_time": "2023-02-27T14:18:21.986Z"
   },
   {
    "duration": 16,
    "start_time": "2023-02-27T14:18:22.005Z"
   },
   {
    "duration": 7,
    "start_time": "2023-02-27T14:18:22.023Z"
   },
   {
    "duration": 235,
    "start_time": "2023-02-27T14:18:22.059Z"
   },
   {
    "duration": 4,
    "start_time": "2023-02-27T14:18:22.296Z"
   },
   {
    "duration": 24,
    "start_time": "2023-02-27T14:18:22.301Z"
   },
   {
    "duration": 20,
    "start_time": "2023-02-27T14:18:22.327Z"
   },
   {
    "duration": 14,
    "start_time": "2023-02-27T14:18:22.349Z"
   },
   {
    "duration": 11,
    "start_time": "2023-02-27T14:18:22.365Z"
   },
   {
    "duration": 28,
    "start_time": "2023-02-27T14:18:22.378Z"
   },
   {
    "duration": 64,
    "start_time": "2023-02-27T14:18:22.408Z"
   },
   {
    "duration": 17,
    "start_time": "2023-02-27T14:18:22.474Z"
   },
   {
    "duration": 25,
    "start_time": "2023-02-27T14:18:22.492Z"
   },
   {
    "duration": 47,
    "start_time": "2023-02-27T14:18:22.519Z"
   },
   {
    "duration": 4,
    "start_time": "2023-02-27T14:18:31.759Z"
   },
   {
    "duration": 58,
    "start_time": "2023-02-27T14:18:31.765Z"
   },
   {
    "duration": 18,
    "start_time": "2023-02-27T14:18:31.825Z"
   },
   {
    "duration": 25,
    "start_time": "2023-02-27T14:18:31.845Z"
   },
   {
    "duration": 12,
    "start_time": "2023-02-27T14:18:31.873Z"
   },
   {
    "duration": 207,
    "start_time": "2023-02-27T14:18:31.887Z"
   },
   {
    "duration": 5,
    "start_time": "2023-02-27T14:18:32.096Z"
   },
   {
    "duration": 47,
    "start_time": "2023-02-27T14:18:32.102Z"
   },
   {
    "duration": 5,
    "start_time": "2023-02-27T14:18:32.151Z"
   },
   {
    "duration": 26,
    "start_time": "2023-02-27T14:18:32.157Z"
   },
   {
    "duration": 11,
    "start_time": "2023-02-27T14:18:32.186Z"
   },
   {
    "duration": 46,
    "start_time": "2023-02-27T14:18:32.199Z"
   },
   {
    "duration": 39,
    "start_time": "2023-02-27T14:18:32.247Z"
   },
   {
    "duration": 18,
    "start_time": "2023-02-27T14:18:32.287Z"
   },
   {
    "duration": 48,
    "start_time": "2023-02-27T14:18:32.307Z"
   },
   {
    "duration": 30,
    "start_time": "2023-02-27T14:18:32.358Z"
   },
   {
    "duration": 162,
    "start_time": "2023-02-27T14:18:32.390Z"
   },
   {
    "duration": 1106,
    "start_time": "2023-02-27T14:18:32.554Z"
   },
   {
    "duration": 353654,
    "start_time": "2023-02-27T14:18:33.661Z"
   },
   {
    "duration": 1028,
    "start_time": "2023-02-27T14:24:27.317Z"
   },
   {
    "duration": 1227,
    "start_time": "2023-02-27T14:24:28.348Z"
   },
   {
    "duration": 351657,
    "start_time": "2023-02-27T14:24:29.577Z"
   },
   {
    "duration": 910,
    "start_time": "2023-02-27T14:30:21.236Z"
   },
   {
    "duration": 5,
    "start_time": "2023-02-27T14:30:22.149Z"
   },
   {
    "duration": 13,
    "start_time": "2023-02-27T14:30:22.246Z"
   },
   {
    "duration": 4,
    "start_time": "2023-02-27T14:30:22.261Z"
   },
   {
    "duration": 1322,
    "start_time": "2023-02-27T14:30:22.266Z"
   },
   {
    "duration": 466446,
    "start_time": "2023-02-27T14:30:23.590Z"
   },
   {
    "duration": 1103,
    "start_time": "2023-02-27T14:38:10.045Z"
   },
   {
    "duration": 4,
    "start_time": "2023-02-27T14:38:11.150Z"
   },
   {
    "duration": 22,
    "start_time": "2023-02-27T14:38:11.156Z"
   },
   {
    "duration": 5,
    "start_time": "2023-02-27T14:38:11.246Z"
   },
   {
    "duration": 626,
    "start_time": "2023-02-27T14:38:11.252Z"
   },
   {
    "duration": 207025,
    "start_time": "2023-02-27T14:38:11.880Z"
   },
   {
    "duration": 940,
    "start_time": "2023-02-27T14:41:38.907Z"
   },
   {
    "duration": 274,
    "start_time": "2023-02-27T14:41:39.851Z"
   },
   {
    "duration": 9,
    "start_time": "2023-02-27T14:41:40.127Z"
   },
   {
    "duration": 526,
    "start_time": "2023-02-27T14:41:40.145Z"
   }
  ],
  "kernelspec": {
   "display_name": "Python 3 (ipykernel)",
   "language": "python",
   "name": "python3"
  },
  "language_info": {
   "codemirror_mode": {
    "name": "ipython",
    "version": 3
   },
   "file_extension": ".py",
   "mimetype": "text/x-python",
   "name": "python",
   "nbconvert_exporter": "python",
   "pygments_lexer": "ipython3",
   "version": "3.9.12"
  },
  "toc": {
   "base_numbering": 1,
   "nav_menu": {},
   "number_sections": true,
   "sideBar": true,
   "skip_h1_title": true,
   "title_cell": "Содержание",
   "title_sidebar": "Contents",
   "toc_cell": true,
   "toc_position": {
    "height": "calc(100% - 180px)",
    "left": "10px",
    "top": "150px",
    "width": "288px"
   },
   "toc_section_display": true,
   "toc_window_display": true
  }
 },
 "nbformat": 4,
 "nbformat_minor": 2
}
