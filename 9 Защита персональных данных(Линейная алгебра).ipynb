{
 "cells": [
  {
   "cell_type": "markdown",
   "metadata": {
    "toc": true
   },
   "source": [
    "<h1>Содержание<span class=\"tocSkip\"></span></h1>\n",
    "<div class=\"toc\"><ul class=\"toc-item\"><li><span><a href=\"#Загрузка-данных\" data-toc-modified-id=\"Загрузка-данных-1\"><span class=\"toc-item-num\">1&nbsp;&nbsp;</span>Загрузка данных</a></span></li><li><span><a href=\"#Умножение-матриц\" data-toc-modified-id=\"Умножение-матриц-2\"><span class=\"toc-item-num\">2&nbsp;&nbsp;</span>Умножение матриц</a></span></li><li><span><a href=\"#Алгоритм-преобразования\" data-toc-modified-id=\"Алгоритм-преобразования-3\"><span class=\"toc-item-num\">3&nbsp;&nbsp;</span>Алгоритм преобразования</a></span></li><li><span><a href=\"#Проверка-алгоритма\" data-toc-modified-id=\"Проверка-алгоритма-4\"><span class=\"toc-item-num\">4&nbsp;&nbsp;</span>Проверка алгоритма</a></span></li><li><span><a href=\"#Чек-лист-проверки\" data-toc-modified-id=\"Чек-лист-проверки-5\"><span class=\"toc-item-num\">5&nbsp;&nbsp;</span>Чек-лист проверки</a></span></li></ul></div>"
   ]
  },
  {
   "cell_type": "markdown",
   "metadata": {},
   "source": [
    "# Защита персональных данных клиентов"
   ]
  },
  {
   "cell_type": "markdown",
   "metadata": {},
   "source": [
    "Вам нужно защитить данные клиентов страховой компании «Хоть потоп». Разработайте такой метод преобразования данных, чтобы по ним было сложно восстановить персональную информацию. Обоснуйте корректность его работы.\n",
    "\n",
    "Нужно защитить данные, чтобы при преобразовании качество моделей машинного обучения не ухудшилось. Подбирать наилучшую модель не требуется."
   ]
  },
  {
   "cell_type": "markdown",
   "metadata": {},
   "source": [
    "# Инструкция по выполнению проекта\n",
    "\n",
    "- Загрузите и изучите данные.\n",
    "- Ответьте на вопрос и обоснуйте решение. \n",
    "\n",
    "    Признаки умножают на обратимую матрицу. Изменится ли качество линейной регрессии? (Её можно обучить заново.)\n",
    "    1. Изменится. Приведите примеры матриц.\n",
    "    2. Не изменится. Укажите, как связаны параметры линейной регрессии в исходной задаче и в преобразованной.\n",
    "- Предложите алгоритм преобразования данных для решения задачи. Обоснуйте, почему качество линейной регрессии не поменяется.\n",
    "- Запрограммируйте этот алгоритм, применив матричные операции. Проверьте, что качество линейной регрессии из sklearn не отличается до и после преобразования. Примените метрику R2.\n",
    "\n",
    "# Описание данных\n",
    "\n",
    "- Набор данных находится в файле `/datasets/insurance.csv`. \n",
    "- **Признаки:** пол, возраст и зарплата застрахованного, количество членов его семьи.\n",
    "- **Целевой признак:** количество страховых выплат клиенту за последние 5 лет.\n"
   ]
  },
  {
   "cell_type": "markdown",
   "metadata": {},
   "source": [
    "## Загрузка данных"
   ]
  },
  {
   "cell_type": "code",
   "execution_count": 40,
   "metadata": {},
   "outputs": [],
   "source": [
    "import os\n",
    "import pandas as pd\n",
    "import numpy as np \n",
    "\n",
    "from sklearn.metrics import r2_score\n",
    "from sklearn.model_selection import train_test_split\n",
    "from sklearn.linear_model import LinearRegression\n",
    "from sklearn.preprocessing import MinMaxScaler\n",
    "from sklearn.pipeline import Pipeline\n",
    "\n",
    "RANDOM_STATE = 12345\n"
   ]
  },
  {
   "cell_type": "code",
   "execution_count": 41,
   "metadata": {},
   "outputs": [],
   "source": [
    "pth1 = '/Users/ramilvaleev/Desktop/Yandex Projects/Проекты в работе/Защита персональных данных/insurance.csv'\n",
    "pth2 = '/datasets/insurance.csv'\n",
    "\n",
    "if os.path.exists(pth2):\n",
    "    data = pd.read_csv(pth2)\n",
    "elif os.path.exists(pth1):\n",
    "    data = pd.read_csv(pth1)\n",
    "else:\n",
    "    print('Something is wrong')"
   ]
  },
  {
   "cell_type": "code",
   "execution_count": 42,
   "metadata": {},
   "outputs": [],
   "source": [
    "def check_df(df):\n",
    "    rows_count, columns_count = df.shape\n",
    "    print('Количество стобцов:', columns_count)\n",
    "    print('Количество строк:', rows_count)\n",
    "    \n",
    "    zeros_age = df[df['Возраст'] == 0]['Возраст'].count()\n",
    "    percent_age = zeros_age / df.shape[0]\n",
    "    print('Количество нулевых значений(Возраст) -', zeros_age)\n",
    "    print('Процент нулевых значений(Возраст) - {:.1%}'.format(percent_age))\n",
    "    \n",
    "    zeros_salary = df[df['Зарплата'] == 0]['Зарплата'].count()\n",
    "    percent_salary = zeros_salary / df.shape[0]\n",
    "    print('Количество нулевых значений(Зарплата) -', zeros_salary)\n",
    "    print('Процент нулевых значений(Зарплата) - {:.1%}'.format(percent_salary))\n",
    "    \n",
    "    display(df.head(10))\n",
    "    display(df.describe())\n",
    "    df.info()"
   ]
  },
  {
   "cell_type": "code",
   "execution_count": 43,
   "metadata": {},
   "outputs": [
    {
     "name": "stdout",
     "output_type": "stream",
     "text": [
      "Количество стобцов: 5\n",
      "Количество строк: 5000\n",
      "Количество нулевых значений(Возраст) - 0\n",
      "Процент нулевых значений(Возраст) - 0.0%\n",
      "Количество нулевых значений(Зарплата) - 0\n",
      "Процент нулевых значений(Зарплата) - 0.0%\n"
     ]
    },
    {
     "data": {
      "text/html": [
       "<div>\n",
       "<style scoped>\n",
       "    .dataframe tbody tr th:only-of-type {\n",
       "        vertical-align: middle;\n",
       "    }\n",
       "\n",
       "    .dataframe tbody tr th {\n",
       "        vertical-align: top;\n",
       "    }\n",
       "\n",
       "    .dataframe thead th {\n",
       "        text-align: right;\n",
       "    }\n",
       "</style>\n",
       "<table border=\"1\" class=\"dataframe\">\n",
       "  <thead>\n",
       "    <tr style=\"text-align: right;\">\n",
       "      <th></th>\n",
       "      <th>Пол</th>\n",
       "      <th>Возраст</th>\n",
       "      <th>Зарплата</th>\n",
       "      <th>Члены семьи</th>\n",
       "      <th>Страховые выплаты</th>\n",
       "    </tr>\n",
       "  </thead>\n",
       "  <tbody>\n",
       "    <tr>\n",
       "      <th>0</th>\n",
       "      <td>1</td>\n",
       "      <td>41.0</td>\n",
       "      <td>49600.0</td>\n",
       "      <td>1</td>\n",
       "      <td>0</td>\n",
       "    </tr>\n",
       "    <tr>\n",
       "      <th>1</th>\n",
       "      <td>0</td>\n",
       "      <td>46.0</td>\n",
       "      <td>38000.0</td>\n",
       "      <td>1</td>\n",
       "      <td>1</td>\n",
       "    </tr>\n",
       "    <tr>\n",
       "      <th>2</th>\n",
       "      <td>0</td>\n",
       "      <td>29.0</td>\n",
       "      <td>21000.0</td>\n",
       "      <td>0</td>\n",
       "      <td>0</td>\n",
       "    </tr>\n",
       "    <tr>\n",
       "      <th>3</th>\n",
       "      <td>0</td>\n",
       "      <td>21.0</td>\n",
       "      <td>41700.0</td>\n",
       "      <td>2</td>\n",
       "      <td>0</td>\n",
       "    </tr>\n",
       "    <tr>\n",
       "      <th>4</th>\n",
       "      <td>1</td>\n",
       "      <td>28.0</td>\n",
       "      <td>26100.0</td>\n",
       "      <td>0</td>\n",
       "      <td>0</td>\n",
       "    </tr>\n",
       "    <tr>\n",
       "      <th>5</th>\n",
       "      <td>1</td>\n",
       "      <td>43.0</td>\n",
       "      <td>41000.0</td>\n",
       "      <td>2</td>\n",
       "      <td>1</td>\n",
       "    </tr>\n",
       "    <tr>\n",
       "      <th>6</th>\n",
       "      <td>1</td>\n",
       "      <td>39.0</td>\n",
       "      <td>39700.0</td>\n",
       "      <td>2</td>\n",
       "      <td>0</td>\n",
       "    </tr>\n",
       "    <tr>\n",
       "      <th>7</th>\n",
       "      <td>1</td>\n",
       "      <td>25.0</td>\n",
       "      <td>38600.0</td>\n",
       "      <td>4</td>\n",
       "      <td>0</td>\n",
       "    </tr>\n",
       "    <tr>\n",
       "      <th>8</th>\n",
       "      <td>1</td>\n",
       "      <td>36.0</td>\n",
       "      <td>49700.0</td>\n",
       "      <td>1</td>\n",
       "      <td>0</td>\n",
       "    </tr>\n",
       "    <tr>\n",
       "      <th>9</th>\n",
       "      <td>1</td>\n",
       "      <td>32.0</td>\n",
       "      <td>51700.0</td>\n",
       "      <td>1</td>\n",
       "      <td>0</td>\n",
       "    </tr>\n",
       "  </tbody>\n",
       "</table>\n",
       "</div>"
      ],
      "text/plain": [
       "   Пол  Возраст  Зарплата  Члены семьи  Страховые выплаты\n",
       "0    1     41.0   49600.0            1                  0\n",
       "1    0     46.0   38000.0            1                  1\n",
       "2    0     29.0   21000.0            0                  0\n",
       "3    0     21.0   41700.0            2                  0\n",
       "4    1     28.0   26100.0            0                  0\n",
       "5    1     43.0   41000.0            2                  1\n",
       "6    1     39.0   39700.0            2                  0\n",
       "7    1     25.0   38600.0            4                  0\n",
       "8    1     36.0   49700.0            1                  0\n",
       "9    1     32.0   51700.0            1                  0"
      ]
     },
     "metadata": {},
     "output_type": "display_data"
    },
    {
     "data": {
      "text/html": [
       "<div>\n",
       "<style scoped>\n",
       "    .dataframe tbody tr th:only-of-type {\n",
       "        vertical-align: middle;\n",
       "    }\n",
       "\n",
       "    .dataframe tbody tr th {\n",
       "        vertical-align: top;\n",
       "    }\n",
       "\n",
       "    .dataframe thead th {\n",
       "        text-align: right;\n",
       "    }\n",
       "</style>\n",
       "<table border=\"1\" class=\"dataframe\">\n",
       "  <thead>\n",
       "    <tr style=\"text-align: right;\">\n",
       "      <th></th>\n",
       "      <th>Пол</th>\n",
       "      <th>Возраст</th>\n",
       "      <th>Зарплата</th>\n",
       "      <th>Члены семьи</th>\n",
       "      <th>Страховые выплаты</th>\n",
       "    </tr>\n",
       "  </thead>\n",
       "  <tbody>\n",
       "    <tr>\n",
       "      <th>count</th>\n",
       "      <td>5000.000000</td>\n",
       "      <td>5000.000000</td>\n",
       "      <td>5000.000000</td>\n",
       "      <td>5000.000000</td>\n",
       "      <td>5000.000000</td>\n",
       "    </tr>\n",
       "    <tr>\n",
       "      <th>mean</th>\n",
       "      <td>0.499000</td>\n",
       "      <td>30.952800</td>\n",
       "      <td>39916.360000</td>\n",
       "      <td>1.194200</td>\n",
       "      <td>0.148000</td>\n",
       "    </tr>\n",
       "    <tr>\n",
       "      <th>std</th>\n",
       "      <td>0.500049</td>\n",
       "      <td>8.440807</td>\n",
       "      <td>9900.083569</td>\n",
       "      <td>1.091387</td>\n",
       "      <td>0.463183</td>\n",
       "    </tr>\n",
       "    <tr>\n",
       "      <th>min</th>\n",
       "      <td>0.000000</td>\n",
       "      <td>18.000000</td>\n",
       "      <td>5300.000000</td>\n",
       "      <td>0.000000</td>\n",
       "      <td>0.000000</td>\n",
       "    </tr>\n",
       "    <tr>\n",
       "      <th>25%</th>\n",
       "      <td>0.000000</td>\n",
       "      <td>24.000000</td>\n",
       "      <td>33300.000000</td>\n",
       "      <td>0.000000</td>\n",
       "      <td>0.000000</td>\n",
       "    </tr>\n",
       "    <tr>\n",
       "      <th>50%</th>\n",
       "      <td>0.000000</td>\n",
       "      <td>30.000000</td>\n",
       "      <td>40200.000000</td>\n",
       "      <td>1.000000</td>\n",
       "      <td>0.000000</td>\n",
       "    </tr>\n",
       "    <tr>\n",
       "      <th>75%</th>\n",
       "      <td>1.000000</td>\n",
       "      <td>37.000000</td>\n",
       "      <td>46600.000000</td>\n",
       "      <td>2.000000</td>\n",
       "      <td>0.000000</td>\n",
       "    </tr>\n",
       "    <tr>\n",
       "      <th>max</th>\n",
       "      <td>1.000000</td>\n",
       "      <td>65.000000</td>\n",
       "      <td>79000.000000</td>\n",
       "      <td>6.000000</td>\n",
       "      <td>5.000000</td>\n",
       "    </tr>\n",
       "  </tbody>\n",
       "</table>\n",
       "</div>"
      ],
      "text/plain": [
       "               Пол      Возраст      Зарплата  Члены семьи  Страховые выплаты\n",
       "count  5000.000000  5000.000000   5000.000000  5000.000000        5000.000000\n",
       "mean      0.499000    30.952800  39916.360000     1.194200           0.148000\n",
       "std       0.500049     8.440807   9900.083569     1.091387           0.463183\n",
       "min       0.000000    18.000000   5300.000000     0.000000           0.000000\n",
       "25%       0.000000    24.000000  33300.000000     0.000000           0.000000\n",
       "50%       0.000000    30.000000  40200.000000     1.000000           0.000000\n",
       "75%       1.000000    37.000000  46600.000000     2.000000           0.000000\n",
       "max       1.000000    65.000000  79000.000000     6.000000           5.000000"
      ]
     },
     "metadata": {},
     "output_type": "display_data"
    },
    {
     "name": "stdout",
     "output_type": "stream",
     "text": [
      "<class 'pandas.core.frame.DataFrame'>\n",
      "RangeIndex: 5000 entries, 0 to 4999\n",
      "Data columns (total 5 columns):\n",
      " #   Column             Non-Null Count  Dtype  \n",
      "---  ------             --------------  -----  \n",
      " 0   Пол                5000 non-null   int64  \n",
      " 1   Возраст            5000 non-null   float64\n",
      " 2   Зарплата           5000 non-null   float64\n",
      " 3   Члены семьи        5000 non-null   int64  \n",
      " 4   Страховые выплаты  5000 non-null   int64  \n",
      "dtypes: float64(2), int64(3)\n",
      "memory usage: 195.4 KB\n"
     ]
    }
   ],
   "source": [
    "check_df(data)"
   ]
  },
  {
   "cell_type": "markdown",
   "metadata": {},
   "source": [
    "## Умножение матриц"
   ]
  },
  {
   "cell_type": "markdown",
   "metadata": {},
   "source": [
    "**Вопрос:** Признаки умножают на обратимую матрицу. Изменится ли качество линейной регрессии?"
   ]
  },
  {
   "cell_type": "markdown",
   "metadata": {},
   "source": [
    "Обозначения:\n",
    "\n",
    "- $X$ — матрица признаков (нулевой столбец состоит из единиц)\n",
    "\n",
    "- $y$ — вектор целевого признака\n",
    "\n",
    "- $P$ — матрица, на которую умножаются признаки\n",
    "\n",
    "- $w$ — вектор весов линейной регрессии (нулевой элемент равен сдвигу)"
   ]
  },
  {
   "cell_type": "markdown",
   "metadata": {},
   "source": [
    "Предсказания:\n",
    "\n",
    "$$\n",
    "a = Xw\n",
    "$$\n",
    "\n",
    "Задача обучения:\n",
    "\n",
    "$$\n",
    "w = \\arg\\min_w MSE(Xw, y)\n",
    "$$\n",
    "\n",
    "Формула обучения:\n",
    "\n",
    "$$\n",
    "w = (X^T X)^{-1} X^T y\n",
    "$$"
   ]
  },
  {
   "cell_type": "markdown",
   "metadata": {},
   "source": [
    "**Ответ:** Не изменится."
   ]
  },
  {
   "cell_type": "markdown",
   "metadata": {},
   "source": [
    "**Обоснование:**"
   ]
  },
  {
   "cell_type": "markdown",
   "metadata": {},
   "source": [
    "Для начала укажем основные свойства матриц:\n",
    "\n",
    "$$(А(BC) = (AB)C)$$\n",
    "$$(P^T)^{-1} = (P^{-1})^T$$\n",
    "$$(AB)^T = B^TA^T$$\n",
    "$$(AB)^{-1} = B^{-1}A^{-1}$$\n",
    "$$AA^{-1} = A^{-1}A = E$$\n",
    "$$AE = A$$"
   ]
  },
  {
   "cell_type": "markdown",
   "metadata": {},
   "source": [
    "Заменим $w$ в формуле предсказания:\n",
    "$$a = Xw = X(X^TX)^{-1}X^Ty$$"
   ]
  },
  {
   "cell_type": "markdown",
   "metadata": {},
   "source": [
    "Перейдем к доказательству. Домножим матрицу признаков $X$ на обратимую матрицу $P$, выпишем формулу для новых предсказаний $a_p$ и попробуем сократить ее:"
   ]
  },
  {
   "cell_type": "markdown",
   "metadata": {},
   "source": [
    "$$a_p = X_p(X_p^TX_p)^{-1}X_p^Ty$$\n",
    "$$=XP((XP)^TXP)^{-1}(XP)^Ty$$\n",
    "$$=XP(P^TX^TXP)^{-1}P^TX^Ty$$\n",
    "$$=XPP^{-1}(X^TX)^{-1}(P^{-1})^TP^TX^Ty$$\n",
    "$$=XE(X^TX)^{-1}EX^Ty$$\n",
    "$$=X(X^TX)^{-1}X^Ty$$ \n",
    "$$= Xw = a$$"
   ]
  },
  {
   "cell_type": "markdown",
   "metadata": {},
   "source": [
    "Получили значение, равное исходному значению предсксказаний $a$, следовательно:\n",
    "$$a = a_p$$"
   ]
  },
  {
   "cell_type": "markdown",
   "metadata": {},
   "source": [
    "**Определим, как связаны параметры $w$ линейной регрессии в исходной задаче и в преобразованной:**"
   ]
  },
  {
   "cell_type": "markdown",
   "metadata": {},
   "source": [
    "Преобразованная задача обучения выглядит следующим образом:\n",
    "$$\n",
    "w = \\arg\\min_w MSE(XPw_p, y)\n",
    "$$"
   ]
  },
  {
   "cell_type": "markdown",
   "metadata": {},
   "source": [
    "Раскроем вектор $w_p$ и сравним с вектором $w$:"
   ]
  },
  {
   "cell_type": "markdown",
   "metadata": {},
   "source": [
    "$$w_p = ((XP)^T XP)^{-1} (XP)^Ty$$\n",
    "$$= (XP)^{-1}(XP^T)^{-1}y$$\n",
    "$$= (XP)^{-1}y$$\n",
    "$$= P^{-1}X^{-1}y$$"
   ]
  },
  {
   "cell_type": "markdown",
   "metadata": {},
   "source": [
    "$$w = (X^TX)^{-1}X^Ty$$\n",
    "$$= X^{-1}(X^T)^{-1}X^Ty$$\n",
    "$$=X^{-1}y$$"
   ]
  },
  {
   "cell_type": "markdown",
   "metadata": {},
   "source": [
    "Можем сделать вывод что $w_p = P^{-1}w$"
   ]
  },
  {
   "cell_type": "markdown",
   "metadata": {},
   "source": [
    "В итоге получаем:\n",
    "$$\n",
    "w_p = \\arg\\min_w MSE(XPP^{-1}w, y)\n",
    "$$\n",
    "Следовательно:\n",
    "$$\n",
    "w_p = \\arg\\min_w MSE(Xw, y) = w\n",
    "$$"
   ]
  },
  {
   "cell_type": "markdown",
   "metadata": {},
   "source": [
    "Получили взаимно-однозначное соответствие параметров исходно и преобразованной матрицы, минимум будет достигаться при одном и том же значении функции потерь. "
   ]
  },
  {
   "cell_type": "markdown",
   "metadata": {},
   "source": [
    "## Алгоритм преобразования"
   ]
  },
  {
   "cell_type": "markdown",
   "metadata": {},
   "source": [
    "**Алгоритм**\n",
    "\n",
    "Для того, чтобы защитить данные пользователей предпримем следующие шаги:\n",
    "\n",
    "- Создадим произвольную квадратную матрицу с размерностью равной количеству строк матрицы признаков.\n",
    "- Проверим, что она обратима. Если нет, то надо создать новую матрицу, потому что иначе мы не сможем восстановить данные\n",
    "- Перемножим матрицу признаков и полученную обратимую, тем самым зашифровывая истинные значения"
   ]
  },
  {
   "cell_type": "markdown",
   "metadata": {},
   "source": [
    "**Обоснование**\n",
    "\n",
    "На основании доказательства из предыдущего пункта можно заключить, что перемножение матриц не повлияет на качество линейной регрессии."
   ]
  },
  {
   "cell_type": "markdown",
   "metadata": {},
   "source": [
    "## Проверка алгоритма"
   ]
  },
  {
   "cell_type": "markdown",
   "metadata": {},
   "source": [
    "Выделим признаки и целевой показатель `Страховые выплаты`"
   ]
  },
  {
   "cell_type": "code",
   "execution_count": 44,
   "metadata": {},
   "outputs": [],
   "source": [
    "features = data.drop(columns=['Страховые выплаты'])\n",
    "target = data['Страховые выплаты']"
   ]
  },
  {
   "cell_type": "code",
   "execution_count": 45,
   "metadata": {},
   "outputs": [],
   "source": [
    "features_train, features_test, target_train, target_test = train_test_split(\n",
    "    features, target, test_size=0.25, random_state=RANDOM_STATE\n",
    ")"
   ]
  },
  {
   "cell_type": "markdown",
   "metadata": {},
   "source": [
    "Создадим произвольную матрицу и проверим, что она обратима"
   ]
  },
  {
   "cell_type": "code",
   "execution_count": 46,
   "metadata": {},
   "outputs": [],
   "source": [
    "def get_matrix(features):\n",
    "    n = features.shape[1]\n",
    "    random_matrix = np.random.randint(1, 10, (n,n))\n",
    "    det = np.linalg.det(random_matrix)\n",
    "    while det == 0:\n",
    "        random_matrix = np.random.randint(1, 10, (n,n))\n",
    "        det = np.linalg.det(random_matrix)\n",
    "    return random_matrix\n",
    "\n",
    "def transfom_features(features1, features2):\n",
    "    display(features1.head(), features2.head())\n",
    "    matrix = get_matrix(features)\n",
    "    crypted_features1 = features1 @ matrix\n",
    "    crypted_features2 = features2 @ matrix\n",
    "    display(crypted_features1.head(), crypted_features2.head())\n",
    "    display(matrix)\n",
    "    print('Размеры обучающей и тестовой выборoк:',crypted_features1.shape, crypted_features2.shape)\n",
    "    return crypted_features1, crypted_features2"
   ]
  },
  {
   "cell_type": "code",
   "execution_count": 47,
   "metadata": {},
   "outputs": [
    {
     "data": {
      "text/html": [
       "<div>\n",
       "<style scoped>\n",
       "    .dataframe tbody tr th:only-of-type {\n",
       "        vertical-align: middle;\n",
       "    }\n",
       "\n",
       "    .dataframe tbody tr th {\n",
       "        vertical-align: top;\n",
       "    }\n",
       "\n",
       "    .dataframe thead th {\n",
       "        text-align: right;\n",
       "    }\n",
       "</style>\n",
       "<table border=\"1\" class=\"dataframe\">\n",
       "  <thead>\n",
       "    <tr style=\"text-align: right;\">\n",
       "      <th></th>\n",
       "      <th>Пол</th>\n",
       "      <th>Возраст</th>\n",
       "      <th>Зарплата</th>\n",
       "      <th>Члены семьи</th>\n",
       "    </tr>\n",
       "  </thead>\n",
       "  <tbody>\n",
       "    <tr>\n",
       "      <th>3369</th>\n",
       "      <td>1</td>\n",
       "      <td>43.0</td>\n",
       "      <td>36200.0</td>\n",
       "      <td>1</td>\n",
       "    </tr>\n",
       "    <tr>\n",
       "      <th>1441</th>\n",
       "      <td>1</td>\n",
       "      <td>34.0</td>\n",
       "      <td>57600.0</td>\n",
       "      <td>0</td>\n",
       "    </tr>\n",
       "    <tr>\n",
       "      <th>571</th>\n",
       "      <td>0</td>\n",
       "      <td>32.0</td>\n",
       "      <td>41100.0</td>\n",
       "      <td>1</td>\n",
       "    </tr>\n",
       "    <tr>\n",
       "      <th>225</th>\n",
       "      <td>0</td>\n",
       "      <td>36.0</td>\n",
       "      <td>45100.0</td>\n",
       "      <td>1</td>\n",
       "    </tr>\n",
       "    <tr>\n",
       "      <th>2558</th>\n",
       "      <td>0</td>\n",
       "      <td>33.0</td>\n",
       "      <td>50600.0</td>\n",
       "      <td>2</td>\n",
       "    </tr>\n",
       "  </tbody>\n",
       "</table>\n",
       "</div>"
      ],
      "text/plain": [
       "      Пол  Возраст  Зарплата  Члены семьи\n",
       "3369    1     43.0   36200.0            1\n",
       "1441    1     34.0   57600.0            0\n",
       "571     0     32.0   41100.0            1\n",
       "225     0     36.0   45100.0            1\n",
       "2558    0     33.0   50600.0            2"
      ]
     },
     "metadata": {},
     "output_type": "display_data"
    },
    {
     "data": {
      "text/html": [
       "<div>\n",
       "<style scoped>\n",
       "    .dataframe tbody tr th:only-of-type {\n",
       "        vertical-align: middle;\n",
       "    }\n",
       "\n",
       "    .dataframe tbody tr th {\n",
       "        vertical-align: top;\n",
       "    }\n",
       "\n",
       "    .dataframe thead th {\n",
       "        text-align: right;\n",
       "    }\n",
       "</style>\n",
       "<table border=\"1\" class=\"dataframe\">\n",
       "  <thead>\n",
       "    <tr style=\"text-align: right;\">\n",
       "      <th></th>\n",
       "      <th>Пол</th>\n",
       "      <th>Возраст</th>\n",
       "      <th>Зарплата</th>\n",
       "      <th>Члены семьи</th>\n",
       "    </tr>\n",
       "  </thead>\n",
       "  <tbody>\n",
       "    <tr>\n",
       "      <th>3183</th>\n",
       "      <td>0</td>\n",
       "      <td>33.0</td>\n",
       "      <td>39000.0</td>\n",
       "      <td>4</td>\n",
       "    </tr>\n",
       "    <tr>\n",
       "      <th>1071</th>\n",
       "      <td>0</td>\n",
       "      <td>50.0</td>\n",
       "      <td>43100.0</td>\n",
       "      <td>2</td>\n",
       "    </tr>\n",
       "    <tr>\n",
       "      <th>2640</th>\n",
       "      <td>1</td>\n",
       "      <td>39.0</td>\n",
       "      <td>42100.0</td>\n",
       "      <td>0</td>\n",
       "    </tr>\n",
       "    <tr>\n",
       "      <th>2282</th>\n",
       "      <td>0</td>\n",
       "      <td>20.0</td>\n",
       "      <td>34800.0</td>\n",
       "      <td>0</td>\n",
       "    </tr>\n",
       "    <tr>\n",
       "      <th>1595</th>\n",
       "      <td>0</td>\n",
       "      <td>41.0</td>\n",
       "      <td>40000.0</td>\n",
       "      <td>4</td>\n",
       "    </tr>\n",
       "  </tbody>\n",
       "</table>\n",
       "</div>"
      ],
      "text/plain": [
       "      Пол  Возраст  Зарплата  Члены семьи\n",
       "3183    0     33.0   39000.0            4\n",
       "1071    0     50.0   43100.0            2\n",
       "2640    1     39.0   42100.0            0\n",
       "2282    0     20.0   34800.0            0\n",
       "1595    0     41.0   40000.0            4"
      ]
     },
     "metadata": {},
     "output_type": "display_data"
    },
    {
     "data": {
      "text/html": [
       "<div>\n",
       "<style scoped>\n",
       "    .dataframe tbody tr th:only-of-type {\n",
       "        vertical-align: middle;\n",
       "    }\n",
       "\n",
       "    .dataframe tbody tr th {\n",
       "        vertical-align: top;\n",
       "    }\n",
       "\n",
       "    .dataframe thead th {\n",
       "        text-align: right;\n",
       "    }\n",
       "</style>\n",
       "<table border=\"1\" class=\"dataframe\">\n",
       "  <thead>\n",
       "    <tr style=\"text-align: right;\">\n",
       "      <th></th>\n",
       "      <th>0</th>\n",
       "      <th>1</th>\n",
       "      <th>2</th>\n",
       "      <th>3</th>\n",
       "    </tr>\n",
       "  </thead>\n",
       "  <tbody>\n",
       "    <tr>\n",
       "      <th>3369</th>\n",
       "      <td>217260.0</td>\n",
       "      <td>72662.0</td>\n",
       "      <td>108823.0</td>\n",
       "      <td>144899.0</td>\n",
       "    </tr>\n",
       "    <tr>\n",
       "      <th>1441</th>\n",
       "      <td>345642.0</td>\n",
       "      <td>115407.0</td>\n",
       "      <td>172974.0</td>\n",
       "      <td>230475.0</td>\n",
       "    </tr>\n",
       "    <tr>\n",
       "      <th>571</th>\n",
       "      <td>246641.0</td>\n",
       "      <td>82393.0</td>\n",
       "      <td>123464.0</td>\n",
       "      <td>164470.0</td>\n",
       "    </tr>\n",
       "    <tr>\n",
       "      <th>225</th>\n",
       "      <td>270645.0</td>\n",
       "      <td>90417.0</td>\n",
       "      <td>135484.0</td>\n",
       "      <td>180478.0</td>\n",
       "    </tr>\n",
       "    <tr>\n",
       "      <th>2558</th>\n",
       "      <td>303651.0</td>\n",
       "      <td>101400.0</td>\n",
       "      <td>151973.0</td>\n",
       "      <td>202478.0</td>\n",
       "    </tr>\n",
       "  </tbody>\n",
       "</table>\n",
       "</div>"
      ],
      "text/plain": [
       "             0         1         2         3\n",
       "3369  217260.0   72662.0  108823.0  144899.0\n",
       "1441  345642.0  115407.0  172974.0  230475.0\n",
       "571   246641.0   82393.0  123464.0  164470.0\n",
       "225   270645.0   90417.0  135484.0  180478.0\n",
       "2558  303651.0  101400.0  151973.0  202478.0"
      ]
     },
     "metadata": {},
     "output_type": "display_data"
    },
    {
     "data": {
      "text/html": [
       "<div>\n",
       "<style scoped>\n",
       "    .dataframe tbody tr th:only-of-type {\n",
       "        vertical-align: middle;\n",
       "    }\n",
       "\n",
       "    .dataframe tbody tr th {\n",
       "        vertical-align: top;\n",
       "    }\n",
       "\n",
       "    .dataframe thead th {\n",
       "        text-align: right;\n",
       "    }\n",
       "</style>\n",
       "<table border=\"1\" class=\"dataframe\">\n",
       "  <thead>\n",
       "    <tr style=\"text-align: right;\">\n",
       "      <th></th>\n",
       "      <th>0</th>\n",
       "      <th>1</th>\n",
       "      <th>2</th>\n",
       "      <th>3</th>\n",
       "    </tr>\n",
       "  </thead>\n",
       "  <tbody>\n",
       "    <tr>\n",
       "      <th>3183</th>\n",
       "      <td>234069.0</td>\n",
       "      <td>78202.0</td>\n",
       "      <td>117181.0</td>\n",
       "      <td>156090.0</td>\n",
       "    </tr>\n",
       "    <tr>\n",
       "      <th>1071</th>\n",
       "      <td>258668.0</td>\n",
       "      <td>86502.0</td>\n",
       "      <td>129558.0</td>\n",
       "      <td>172512.0</td>\n",
       "    </tr>\n",
       "    <tr>\n",
       "      <th>2640</th>\n",
       "      <td>252647.0</td>\n",
       "      <td>84437.0</td>\n",
       "      <td>126499.0</td>\n",
       "      <td>168485.0</td>\n",
       "    </tr>\n",
       "    <tr>\n",
       "      <th>2282</th>\n",
       "      <td>208820.0</td>\n",
       "      <td>69720.0</td>\n",
       "      <td>104500.0</td>\n",
       "      <td>139240.0</td>\n",
       "    </tr>\n",
       "    <tr>\n",
       "      <th>1595</th>\n",
       "      <td>240077.0</td>\n",
       "      <td>80250.0</td>\n",
       "      <td>120221.0</td>\n",
       "      <td>160106.0</td>\n",
       "    </tr>\n",
       "  </tbody>\n",
       "</table>\n",
       "</div>"
      ],
      "text/plain": [
       "             0        1         2         3\n",
       "3183  234069.0  78202.0  117181.0  156090.0\n",
       "1071  258668.0  86502.0  129558.0  172512.0\n",
       "2640  252647.0  84437.0  126499.0  168485.0\n",
       "2282  208820.0  69720.0  104500.0  139240.0\n",
       "1595  240077.0  80250.0  120221.0  160106.0"
      ]
     },
     "metadata": {},
     "output_type": "display_data"
    },
    {
     "data": {
      "text/plain": [
       "array([[8, 3, 4, 7],\n",
       "       [1, 6, 5, 2],\n",
       "       [6, 2, 3, 4],\n",
       "       [9, 1, 4, 6]])"
      ]
     },
     "metadata": {},
     "output_type": "display_data"
    },
    {
     "name": "stdout",
     "output_type": "stream",
     "text": [
      "Размеры обучающей и тестовой выборoк: (3750, 4) (1250, 4)\n"
     ]
    }
   ],
   "source": [
    "features_train_crypted, features_test_crypted = transfom_features(features_train, features_test)"
   ]
  },
  {
   "cell_type": "markdown",
   "metadata": {},
   "source": [
    "Обучим модели линейной регрессии, на оригинальных данных, преобразованных, оригинальных данных(масштабированных), преобразованных(масштабированных).\n",
    "После этого проверим, будет ли существенная разница."
   ]
  },
  {
   "cell_type": "code",
   "execution_count": 50,
   "metadata": {},
   "outputs": [
    {
     "name": "stdout",
     "output_type": "stream",
     "text": [
      "Метрика R2 для оригинальных признаков: 0.43522757127026546\n"
     ]
    }
   ],
   "source": [
    "model = LinearRegression()\n",
    "\n",
    "model.fit(features_train, target_train)\n",
    "predictions_original = model.predict(features_test)\n",
    "r2_original = r2_score(target_test, predictions_original)\n",
    "print('Метрика R2 для оригинальных признаков: {}'.format(r2_original))"
   ]
  },
  {
   "cell_type": "code",
   "execution_count": 51,
   "metadata": {},
   "outputs": [
    {
     "name": "stdout",
     "output_type": "stream",
     "text": [
      "Метрика R2 для преобразованных признаков: 0.43522757127022094\n"
     ]
    }
   ],
   "source": [
    "model.fit(features_train_crypted, target_train)\n",
    "predictions_crypted = model.predict(features_test_crypted)\n",
    "r2_crypted = r2_score(target_test, predictions_crypted)\n",
    "print('Метрика R2 для преобразованных признаков: {}'.format(r2_crypted))"
   ]
  },
  {
   "cell_type": "code",
   "execution_count": 52,
   "metadata": {},
   "outputs": [
    {
     "name": "stdout",
     "output_type": "stream",
     "text": [
      "Метрика R2 для оригинальных(масштабированных) признаков: 0.4352275712702667\n"
     ]
    }
   ],
   "source": [
    "scaler = MinMaxScaler()\n",
    "pipeline = Pipeline([(\"standard_scaler\", scaler),(\"linear_regression\", model)])\n",
    "pipeline.fit(features_train, target_train)\n",
    "predictions_original_scaled = pipeline.predict(features_test)\n",
    "r2_original_scaled = r2_score(target_test, predictions_original_scaled)\n",
    "print('Метрика R2 для оригинальных(масштабированных) признаков: {}'.format(r2_original_scaled))"
   ]
  },
  {
   "cell_type": "code",
   "execution_count": 53,
   "metadata": {},
   "outputs": [
    {
     "name": "stdout",
     "output_type": "stream",
     "text": [
      "Метрика R2 для преобразованных(масштабированных) признаков: 0.43522757127056333\n"
     ]
    }
   ],
   "source": [
    "pipeline = Pipeline([(\"standard_scaler\", scaler),(\"linear_regression\", model)])\n",
    "pipeline.fit(features_train_crypted, target_train)\n",
    "predictions_crypted_scaled = pipeline.predict(features_test_crypted)\n",
    "r2_crypted_scaled = r2_score(target_test, predictions_crypted_scaled)\n",
    "print('Метрика R2 для преобразованных(масштабированных) признаков: {}'.format(r2_crypted_scaled))"
   ]
  },
  {
   "cell_type": "code",
   "execution_count": 54,
   "metadata": {},
   "outputs": [
    {
     "data": {
      "text/html": [
       "<div>\n",
       "<style scoped>\n",
       "    .dataframe tbody tr th:only-of-type {\n",
       "        vertical-align: middle;\n",
       "    }\n",
       "\n",
       "    .dataframe tbody tr th {\n",
       "        vertical-align: top;\n",
       "    }\n",
       "\n",
       "    .dataframe thead th {\n",
       "        text-align: right;\n",
       "    }\n",
       "</style>\n",
       "<table border=\"1\" class=\"dataframe\">\n",
       "  <thead>\n",
       "    <tr style=\"text-align: right;\">\n",
       "      <th></th>\n",
       "      <th>Коэффициент детерминации</th>\n",
       "    </tr>\n",
       "  </thead>\n",
       "  <tbody>\n",
       "    <tr>\n",
       "      <th>Линейная регрессия</th>\n",
       "      <td>0.435228</td>\n",
       "    </tr>\n",
       "    <tr>\n",
       "      <th>Линейная регрессия c масштабом</th>\n",
       "      <td>0.435228</td>\n",
       "    </tr>\n",
       "    <tr>\n",
       "      <th>Линейная регрессия на преобразованных признаках</th>\n",
       "      <td>0.435228</td>\n",
       "    </tr>\n",
       "    <tr>\n",
       "      <th>Линейная регрессия на преобразованных признаках c масштабом</th>\n",
       "      <td>0.435228</td>\n",
       "    </tr>\n",
       "  </tbody>\n",
       "</table>\n",
       "</div>"
      ],
      "text/plain": [
       "                                                    Коэффициент детерминации\n",
       "Линейная регрессия                                                  0.435228\n",
       "Линейная регрессия c масштабом                                      0.435228\n",
       "Линейная регрессия на преобразованных признаках                     0.435228\n",
       "Линейная регрессия на преобразованных признаках...                  0.435228"
      ]
     },
     "execution_count": 54,
     "metadata": {},
     "output_type": "execute_result"
    }
   ],
   "source": [
    "result = pd.DataFrame(data= [r2_original,\n",
    "                      r2_original_scaled,\n",
    "                      r2_crypted,\n",
    "                      r2_crypted_scaled], \n",
    "                     columns=['Коэффициент детерминации'], \n",
    "                     index=['Линейная регрессия',\n",
    "                            'Линейная регрессия c масштабом',\n",
    "                            'Линейная регрессия на преобразованных признаках',\n",
    "                            'Линейная регрессия на преобразованных признаках c масштабом',])\n",
    "result"
   ]
  },
  {
   "cell_type": "markdown",
   "metadata": {},
   "source": [
    "**Вывод**\n",
    "\n",
    "В ходе работы было проделано:\n",
    "\n",
    "- Загружены и изучены данные.\n",
    "- Качество линейной регресии при использовании исходной матрицы и исходной матрицы, умноженной на обратимую не изменяется.\n",
    "- Создан алгоритм преобразования данных.\n",
    "- Исследован алгоритм преобразования данных и проверен коэффициент детерминации для данных без преобразования и с ним.\n",
    "- По результатам работы использования матричных операций можно увидеть, что данные очень просто зашифровать от распознования, имея правильную матрицу."
   ]
  },
  {
   "cell_type": "markdown",
   "metadata": {},
   "source": [
    "## Чек-лист проверки"
   ]
  },
  {
   "cell_type": "markdown",
   "metadata": {},
   "source": [
    "Поставьте 'x' в выполненных пунктах. Далее нажмите Shift+Enter."
   ]
  },
  {
   "cell_type": "markdown",
   "metadata": {},
   "source": [
    "- [x]  Jupyter Notebook открыт\n",
    "- [x]  Весь код выполняется без ошибок\n",
    "- [x]  Ячейки с кодом расположены в порядке исполнения\n",
    "- [x]  Выполнен шаг 1: данные загружены\n",
    "- [x]  Выполнен шаг 2: получен ответ на вопрос об умножении матриц\n",
    "    - [x]  Указан правильный вариант ответа\n",
    "    - [x]  Вариант обоснован\n",
    "- [x]  Выполнен шаг 3: предложен алгоритм преобразования\n",
    "    - [x]  Алгоритм описан\n",
    "    - [x]  Алгоритм обоснован\n",
    "- [x]  Выполнен шаг 4: алгоритм проверен\n",
    "    - [x]  Алгоритм реализован\n",
    "    - [x]  Проведено сравнение качества моделей до и после преобразования"
   ]
  }
 ],
 "metadata": {
  "ExecuteTimeLog": [
   {
    "duration": 2693,
    "start_time": "2023-03-26T13:38:57.122Z"
   },
   {
    "duration": 132,
    "start_time": "2023-03-26T13:38:59.818Z"
   },
   {
    "duration": 6,
    "start_time": "2023-03-26T13:38:59.953Z"
   },
   {
    "duration": 93,
    "start_time": "2023-03-26T13:38:59.965Z"
   },
   {
    "duration": 19,
    "start_time": "2023-03-26T13:39:00.061Z"
   },
   {
    "duration": 8,
    "start_time": "2023-03-26T13:39:00.083Z"
   },
   {
    "duration": 23,
    "start_time": "2023-03-26T13:39:00.094Z"
   },
   {
    "duration": 202,
    "start_time": "2023-03-26T13:39:00.119Z"
   },
   {
    "duration": 0,
    "start_time": "2023-03-26T13:39:00.323Z"
   },
   {
    "duration": 0,
    "start_time": "2023-03-26T13:39:00.325Z"
   },
   {
    "duration": 0,
    "start_time": "2023-03-26T13:39:00.327Z"
   },
   {
    "duration": 0,
    "start_time": "2023-03-26T13:39:00.328Z"
   },
   {
    "duration": 0,
    "start_time": "2023-03-26T13:39:00.329Z"
   },
   {
    "duration": 0,
    "start_time": "2023-03-26T13:39:00.331Z"
   },
   {
    "duration": 12,
    "start_time": "2023-03-27T11:08:05.164Z"
   },
   {
    "duration": 1219,
    "start_time": "2023-03-27T11:08:14.551Z"
   },
   {
    "duration": 9,
    "start_time": "2023-03-27T11:08:15.773Z"
   },
   {
    "duration": 11,
    "start_time": "2023-03-27T11:08:15.784Z"
   },
   {
    "duration": 124,
    "start_time": "2023-03-27T11:08:15.797Z"
   },
   {
    "duration": 1,
    "start_time": "2023-03-27T11:08:15.923Z"
   },
   {
    "duration": 0,
    "start_time": "2023-03-27T11:08:15.925Z"
   },
   {
    "duration": 0,
    "start_time": "2023-03-27T11:08:15.927Z"
   },
   {
    "duration": 0,
    "start_time": "2023-03-27T11:08:15.928Z"
   },
   {
    "duration": 5,
    "start_time": "2023-03-27T11:09:23.949Z"
   },
   {
    "duration": 5,
    "start_time": "2023-03-27T11:09:27.245Z"
   },
   {
    "duration": 6,
    "start_time": "2023-03-27T11:09:27.466Z"
   },
   {
    "duration": 96,
    "start_time": "2023-03-27T11:09:52.501Z"
   },
   {
    "duration": 1318,
    "start_time": "2023-03-27T11:10:21.005Z"
   },
   {
    "duration": 54,
    "start_time": "2023-03-27T11:10:22.326Z"
   },
   {
    "duration": 188,
    "start_time": "2023-03-27T11:25:01.927Z"
   },
   {
    "duration": 119,
    "start_time": "2023-03-27T14:53:38.508Z"
   },
   {
    "duration": 3,
    "start_time": "2023-03-27T15:34:21.359Z"
   },
   {
    "duration": 80,
    "start_time": "2023-03-27T15:34:21.364Z"
   },
   {
    "duration": 7,
    "start_time": "2023-03-27T15:34:21.446Z"
   },
   {
    "duration": 135,
    "start_time": "2023-03-27T15:34:21.488Z"
   },
   {
    "duration": 0,
    "start_time": "2023-03-27T15:34:21.624Z"
   },
   {
    "duration": 0,
    "start_time": "2023-03-27T15:34:21.626Z"
   },
   {
    "duration": 0,
    "start_time": "2023-03-27T15:34:21.628Z"
   },
   {
    "duration": 0,
    "start_time": "2023-03-27T15:34:21.629Z"
   },
   {
    "duration": 0,
    "start_time": "2023-03-27T15:34:21.631Z"
   },
   {
    "duration": 0,
    "start_time": "2023-03-27T15:34:21.632Z"
   },
   {
    "duration": 0,
    "start_time": "2023-03-27T15:34:21.634Z"
   },
   {
    "duration": 0,
    "start_time": "2023-03-27T15:34:21.635Z"
   },
   {
    "duration": 11,
    "start_time": "2023-03-27T15:34:21.737Z"
   },
   {
    "duration": 0,
    "start_time": "2023-03-27T15:34:21.751Z"
   },
   {
    "duration": 1323,
    "start_time": "2023-03-27T15:34:44.648Z"
   },
   {
    "duration": 59,
    "start_time": "2023-03-27T15:34:45.974Z"
   },
   {
    "duration": 5,
    "start_time": "2023-03-27T15:34:46.034Z"
   },
   {
    "duration": 131,
    "start_time": "2023-03-27T15:34:46.041Z"
   },
   {
    "duration": 0,
    "start_time": "2023-03-27T15:34:46.175Z"
   },
   {
    "duration": 0,
    "start_time": "2023-03-27T15:34:46.177Z"
   },
   {
    "duration": 0,
    "start_time": "2023-03-27T15:34:46.178Z"
   },
   {
    "duration": 0,
    "start_time": "2023-03-27T15:34:46.180Z"
   },
   {
    "duration": 0,
    "start_time": "2023-03-27T15:34:46.182Z"
   },
   {
    "duration": 0,
    "start_time": "2023-03-27T15:34:46.184Z"
   },
   {
    "duration": 0,
    "start_time": "2023-03-27T15:34:46.185Z"
   },
   {
    "duration": 0,
    "start_time": "2023-03-27T15:34:46.188Z"
   },
   {
    "duration": 0,
    "start_time": "2023-03-27T15:34:46.189Z"
   },
   {
    "duration": 0,
    "start_time": "2023-03-27T15:34:46.190Z"
   },
   {
    "duration": 135,
    "start_time": "2023-03-27T15:35:38.515Z"
   },
   {
    "duration": 26,
    "start_time": "2023-03-27T15:36:17.809Z"
   },
   {
    "duration": 8,
    "start_time": "2023-03-27T15:36:24.592Z"
   },
   {
    "duration": 31,
    "start_time": "2023-03-27T15:36:24.882Z"
   },
   {
    "duration": 10,
    "start_time": "2023-03-27T15:36:25.678Z"
   },
   {
    "duration": 65,
    "start_time": "2023-03-27T15:36:27.538Z"
   },
   {
    "duration": 1208,
    "start_time": "2023-03-27T15:36:42.780Z"
   },
   {
    "duration": 28,
    "start_time": "2023-03-27T15:36:43.992Z"
   },
   {
    "duration": 6,
    "start_time": "2023-03-27T15:36:44.022Z"
   },
   {
    "duration": 73,
    "start_time": "2023-03-27T15:36:44.030Z"
   },
   {
    "duration": 9,
    "start_time": "2023-03-27T15:36:44.106Z"
   },
   {
    "duration": 7,
    "start_time": "2023-03-27T15:36:44.117Z"
   },
   {
    "duration": 7,
    "start_time": "2023-03-27T15:36:44.127Z"
   },
   {
    "duration": 45,
    "start_time": "2023-03-27T15:36:44.139Z"
   },
   {
    "duration": 37,
    "start_time": "2023-03-27T15:36:44.187Z"
   },
   {
    "duration": 13,
    "start_time": "2023-03-27T15:36:44.226Z"
   },
   {
    "duration": 38,
    "start_time": "2023-03-27T15:36:44.242Z"
   },
   {
    "duration": 25,
    "start_time": "2023-03-27T15:36:44.283Z"
   },
   {
    "duration": 15,
    "start_time": "2023-03-27T15:36:44.311Z"
   },
   {
    "duration": 13,
    "start_time": "2023-03-27T15:36:44.329Z"
   },
   {
    "duration": 3,
    "start_time": "2023-03-27T15:38:16.444Z"
   },
   {
    "duration": 30,
    "start_time": "2023-03-27T15:38:16.449Z"
   },
   {
    "duration": 12,
    "start_time": "2023-03-27T15:38:16.482Z"
   },
   {
    "duration": 43,
    "start_time": "2023-03-27T15:38:16.498Z"
   },
   {
    "duration": 4,
    "start_time": "2023-03-27T15:38:16.542Z"
   },
   {
    "duration": 36,
    "start_time": "2023-03-27T15:38:16.548Z"
   },
   {
    "duration": 3,
    "start_time": "2023-03-27T15:38:19.436Z"
   },
   {
    "duration": 28,
    "start_time": "2023-03-27T15:38:19.441Z"
   },
   {
    "duration": 6,
    "start_time": "2023-03-27T15:38:19.471Z"
   },
   {
    "duration": 50,
    "start_time": "2023-03-27T15:38:19.481Z"
   },
   {
    "duration": 5,
    "start_time": "2023-03-27T15:38:19.532Z"
   },
   {
    "duration": 10,
    "start_time": "2023-03-27T15:38:19.538Z"
   },
   {
    "duration": 32,
    "start_time": "2023-03-27T15:38:19.549Z"
   },
   {
    "duration": 28,
    "start_time": "2023-03-27T15:38:19.583Z"
   },
   {
    "duration": 18,
    "start_time": "2023-03-27T15:38:19.614Z"
   },
   {
    "duration": 9,
    "start_time": "2023-03-27T15:38:19.634Z"
   },
   {
    "duration": 12,
    "start_time": "2023-03-27T15:38:19.677Z"
   },
   {
    "duration": 18,
    "start_time": "2023-03-27T15:38:19.691Z"
   },
   {
    "duration": 12,
    "start_time": "2023-03-27T15:38:19.710Z"
   },
   {
    "duration": 8,
    "start_time": "2023-03-27T15:38:19.723Z"
   },
   {
    "duration": 6,
    "start_time": "2023-03-27T15:39:22.898Z"
   },
   {
    "duration": 29,
    "start_time": "2023-03-27T15:39:22.906Z"
   },
   {
    "duration": 7,
    "start_time": "2023-03-27T15:39:22.937Z"
   },
   {
    "duration": 85,
    "start_time": "2023-03-27T15:39:22.946Z"
   },
   {
    "duration": 5,
    "start_time": "2023-03-27T15:39:23.035Z"
   },
   {
    "duration": 8,
    "start_time": "2023-03-27T15:39:23.042Z"
   },
   {
    "duration": 1224,
    "start_time": "2023-03-27T15:39:48.247Z"
   },
   {
    "duration": 35,
    "start_time": "2023-03-27T15:39:49.473Z"
   },
   {
    "duration": 9,
    "start_time": "2023-03-27T15:39:49.510Z"
   },
   {
    "duration": 59,
    "start_time": "2023-03-27T15:39:49.522Z"
   },
   {
    "duration": 11,
    "start_time": "2023-03-27T15:39:49.583Z"
   },
   {
    "duration": 7,
    "start_time": "2023-03-27T15:39:49.597Z"
   },
   {
    "duration": 6,
    "start_time": "2023-03-27T15:39:49.605Z"
   },
   {
    "duration": 27,
    "start_time": "2023-03-27T15:39:49.613Z"
   },
   {
    "duration": 38,
    "start_time": "2023-03-27T15:39:49.642Z"
   },
   {
    "duration": 16,
    "start_time": "2023-03-27T15:39:49.684Z"
   },
   {
    "duration": 12,
    "start_time": "2023-03-27T15:39:49.703Z"
   },
   {
    "duration": 19,
    "start_time": "2023-03-27T15:39:49.717Z"
   },
   {
    "duration": 51,
    "start_time": "2023-03-27T15:39:49.738Z"
   },
   {
    "duration": 21,
    "start_time": "2023-03-27T15:39:49.791Z"
   },
   {
    "duration": 5,
    "start_time": "2023-03-27T15:45:06.459Z"
   },
   {
    "duration": 27,
    "start_time": "2023-03-27T15:45:08.361Z"
   },
   {
    "duration": 24,
    "start_time": "2023-03-27T15:45:09.457Z"
   },
   {
    "duration": 6,
    "start_time": "2023-03-27T15:47:53.405Z"
   },
   {
    "duration": 29,
    "start_time": "2023-03-27T15:47:54.092Z"
   },
   {
    "duration": 19,
    "start_time": "2023-03-27T15:47:54.600Z"
   },
   {
    "duration": 11,
    "start_time": "2023-03-27T15:47:55.796Z"
   },
   {
    "duration": 11,
    "start_time": "2023-03-27T15:47:56.013Z"
   },
   {
    "duration": 14,
    "start_time": "2023-03-27T15:47:56.220Z"
   },
   {
    "duration": 16,
    "start_time": "2023-03-27T15:47:56.452Z"
   },
   {
    "duration": 5,
    "start_time": "2023-03-27T15:51:46.219Z"
   },
   {
    "duration": 44,
    "start_time": "2023-03-27T15:51:46.226Z"
   },
   {
    "duration": 37,
    "start_time": "2023-03-27T15:51:46.272Z"
   },
   {
    "duration": 76,
    "start_time": "2023-03-27T15:51:46.311Z"
   },
   {
    "duration": 5,
    "start_time": "2023-03-27T15:51:46.390Z"
   },
   {
    "duration": 11,
    "start_time": "2023-03-27T15:51:46.401Z"
   },
   {
    "duration": 7,
    "start_time": "2023-03-27T15:51:46.414Z"
   },
   {
    "duration": 58,
    "start_time": "2023-03-27T15:51:46.423Z"
   },
   {
    "duration": 4,
    "start_time": "2023-03-27T15:51:46.484Z"
   },
   {
    "duration": 12,
    "start_time": "2023-03-27T15:51:46.492Z"
   },
   {
    "duration": 11,
    "start_time": "2023-03-27T15:51:46.506Z"
   },
   {
    "duration": 11,
    "start_time": "2023-03-27T15:51:46.519Z"
   },
   {
    "duration": 44,
    "start_time": "2023-03-27T15:51:46.532Z"
   },
   {
    "duration": 21,
    "start_time": "2023-03-27T15:51:46.579Z"
   },
   {
    "duration": 9,
    "start_time": "2023-03-27T15:51:46.603Z"
   },
   {
    "duration": 4,
    "start_time": "2023-03-27T15:53:12.309Z"
   },
   {
    "duration": 29,
    "start_time": "2023-03-27T15:53:12.315Z"
   },
   {
    "duration": 7,
    "start_time": "2023-03-27T15:53:12.346Z"
   },
   {
    "duration": 71,
    "start_time": "2023-03-27T15:53:12.356Z"
   },
   {
    "duration": 6,
    "start_time": "2023-03-27T15:53:12.429Z"
   },
   {
    "duration": 7,
    "start_time": "2023-03-27T15:53:12.436Z"
   },
   {
    "duration": 7,
    "start_time": "2023-03-27T15:53:12.445Z"
   },
   {
    "duration": 58,
    "start_time": "2023-03-27T15:53:12.453Z"
   },
   {
    "duration": 3,
    "start_time": "2023-03-27T15:53:12.514Z"
   },
   {
    "duration": 10,
    "start_time": "2023-03-27T15:53:12.519Z"
   },
   {
    "duration": 45,
    "start_time": "2023-03-27T15:53:12.531Z"
   },
   {
    "duration": 9,
    "start_time": "2023-03-27T15:53:12.577Z"
   },
   {
    "duration": 12,
    "start_time": "2023-03-27T15:53:12.588Z"
   },
   {
    "duration": 10,
    "start_time": "2023-03-27T15:53:12.602Z"
   },
   {
    "duration": 22,
    "start_time": "2023-03-27T15:53:12.614Z"
   }
  ],
  "kernelspec": {
   "display_name": "Python 3 (ipykernel)",
   "language": "python",
   "name": "python3"
  },
  "language_info": {
   "codemirror_mode": {
    "name": "ipython",
    "version": 3
   },
   "file_extension": ".py",
   "mimetype": "text/x-python",
   "name": "python",
   "nbconvert_exporter": "python",
   "pygments_lexer": "ipython3",
   "version": "3.9.12"
  },
  "toc": {
   "base_numbering": 1,
   "nav_menu": {},
   "number_sections": true,
   "sideBar": true,
   "skip_h1_title": true,
   "title_cell": "Содержание",
   "title_sidebar": "Contents",
   "toc_cell": true,
   "toc_position": {},
   "toc_section_display": true,
   "toc_window_display": true
  }
 },
 "nbformat": 4,
 "nbformat_minor": 2
}
