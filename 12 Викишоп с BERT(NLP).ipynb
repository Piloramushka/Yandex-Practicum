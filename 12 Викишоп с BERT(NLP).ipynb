{
 "cells": [
  {
   "cell_type": "markdown",
   "metadata": {
    "toc": true
   },
   "source": [
    "<h1>Содержание<span class=\"tocSkip\"></span></h1>\n",
    "<div class=\"toc\"><ul class=\"toc-item\"><li><span><a href=\"#Подготовка\" data-toc-modified-id=\"Подготовка-1\"><span class=\"toc-item-num\">1&nbsp;&nbsp;</span>Подготовка</a></span></li><li><span><a href=\"#Обучение\" data-toc-modified-id=\"Обучение-2\"><span class=\"toc-item-num\">2&nbsp;&nbsp;</span>Обучение</a></span><ul class=\"toc-item\"><li><span><a href=\"#Логистическая-регрессия\" data-toc-modified-id=\"Логистическая-регрессия-2.1\"><span class=\"toc-item-num\">2.1&nbsp;&nbsp;</span>Логистическая регрессия</a></span></li><li><span><a href=\"#CatBoost\" data-toc-modified-id=\"CatBoost-2.2\"><span class=\"toc-item-num\">2.2&nbsp;&nbsp;</span>CatBoost</a></span></li><li><span><a href=\"#Случайный-лес\" data-toc-modified-id=\"Случайный-лес-2.3\"><span class=\"toc-item-num\">2.3&nbsp;&nbsp;</span>Случайный лес</a></span></li><li><span><a href=\"#SGDClassifier\" data-toc-modified-id=\"SGDClassifier-2.4\"><span class=\"toc-item-num\">2.4&nbsp;&nbsp;</span>SGDClassifier</a></span></li></ul></li><li><span><a href=\"#Выводы\" data-toc-modified-id=\"Выводы-3\"><span class=\"toc-item-num\">3&nbsp;&nbsp;</span>Выводы</a></span></li><li><span><a href=\"#Чек-лист-проверки\" data-toc-modified-id=\"Чек-лист-проверки-4\"><span class=\"toc-item-num\">4&nbsp;&nbsp;</span>Чек-лист проверки</a></span></li></ul></div>"
   ]
  },
  {
   "cell_type": "markdown",
   "metadata": {},
   "source": [
    "# Проект для «Викишоп» с BERT"
   ]
  },
  {
   "cell_type": "markdown",
   "metadata": {},
   "source": [
    "Интернет-магазин «Викишоп» запускает новый сервис. Теперь пользователи могут редактировать и дополнять описания товаров, как в вики-сообществах. То есть клиенты предлагают свои правки и комментируют изменения других. Магазину нужен инструмент, который будет искать токсичные комментарии и отправлять их на модерацию. \n",
    "\n",
    "Обучите модель классифицировать комментарии на позитивные и негативные. В вашем распоряжении набор данных с разметкой о токсичности правок.\n",
    "\n",
    "Постройте модель со значением метрики качества *F1* не меньше 0.75. \n",
    "\n",
    "**Инструкция по выполнению проекта**\n",
    "\n",
    "1. Загрузите и подготовьте данные.\n",
    "2. Обучите разные модели. \n",
    "3. Сделайте выводы.\n",
    "\n",
    "Для выполнения проекта применять *BERT* необязательно, но вы можете попробовать.\n",
    "\n",
    "**Описание данных**\n",
    "\n",
    "Данные находятся в файле `toxic_comments.csv`. Столбец *text* в нём содержит текст комментария, а *toxic* — целевой признак."
   ]
  },
  {
   "cell_type": "markdown",
   "metadata": {},
   "source": [
    "## Подготовка"
   ]
  },
  {
   "cell_type": "code",
   "execution_count": 1,
   "metadata": {
    "execution": {
     "iopub.execute_input": "2023-04-20T18:09:15.213747Z",
     "iopub.status.busy": "2023-04-20T18:09:15.213035Z",
     "iopub.status.idle": "2023-04-20T18:09:20.059721Z",
     "shell.execute_reply": "2023-04-20T18:09:20.058649Z",
     "shell.execute_reply.started": "2023-04-20T18:09:15.213709Z"
    }
   },
   "outputs": [],
   "source": [
    "import os\n",
    "import matplotlib.pyplot as plt\n",
    "import numpy as np\n",
    "import pandas as pd\n",
    "import torch\n",
    "import transformers as ppb \n",
    "import warnings\n",
    "warnings.filterwarnings('ignore')\n",
    "\n",
    "from tqdm import notebook\n",
    "from sklearn.model_selection import train_test_split\n",
    "from sklearn.linear_model import LogisticRegression\n",
    "from sklearn.linear_model import SGDClassifier\n",
    "from sklearn.ensemble import RandomForestClassifier\n",
    "from catboost import CatBoostClassifier\n",
    "from sklearn.model_selection import GridSearchCV\n",
    "from sklearn.metrics import f1_score, roc_auc_score, roc_curve\n",
    "from transformers import AutoModel, AutoTokenizer \n",
    "\n",
    "RANDOM_STATE=12345\n",
    "AIM = 0.75"
   ]
  },
  {
   "cell_type": "code",
   "execution_count": 2,
   "metadata": {
    "execution": {
     "iopub.execute_input": "2023-04-20T18:09:20.062042Z",
     "iopub.status.busy": "2023-04-20T18:09:20.061487Z",
     "iopub.status.idle": "2023-04-20T18:09:20.069074Z",
     "shell.execute_reply": "2023-04-20T18:09:20.067957Z",
     "shell.execute_reply.started": "2023-04-20T18:09:20.062007Z"
    }
   },
   "outputs": [
    {
     "name": "stdout",
     "output_type": "stream",
     "text": [
      "Something is wrong\n"
     ]
    }
   ],
   "source": [
    "pth1 = '/Users/ramilvaleev/Desktop/Yandex Projects/Проекты в работе/Toxic comments/toxic_comments.csv'\n",
    "pth2 = 'https://code.s3.yandex.net/datasets/toxic_comments.csv'\n",
    "\n",
    "if os.path.exists(pth1):\n",
    "    data = pd.read_csv(pth1)\n",
    "elif os.path.exists(pth2):\n",
    "    data = pd.read_csv(pth2)\n",
    "else:\n",
    "    print('Something is wrong')"
   ]
  },
  {
   "cell_type": "code",
   "execution_count": 3,
   "metadata": {
    "execution": {
     "iopub.execute_input": "2023-04-20T18:09:20.071439Z",
     "iopub.status.busy": "2023-04-20T18:09:20.070793Z",
     "iopub.status.idle": "2023-04-20T18:09:26.380620Z",
     "shell.execute_reply": "2023-04-20T18:09:26.379622Z",
     "shell.execute_reply.started": "2023-04-20T18:09:20.071399Z"
    }
   },
   "outputs": [],
   "source": [
    "data"
   ]
  },
  {
   "cell_type": "code",
   "execution_count": 4,
   "metadata": {
    "execution": {
     "iopub.execute_input": "2023-04-20T18:09:26.383854Z",
     "iopub.status.busy": "2023-04-20T18:09:26.383454Z",
     "iopub.status.idle": "2023-04-20T18:09:26.620202Z",
     "shell.execute_reply": "2023-04-20T18:09:26.619140Z",
     "shell.execute_reply.started": "2023-04-20T18:09:26.383814Z"
    }
   },
   "outputs": [],
   "source": [
    "data['text'] = data['text'].str.lower()"
   ]
  },
  {
   "cell_type": "markdown",
   "metadata": {},
   "source": [
    "Удалим лишний столбец"
   ]
  },
  {
   "cell_type": "code",
   "execution_count": 5,
   "metadata": {
    "execution": {
     "iopub.execute_input": "2023-04-20T18:09:26.622330Z",
     "iopub.status.busy": "2023-04-20T18:09:26.621936Z",
     "iopub.status.idle": "2023-04-20T18:09:26.638177Z",
     "shell.execute_reply": "2023-04-20T18:09:26.637068Z",
     "shell.execute_reply.started": "2023-04-20T18:09:26.622288Z"
    }
   },
   "outputs": [],
   "source": [
    "data = data.drop('Unnamed: 0', axis=1)"
   ]
  },
  {
   "cell_type": "code",
   "execution_count": 6,
   "metadata": {
    "execution": {
     "iopub.execute_input": "2023-04-20T18:09:26.640212Z",
     "iopub.status.busy": "2023-04-20T18:09:26.639806Z",
     "iopub.status.idle": "2023-04-20T18:09:26.677891Z",
     "shell.execute_reply": "2023-04-20T18:09:26.676775Z",
     "shell.execute_reply.started": "2023-04-20T18:09:26.640170Z"
    },
    "scrolled": true
   },
   "outputs": [
    {
     "name": "stdout",
     "output_type": "stream",
     "text": [
      "<class 'pandas.core.frame.DataFrame'>\n",
      "RangeIndex: 159292 entries, 0 to 159291\n",
      "Data columns (total 2 columns):\n",
      " #   Column  Non-Null Count   Dtype \n",
      "---  ------  --------------   ----- \n",
      " 0   text    159292 non-null  object\n",
      " 1   toxic   159292 non-null  int64 \n",
      "dtypes: int64(1), object(1)\n",
      "memory usage: 2.4+ MB\n"
     ]
    }
   ],
   "source": [
    "data.info()"
   ]
  },
  {
   "cell_type": "code",
   "execution_count": 7,
   "metadata": {
    "execution": {
     "iopub.execute_input": "2023-04-20T18:09:26.679888Z",
     "iopub.status.busy": "2023-04-20T18:09:26.679434Z",
     "iopub.status.idle": "2023-04-20T18:09:26.760306Z",
     "shell.execute_reply": "2023-04-20T18:09:26.759175Z",
     "shell.execute_reply.started": "2023-04-20T18:09:26.679849Z"
    }
   },
   "outputs": [
    {
     "data": {
      "text/plain": [
       "93787     5000\n",
       "47612     5000\n",
       "18151     5000\n",
       "34352     5000\n",
       "96100     5000\n",
       "          ... \n",
       "15432        7\n",
       "137400       6\n",
       "136820       6\n",
       "52336        6\n",
       "119018       5\n",
       "Name: text, Length: 159292, dtype: int64"
      ]
     },
     "execution_count": 7,
     "metadata": {},
     "output_type": "execute_result"
    }
   ],
   "source": [
    "data['text'].apply(len).sort_values(ascending=False)"
   ]
  },
  {
   "cell_type": "code",
   "execution_count": 8,
   "metadata": {
    "execution": {
     "iopub.execute_input": "2023-04-20T18:09:26.762129Z",
     "iopub.status.busy": "2023-04-20T18:09:26.761671Z",
     "iopub.status.idle": "2023-04-20T18:09:26.954052Z",
     "shell.execute_reply": "2023-04-20T18:09:26.952921Z",
     "shell.execute_reply.started": "2023-04-20T18:09:26.762078Z"
    }
   },
   "outputs": [
    {
     "data": {
      "text/html": [
       "<div>\n",
       "<style scoped>\n",
       "    .dataframe tbody tr th:only-of-type {\n",
       "        vertical-align: middle;\n",
       "    }\n",
       "\n",
       "    .dataframe tbody tr th {\n",
       "        vertical-align: top;\n",
       "    }\n",
       "\n",
       "    .dataframe thead tr th {\n",
       "        text-align: left;\n",
       "    }\n",
       "\n",
       "    .dataframe thead tr:last-of-type th {\n",
       "        text-align: right;\n",
       "    }\n",
       "</style>\n",
       "<table border=\"1\" class=\"dataframe\">\n",
       "  <thead>\n",
       "    <tr>\n",
       "      <th></th>\n",
       "      <th colspan=\"4\" halign=\"left\">text</th>\n",
       "    </tr>\n",
       "    <tr>\n",
       "      <th></th>\n",
       "      <th>count</th>\n",
       "      <th>unique</th>\n",
       "      <th>top</th>\n",
       "      <th>freq</th>\n",
       "    </tr>\n",
       "    <tr>\n",
       "      <th>toxic</th>\n",
       "      <th></th>\n",
       "      <th></th>\n",
       "      <th></th>\n",
       "      <th></th>\n",
       "    </tr>\n",
       "  </thead>\n",
       "  <tbody>\n",
       "    <tr>\n",
       "      <th>0</th>\n",
       "      <td>143106</td>\n",
       "      <td>143076</td>\n",
       "      <td>\"\\n\\n unblock request \\n\\n\"</td>\n",
       "      <td>3</td>\n",
       "    </tr>\n",
       "    <tr>\n",
       "      <th>1</th>\n",
       "      <td>16186</td>\n",
       "      <td>16171</td>\n",
       "      <td>user:abd is muslim scum</td>\n",
       "      <td>3</td>\n",
       "    </tr>\n",
       "  </tbody>\n",
       "</table>\n",
       "</div>"
      ],
      "text/plain": [
       "         text                                          \n",
       "        count  unique                          top freq\n",
       "toxic                                                  \n",
       "0      143106  143076  \"\\n\\n unblock request \\n\\n\"    3\n",
       "1       16186   16171      user:abd is muslim scum    3"
      ]
     },
     "execution_count": 8,
     "metadata": {},
     "output_type": "execute_result"
    }
   ],
   "source": [
    "data.groupby('toxic').describe()"
   ]
  },
  {
   "cell_type": "markdown",
   "metadata": {},
   "source": [
    "Выборка не сбалансирована, разделим выборку на две отдельные, с позитивными и негативными комментариями, сделаем downsampling на обеих выборках, оставим по 500 комментариев для обучения с помощью BERT, чтобы компьютер не улетел в стратосферу, соединим выборки в одну."
   ]
  },
  {
   "cell_type": "code",
   "execution_count": 9,
   "metadata": {
    "execution": {
     "iopub.execute_input": "2023-04-20T18:09:26.956020Z",
     "iopub.status.busy": "2023-04-20T18:09:26.955558Z",
     "iopub.status.idle": "2023-04-20T18:09:26.998706Z",
     "shell.execute_reply": "2023-04-20T18:09:26.997727Z",
     "shell.execute_reply.started": "2023-04-20T18:09:26.955981Z"
    }
   },
   "outputs": [
    {
     "data": {
      "text/html": [
       "<div>\n",
       "<style scoped>\n",
       "    .dataframe tbody tr th:only-of-type {\n",
       "        vertical-align: middle;\n",
       "    }\n",
       "\n",
       "    .dataframe tbody tr th {\n",
       "        vertical-align: top;\n",
       "    }\n",
       "\n",
       "    .dataframe thead tr th {\n",
       "        text-align: left;\n",
       "    }\n",
       "\n",
       "    .dataframe thead tr:last-of-type th {\n",
       "        text-align: right;\n",
       "    }\n",
       "</style>\n",
       "<table border=\"1\" class=\"dataframe\">\n",
       "  <thead>\n",
       "    <tr>\n",
       "      <th></th>\n",
       "      <th colspan=\"4\" halign=\"left\">text</th>\n",
       "    </tr>\n",
       "    <tr>\n",
       "      <th></th>\n",
       "      <th>count</th>\n",
       "      <th>unique</th>\n",
       "      <th>top</th>\n",
       "      <th>freq</th>\n",
       "    </tr>\n",
       "    <tr>\n",
       "      <th>toxic</th>\n",
       "      <th></th>\n",
       "      <th></th>\n",
       "      <th></th>\n",
       "      <th></th>\n",
       "    </tr>\n",
       "  </thead>\n",
       "  <tbody>\n",
       "    <tr>\n",
       "      <th>0</th>\n",
       "      <td>3594</td>\n",
       "      <td>3594</td>\n",
       "      <td>\", and nb i did not call anything \"\"a general ...</td>\n",
       "      <td>1</td>\n",
       "    </tr>\n",
       "    <tr>\n",
       "      <th>1</th>\n",
       "      <td>406</td>\n",
       "      <td>406</td>\n",
       "      <td>disruptive editing is it? you mean removing th...</td>\n",
       "      <td>1</td>\n",
       "    </tr>\n",
       "  </tbody>\n",
       "</table>\n",
       "</div>"
      ],
      "text/plain": [
       "       text                                                               \n",
       "      count unique                                                top freq\n",
       "toxic                                                                     \n",
       "0      3594   3594  \", and nb i did not call anything \"\"a general ...    1\n",
       "1       406    406  disruptive editing is it? you mean removing th...    1"
      ]
     },
     "metadata": {},
     "output_type": "display_data"
    },
    {
     "name": "stdout",
     "output_type": "stream",
     "text": [
      "Размер обучающего датасета: (3000, 1)\n",
      "Размер тестового датасета: (1000, 1)\n"
     ]
    }
   ],
   "source": [
    "comments = data.copy()\n",
    "comments = comments.sample(4000)\n",
    "display(comments.groupby('toxic').describe())\n",
    "X = comments.drop('toxic', axis=1)\n",
    "y = comments['toxic']\n",
    "X_train, X_test, y_train, y_test = train_test_split(X, y, test_size=0.25, random_state=RANDOM_STATE, stratify=y)\n",
    "\n",
    "print('Размер обучающего датасета:', X_train.shape)\n",
    "print('Размер тестового датасета:', X_test.shape)"
   ]
  },
  {
   "cell_type": "markdown",
   "metadata": {},
   "source": [
    "## Обучение"
   ]
  },
  {
   "cell_type": "markdown",
   "metadata": {},
   "source": [
    "Возьмем готовую модель BERT."
   ]
  },
  {
   "cell_type": "code",
   "execution_count": 10,
   "metadata": {
    "execution": {
     "iopub.execute_input": "2023-04-20T18:09:27.003806Z",
     "iopub.status.busy": "2023-04-20T18:09:27.003061Z",
     "iopub.status.idle": "2023-04-20T18:09:35.157414Z",
     "shell.execute_reply": "2023-04-20T18:09:35.156210Z",
     "shell.execute_reply.started": "2023-04-20T18:09:27.003766Z"
    }
   },
   "outputs": [
    {
     "data": {
      "application/vnd.jupyter.widget-view+json": {
       "model_id": "96af169e07ab47dc862a7081e670e7a1",
       "version_major": 2,
       "version_minor": 0
      },
      "text/plain": [
       "Downloading (…)lve/main/config.json:   0%|          | 0.00/811 [00:00<?, ?B/s]"
      ]
     },
     "metadata": {},
     "output_type": "display_data"
    },
    {
     "data": {
      "application/vnd.jupyter.widget-view+json": {
       "model_id": "7e433cae07354a0092b0dc5d2d4f1730",
       "version_major": 2,
       "version_minor": 0
      },
      "text/plain": [
       "Downloading pytorch_model.bin:   0%|          | 0.00/438M [00:00<?, ?B/s]"
      ]
     },
     "metadata": {},
     "output_type": "display_data"
    },
    {
     "name": "stderr",
     "output_type": "stream",
     "text": [
      "Some weights of the model checkpoint at unitary/toxic-bert were not used when initializing BertModel: ['classifier.weight', 'classifier.bias']\n",
      "- This IS expected if you are initializing BertModel from the checkpoint of a model trained on another task or with another architecture (e.g. initializing a BertForSequenceClassification model from a BertForPreTraining model).\n",
      "- This IS NOT expected if you are initializing BertModel from the checkpoint of a model that you expect to be exactly identical (initializing a BertForSequenceClassification model from a BertForSequenceClassification model).\n"
     ]
    },
    {
     "data": {
      "application/vnd.jupyter.widget-view+json": {
       "model_id": "cc219faca51d4af2ae1586dba3621be9",
       "version_major": 2,
       "version_minor": 0
      },
      "text/plain": [
       "Downloading (…)okenizer_config.json:   0%|          | 0.00/174 [00:00<?, ?B/s]"
      ]
     },
     "metadata": {},
     "output_type": "display_data"
    },
    {
     "data": {
      "application/vnd.jupyter.widget-view+json": {
       "model_id": "0783c2ff167e4f5ea5288e30f846286c",
       "version_major": 2,
       "version_minor": 0
      },
      "text/plain": [
       "Downloading (…)solve/main/vocab.txt:   0%|          | 0.00/232k [00:00<?, ?B/s]"
      ]
     },
     "metadata": {},
     "output_type": "display_data"
    },
    {
     "data": {
      "application/vnd.jupyter.widget-view+json": {
       "model_id": "a9e2ce03eb4c4860bf6cb991363c89f4",
       "version_major": 2,
       "version_minor": 0
      },
      "text/plain": [
       "Downloading (…)cial_tokens_map.json:   0%|          | 0.00/112 [00:00<?, ?B/s]"
      ]
     },
     "metadata": {},
     "output_type": "display_data"
    }
   ],
   "source": [
    "model_name = \"unitary/toxic-bert\" \n",
    "\n",
    "model = AutoModel.from_pretrained(model_name)\n",
    "tokenizer = AutoTokenizer.from_pretrained(model_name)"
   ]
  },
  {
   "cell_type": "markdown",
   "metadata": {},
   "source": [
    "Создадим признаки для прогнозирования. Токенизируем текст в усеченной выборке. Параметр `truncation=True` будет укорачивать комментарии содержащие больше 512 слов, так как модель больше не поддерживает. "
   ]
  },
  {
   "cell_type": "code",
   "execution_count": 11,
   "metadata": {
    "execution": {
     "iopub.execute_input": "2023-04-20T18:09:35.165764Z",
     "iopub.status.busy": "2023-04-20T18:09:35.162451Z",
     "iopub.status.idle": "2023-04-20T18:09:35.179069Z",
     "shell.execute_reply": "2023-04-20T18:09:35.177986Z",
     "shell.execute_reply.started": "2023-04-20T18:09:35.165716Z"
    }
   },
   "outputs": [],
   "source": [
    "def prepare_features(df):\n",
    "    tokenized = df['text'].apply((lambda x: tokenizer.encode(x, add_special_tokens=True, truncation=True, max_length=512)))\n",
    "    n = 0\n",
    "    for i in tokenized.values:\n",
    "        if len(i) > n:\n",
    "            n = len(i)\n",
    "\n",
    "    padded = np.array([i + [0]*(n-len(i)) for i in tokenized.values])\n",
    "\n",
    "    np.array(padded).shape\n",
    "\n",
    "    attention_mask = np.where(padded != 0, 1, 0)\n",
    "    attention_mask.shape\n",
    "\n",
    "    batch_size = 1\n",
    "    embeddings = []\n",
    "    device = torch.device(\"cuda:0\") if torch.cuda.is_available() else torch.device(\"cpu\")\n",
    "    model.to(device)\n",
    "    for i in notebook.tqdm(range(padded.shape[0] // batch_size)):\n",
    "        batch = torch.LongTensor(padded[batch_size*i:batch_size*(i+1)]).to(device) \n",
    "        attention_mask_batch = torch.LongTensor(attention_mask[batch_size*i:batch_size*(i+1)]).to(device)\n",
    "        \n",
    "        with torch.no_grad():\n",
    "            batch_embeddings = model(batch, attention_mask=attention_mask_batch)\n",
    "        \n",
    "        embeddings.append(batch_embeddings[0][:,0,:].cpu().numpy())\n",
    "        del batch\n",
    "        del attention_mask_batch\n",
    "        del batch_embeddings\n",
    "    return np.concatenate(embeddings)"
   ]
  },
  {
   "cell_type": "code",
   "execution_count": 12,
   "metadata": {
    "execution": {
     "iopub.execute_input": "2023-04-20T18:09:35.186655Z",
     "iopub.status.busy": "2023-04-20T18:09:35.183881Z",
     "iopub.status.idle": "2023-04-20T18:10:43.683118Z",
     "shell.execute_reply": "2023-04-20T18:10:43.682150Z",
     "shell.execute_reply.started": "2023-04-20T18:09:35.186602Z"
    }
   },
   "outputs": [
    {
     "data": {
      "application/vnd.jupyter.widget-view+json": {
       "model_id": "46f146e2a1354f08b3f2773146453f61",
       "version_major": 2,
       "version_minor": 0
      },
      "text/plain": [
       "  0%|          | 0/3000 [00:00<?, ?it/s]"
      ]
     },
     "metadata": {},
     "output_type": "display_data"
    }
   ],
   "source": [
    "X_train = prepare_features(X_train)"
   ]
  },
  {
   "cell_type": "code",
   "execution_count": 13,
   "metadata": {
    "execution": {
     "iopub.execute_input": "2023-04-20T18:10:43.686071Z",
     "iopub.status.busy": "2023-04-20T18:10:43.685603Z",
     "iopub.status.idle": "2023-04-20T18:11:04.664738Z",
     "shell.execute_reply": "2023-04-20T18:11:04.663512Z",
     "shell.execute_reply.started": "2023-04-20T18:10:43.686029Z"
    }
   },
   "outputs": [
    {
     "data": {
      "application/vnd.jupyter.widget-view+json": {
       "model_id": "28534c2faf784098ab521f947fd23cfa",
       "version_major": 2,
       "version_minor": 0
      },
      "text/plain": [
       "  0%|          | 0/1000 [00:00<?, ?it/s]"
      ]
     },
     "metadata": {},
     "output_type": "display_data"
    }
   ],
   "source": [
    "X_test = prepare_features(X_test)"
   ]
  },
  {
   "cell_type": "markdown",
   "metadata": {},
   "source": [
    "Разделим выборку на признаки для моделирования и целевой признак."
   ]
  },
  {
   "cell_type": "code",
   "execution_count": 14,
   "metadata": {
    "execution": {
     "iopub.execute_input": "2023-04-20T18:11:04.667214Z",
     "iopub.status.busy": "2023-04-20T18:11:04.666834Z",
     "iopub.status.idle": "2023-04-20T18:11:04.673610Z",
     "shell.execute_reply": "2023-04-20T18:11:04.672311Z",
     "shell.execute_reply.started": "2023-04-20T18:11:04.667176Z"
    }
   },
   "outputs": [
    {
     "name": "stdout",
     "output_type": "stream",
     "text": [
      "(3000, 768)\n",
      "(1000, 768)\n",
      "(3000,)\n",
      "(1000,)\n"
     ]
    }
   ],
   "source": [
    "print(X_train.shape )\n",
    "print(X_test.shape) \n",
    "print(y_train.shape) \n",
    "print(y_test.shape)"
   ]
  },
  {
   "cell_type": "markdown",
   "metadata": {},
   "source": [
    "Создадим обучающую и тестовую выборки."
   ]
  },
  {
   "cell_type": "code",
   "execution_count": 15,
   "metadata": {
    "execution": {
     "iopub.execute_input": "2023-04-20T18:11:04.675613Z",
     "iopub.status.busy": "2023-04-20T18:11:04.675228Z",
     "iopub.status.idle": "2023-04-20T18:11:04.685725Z",
     "shell.execute_reply": "2023-04-20T18:11:04.684652Z",
     "shell.execute_reply.started": "2023-04-20T18:11:04.675559Z"
    }
   },
   "outputs": [],
   "source": [
    "def find_F1(model, grid_param):\n",
    "    model_grid = GridSearchCV(\n",
    "        estimator = model, param_grid = grid_param, cv=5, scoring='f1'\n",
    "    )\n",
    "    model_grid.fit(X_train, y_train)\n",
    "    print('best parameters: ', model_grid.best_params_)\n",
    "    print('best scrores: ', model_grid.best_score_)\n",
    "    return model_grid.best_score_"
   ]
  },
  {
   "cell_type": "code",
   "execution_count": 16,
   "metadata": {
    "execution": {
     "iopub.execute_input": "2023-04-20T18:11:04.687621Z",
     "iopub.status.busy": "2023-04-20T18:11:04.687235Z",
     "iopub.status.idle": "2023-04-20T18:11:04.696446Z",
     "shell.execute_reply": "2023-04-20T18:11:04.695245Z",
     "shell.execute_reply.started": "2023-04-20T18:11:04.687559Z"
    }
   },
   "outputs": [],
   "source": [
    "def auc_roc_graph(model):\n",
    "    probabilities_test = model.predict_proba(X_test)\n",
    "    probabilities_one_test = probabilities_test[:, 1]\n",
    "    auc_roc = roc_auc_score(y_test, probabilities_one_test)\n",
    "    print('AUC-ROC =',auc_roc)\n",
    "    fpr, tpr, _ = roc_curve(y_test, probabilities_one_test)\n",
    "    plt.plot(fpr, tpr, label=f'AUC-ROC= {str(auc_roc)}')\n",
    "    plt.ylabel('True Positive Rate')\n",
    "    plt.xlabel('False Positive Rate')\n",
    "    plt.legend(loc=4);\n",
    "    return auc_roc"
   ]
  },
  {
   "cell_type": "markdown",
   "metadata": {},
   "source": [
    "### Логистическая регрессия"
   ]
  },
  {
   "cell_type": "code",
   "execution_count": 17,
   "metadata": {
    "execution": {
     "iopub.execute_input": "2023-04-20T18:11:04.698399Z",
     "iopub.status.busy": "2023-04-20T18:11:04.698041Z",
     "iopub.status.idle": "2023-04-20T18:11:48.574531Z",
     "shell.execute_reply": "2023-04-20T18:11:48.573478Z",
     "shell.execute_reply.started": "2023-04-20T18:11:04.698363Z"
    }
   },
   "outputs": [
    {
     "name": "stdout",
     "output_type": "stream",
     "text": [
      "best parameters:  {'solver': 'saga'}\n",
      "best scrores:  0.9252698035519218\n",
      "CPU times: user 46.3 s, sys: 2.62 s, total: 48.9 s\n",
      "Wall time: 43.9 s\n"
     ]
    },
    {
     "data": {
      "text/plain": [
       "0.9252698035519218"
      ]
     },
     "execution_count": 17,
     "metadata": {},
     "output_type": "execute_result"
    }
   ],
   "source": [
    "%%time\n",
    "grid_param = {'solver':['lbfgs', 'liblinear', 'newton-cg', 'sag', 'saga']}\n",
    "f1_train_lr = find_F1(LogisticRegression(), grid_param)\n",
    "f1_train_lr"
   ]
  },
  {
   "cell_type": "code",
   "execution_count": 18,
   "metadata": {
    "execution": {
     "iopub.execute_input": "2023-04-20T18:11:48.576946Z",
     "iopub.status.busy": "2023-04-20T18:11:48.575959Z",
     "iopub.status.idle": "2023-04-20T18:11:49.185282Z",
     "shell.execute_reply": "2023-04-20T18:11:49.183888Z",
     "shell.execute_reply.started": "2023-04-20T18:11:48.576904Z"
    }
   },
   "outputs": [
    {
     "name": "stdout",
     "output_type": "stream",
     "text": [
      "0.9064039408866996\n"
     ]
    }
   ],
   "source": [
    "model = LogisticRegression(solver='newton-cg')\n",
    "model.fit(X_train, y_train)\n",
    "pred = model.predict(X_test)\n",
    "f1_lr = f1_score(y_test, pred)\n",
    "print(f1_lr)"
   ]
  },
  {
   "cell_type": "code",
   "execution_count": 19,
   "metadata": {
    "execution": {
     "iopub.execute_input": "2023-04-20T18:11:49.192220Z",
     "iopub.status.busy": "2023-04-20T18:11:49.191714Z",
     "iopub.status.idle": "2023-04-20T18:11:49.458725Z",
     "shell.execute_reply": "2023-04-20T18:11:49.457654Z",
     "shell.execute_reply.started": "2023-04-20T18:11:49.192169Z"
    },
    "scrolled": true
   },
   "outputs": [
    {
     "name": "stdout",
     "output_type": "stream",
     "text": [
      "AUC-ROC = 0.9923237040055507\n"
     ]
    },
    {
     "data": {
      "image/png": "[encoded data removed]",
      "text/plain": [
       "<Figure size 640x480 with 1 Axes>"
      ]
     },
     "metadata": {},
     "output_type": "display_data"
    }
   ],
   "source": [
    "auc_lr = auc_roc_graph(model)"
   ]
  },
  {
   "cell_type": "markdown",
   "metadata": {},
   "source": [
    "### CatBoost"
   ]
  },
  {
   "cell_type": "code",
   "execution_count": 20,
   "metadata": {
    "collapsed": true,
    "execution": {
     "iopub.execute_input": "2023-04-20T18:11:49.460731Z",
     "iopub.status.busy": "2023-04-20T18:11:49.460102Z",
     "iopub.status.idle": "2023-04-20T18:14:22.107894Z",
     "shell.execute_reply": "2023-04-20T18:14:22.106993Z",
     "shell.execute_reply.started": "2023-04-20T18:11:49.460690Z"
    }
   },
   "outputs": [
    {
     "name": "stdout",
     "output_type": "stream",
     "text": [
      "0:\tlearn: 0.4469441\ttotal: 19.5ms\tremaining: 5.83s\n",
      "100:\tlearn: 0.0028385\ttotal: 1.22s\tremaining: 2.4s\n",
      "200:\tlearn: 0.0010503\ttotal: 2.39s\tremaining: 1.18s\n",
      "299:\tlearn: 0.0005963\ttotal: 3.54s\tremaining: 0us\n",
      "0:\tlearn: 0.4368025\ttotal: 12.4ms\tremaining: 3.7s\n",
      "100:\tlearn: 0.0029216\ttotal: 1.16s\tremaining: 2.29s\n",
      "200:\tlearn: 0.0010447\ttotal: 2.34s\tremaining: 1.15s\n",
      "299:\tlearn: 0.0005782\ttotal: 3.56s\tremaining: 0us\n",
      "0:\tlearn: 0.4410595\ttotal: 13.1ms\tremaining: 3.92s\n",
      "100:\tlearn: 0.0030365\ttotal: 1.93s\tremaining: 3.79s\n",
      "200:\tlearn: 0.0010953\ttotal: 3.24s\tremaining: 1.59s\n",
      "299:\tlearn: 0.0006306\ttotal: 4.39s\tremaining: 0us\n",
      "0:\tlearn: 0.4256612\ttotal: 12.5ms\tremaining: 3.75s\n",
      "100:\tlearn: 0.0028204\ttotal: 1.17s\tremaining: 2.3s\n",
      "200:\tlearn: 0.0009867\ttotal: 2.33s\tremaining: 1.15s\n",
      "299:\tlearn: 0.0005441\ttotal: 3.47s\tremaining: 0us\n",
      "0:\tlearn: 0.4109874\ttotal: 12.6ms\tremaining: 3.76s\n",
      "100:\tlearn: 0.0019973\ttotal: 1.34s\tremaining: 2.65s\n",
      "200:\tlearn: 0.0007559\ttotal: 2.51s\tremaining: 1.24s\n",
      "299:\tlearn: 0.0004458\ttotal: 3.67s\tremaining: 0us\n",
      "0:\tlearn: 0.0784766\ttotal: 12.6ms\tremaining: 3.77s\n",
      "100:\tlearn: 0.0003153\ttotal: 1.18s\tremaining: 2.32s\n",
      "200:\tlearn: 0.0001302\ttotal: 2.37s\tremaining: 1.16s\n",
      "299:\tlearn: 0.0000804\ttotal: 3.52s\tremaining: 0us\n",
      "0:\tlearn: 0.0711779\ttotal: 13ms\tremaining: 3.88s\n",
      "100:\tlearn: 0.0003049\ttotal: 1.17s\tremaining: 2.3s\n",
      "200:\tlearn: 0.0001263\ttotal: 2.33s\tremaining: 1.15s\n",
      "299:\tlearn: 0.0000814\ttotal: 3.6s\tremaining: 0us\n",
      "0:\tlearn: 0.0792134\ttotal: 12.8ms\tremaining: 3.84s\n",
      "100:\tlearn: 0.0003490\ttotal: 1.21s\tremaining: 2.39s\n",
      "200:\tlearn: 0.0001477\ttotal: 2.36s\tremaining: 1.16s\n",
      "299:\tlearn: 0.0000930\ttotal: 3.5s\tremaining: 0us\n",
      "0:\tlearn: 0.0672481\ttotal: 12.4ms\tremaining: 3.7s\n",
      "100:\tlearn: 0.0002999\ttotal: 1.16s\tremaining: 2.29s\n",
      "200:\tlearn: 0.0001256\ttotal: 2.31s\tremaining: 1.14s\n",
      "299:\tlearn: 0.0000788\ttotal: 3.45s\tremaining: 0us\n",
      "0:\tlearn: 0.0679031\ttotal: 12.7ms\tremaining: 3.79s\n",
      "100:\tlearn: 0.0002563\ttotal: 1.94s\tremaining: 3.83s\n",
      "200:\tlearn: 0.0001076\ttotal: 3.17s\tremaining: 1.56s\n",
      "299:\tlearn: 0.0000676\ttotal: 4.3s\tremaining: 0us\n",
      "0:\tlearn: 0.0402685\ttotal: 12.5ms\tremaining: 3.72s\n",
      "100:\tlearn: 0.0001562\ttotal: 1.16s\tremaining: 2.29s\n",
      "200:\tlearn: 0.0000712\ttotal: 2.3s\tremaining: 1.13s\n",
      "299:\tlearn: 0.0000471\ttotal: 3.44s\tremaining: 0us\n",
      "0:\tlearn: 0.0363260\ttotal: 12.5ms\tremaining: 3.74s\n",
      "100:\tlearn: 0.0001608\ttotal: 1.17s\tremaining: 2.31s\n",
      "200:\tlearn: 0.0000723\ttotal: 2.47s\tremaining: 1.22s\n",
      "299:\tlearn: 0.0000473\ttotal: 3.61s\tremaining: 0us\n",
      "0:\tlearn: 0.0452901\ttotal: 13.5ms\tremaining: 4.03s\n",
      "100:\tlearn: 0.0001706\ttotal: 1.17s\tremaining: 2.31s\n",
      "200:\tlearn: 0.0000755\ttotal: 2.31s\tremaining: 1.14s\n",
      "299:\tlearn: 0.0000497\ttotal: 3.44s\tremaining: 0us\n",
      "0:\tlearn: 0.0341153\ttotal: 12.5ms\tremaining: 3.73s\n",
      "100:\tlearn: 0.0001651\ttotal: 1.15s\tremaining: 2.26s\n",
      "200:\tlearn: 0.0000726\ttotal: 2.29s\tremaining: 1.13s\n",
      "299:\tlearn: 0.0000470\ttotal: 3.44s\tremaining: 0us\n",
      "0:\tlearn: 0.0392390\ttotal: 12.8ms\tremaining: 3.83s\n",
      "100:\tlearn: 0.0001250\ttotal: 1.17s\tremaining: 2.3s\n",
      "200:\tlearn: 0.0000585\ttotal: 2.3s\tremaining: 1.13s\n",
      "299:\tlearn: 0.0000385\ttotal: 3.43s\tremaining: 0us\n",
      "0:\tlearn: 0.4340448\ttotal: 13.3ms\tremaining: 3.98s\n",
      "100:\tlearn: 0.0035942\ttotal: 1.16s\tremaining: 2.28s\n",
      "200:\tlearn: 0.0011564\ttotal: 2.3s\tremaining: 1.13s\n",
      "299:\tlearn: 0.0006520\ttotal: 3.45s\tremaining: 0us\n",
      "best parameters:  {'iterations': 300, 'learning_rate': 0.1, 'random_state': 12345, 'task_type': 'GPU', 'verbose': 100}\n",
      "best scrores:  0.9317040883646543\n",
      "CPU times: user 2min 48s, sys: 31.4 s, total: 3min 19s\n",
      "Wall time: 2min 32s\n"
     ]
    }
   ],
   "source": [
    "%%time\n",
    "cb_regressor = CatBoostClassifier() \n",
    "\n",
    "grid_param = {'iterations' : [300],\n",
    "              'learning_rate':[0.1, 0.5, 0.8],\n",
    "              'random_state':[RANDOM_STATE],\n",
    "              'verbose':[100],\n",
    "              'task_type':['GPU']}\n",
    "\n",
    "f1_train_cat = find_F1(CatBoostClassifier(), grid_param)"
   ]
  },
  {
   "cell_type": "code",
   "execution_count": 21,
   "metadata": {
    "execution": {
     "iopub.execute_input": "2023-04-20T18:14:22.113808Z",
     "iopub.status.busy": "2023-04-20T18:14:22.111784Z",
     "iopub.status.idle": "2023-04-20T18:14:27.357738Z",
     "shell.execute_reply": "2023-04-20T18:14:27.356851Z",
     "shell.execute_reply.started": "2023-04-20T18:14:22.113768Z"
    },
    "scrolled": true
   },
   "outputs": [
    {
     "name": "stdout",
     "output_type": "stream",
     "text": [
      "0:\tlearn: 0.4340448\ttotal: 13.2ms\tremaining: 3.96s\n",
      "100:\tlearn: 0.0035942\ttotal: 1.66s\tremaining: 3.26s\n",
      "200:\tlearn: 0.0011564\ttotal: 3.1s\tremaining: 1.53s\n",
      "299:\tlearn: 0.0006520\ttotal: 4.26s\tremaining: 0us\n",
      "0.9064039408866996\n",
      "CPU times: user 5.61 s, sys: 1.99 s, total: 7.6 s\n",
      "Wall time: 5.23 s\n"
     ]
    }
   ],
   "source": [
    "%%time\n",
    "cb_regressor = CatBoostClassifier(iterations = 300, learning_rate=0.1, verbose=100, task_type='GPU',\n",
    "                        random_state=RANDOM_STATE)\n",
    "cb_regressor.fit(X_train, y_train)\n",
    "pred = model.predict(X_test)\n",
    "f1_cat = f1_score(y_test, pred)\n",
    "print(f1_cat)"
   ]
  },
  {
   "cell_type": "code",
   "execution_count": 22,
   "metadata": {
    "execution": {
     "iopub.execute_input": "2023-04-20T18:14:27.363919Z",
     "iopub.status.busy": "2023-04-20T18:14:27.361900Z",
     "iopub.status.idle": "2023-04-20T18:14:27.622893Z",
     "shell.execute_reply": "2023-04-20T18:14:27.622016Z",
     "shell.execute_reply.started": "2023-04-20T18:14:27.363881Z"
    }
   },
   "outputs": [
    {
     "name": "stdout",
     "output_type": "stream",
     "text": [
      "AUC-ROC = 0.9923237040055507\n"
     ]
    },
    {
     "data": {
      "image/png": "[encoded data removed]",
      "text/plain": [
       "<Figure size 640x480 with 1 Axes>"
      ]
     },
     "metadata": {},
     "output_type": "display_data"
    }
   ],
   "source": [
    "auc_cat = auc_roc_graph(model)"
   ]
  },
  {
   "cell_type": "markdown",
   "metadata": {},
   "source": [
    "### Случайный лес"
   ]
  },
  {
   "cell_type": "code",
   "execution_count": 25,
   "metadata": {
    "execution": {
     "iopub.execute_input": "2023-04-20T18:16:12.674057Z",
     "iopub.status.busy": "2023-04-20T18:16:12.673682Z",
     "iopub.status.idle": "2023-04-20T18:23:43.891126Z",
     "shell.execute_reply": "2023-04-20T18:23:43.890036Z",
     "shell.execute_reply.started": "2023-04-20T18:16:12.674024Z"
    }
   },
   "outputs": [
    {
     "name": "stdout",
     "output_type": "stream",
     "text": [
      "best parameters:  {'max_depth': 7, 'n_estimators': 20, 'random_state': 12345}\n",
      "best scrores:  0.9346398812148345\n",
      "CPU times: user 7min 29s, sys: 669 ms, total: 7min 30s\n",
      "Wall time: 7min 31s\n"
     ]
    },
    {
     "data": {
      "text/plain": [
       "0.9346398812148345"
      ]
     },
     "execution_count": 25,
     "metadata": {},
     "output_type": "execute_result"
    }
   ],
   "source": [
    "%%time\n",
    "grid_param = {'n_estimators': [int(x) for x in range(20, 121, 20)],\n",
    "              'max_depth': [x for x in range(1, 20, 2)],\n",
    "              'random_state':[RANDOM_STATE]}\n",
    "f1_train_rfc = find_F1(RandomForestClassifier(), grid_param)\n",
    "f1_train_rfc"
   ]
  },
  {
   "cell_type": "code",
   "execution_count": 26,
   "metadata": {
    "execution": {
     "iopub.execute_input": "2023-04-20T18:23:43.894050Z",
     "iopub.status.busy": "2023-04-20T18:23:43.893065Z",
     "iopub.status.idle": "2023-04-20T18:23:47.360477Z",
     "shell.execute_reply": "2023-04-20T18:23:47.359317Z",
     "shell.execute_reply.started": "2023-04-20T18:23:43.894008Z"
    }
   },
   "outputs": [
    {
     "name": "stdout",
     "output_type": "stream",
     "text": [
      "0.91\n"
     ]
    }
   ],
   "source": [
    "model = RandomForestClassifier(max_depth=15, n_estimators=100, random_state=RANDOM_STATE)\n",
    "model.fit(X_train, y_train)\n",
    "pred = model.predict(X_test)\n",
    "f1_rfc = f1_score(y_test, pred)\n",
    "print(f1_rfc)"
   ]
  },
  {
   "cell_type": "code",
   "execution_count": 27,
   "metadata": {
    "execution": {
     "iopub.execute_input": "2023-04-20T18:23:47.362623Z",
     "iopub.status.busy": "2023-04-20T18:23:47.362029Z",
     "iopub.status.idle": "2023-04-20T18:23:47.608716Z",
     "shell.execute_reply": "2023-04-20T18:23:47.607544Z",
     "shell.execute_reply.started": "2023-04-20T18:23:47.362562Z"
    },
    "scrolled": true
   },
   "outputs": [
    {
     "name": "stdout",
     "output_type": "stream",
     "text": [
      "AUC-ROC = 0.9908919701758829\n"
     ]
    },
    {
     "data": {
      "image/png": "[encoded data removed]",
      "text/plain": [
       "<Figure size 640x480 with 1 Axes>"
      ]
     },
     "metadata": {},
     "output_type": "display_data"
    }
   ],
   "source": [
    "auc_rfc = auc_roc_graph(model)"
   ]
  },
  {
   "cell_type": "markdown",
   "metadata": {},
   "source": [
    "### SGDClassifier"
   ]
  },
  {
   "cell_type": "code",
   "execution_count": 28,
   "metadata": {
    "execution": {
     "iopub.execute_input": "2023-04-20T18:23:47.611854Z",
     "iopub.status.busy": "2023-04-20T18:23:47.611443Z",
     "iopub.status.idle": "2023-04-20T18:25:09.700440Z",
     "shell.execute_reply": "2023-04-20T18:25:09.699252Z",
     "shell.execute_reply.started": "2023-04-20T18:23:47.611813Z"
    }
   },
   "outputs": [
    {
     "name": "stdout",
     "output_type": "stream",
     "text": [
      "best parameters:  {'eta0': 0.01, 'learning_rate': 'invscaling', 'loss': 'modified_huber', 'random_state': 12345}\n",
      "best scrores:  0.9335497736826538\n",
      "CPU times: user 1min 38s, sys: 23.6 s, total: 2min 2s\n",
      "Wall time: 1min 22s\n"
     ]
    }
   ],
   "source": [
    "%%time\n",
    "grid_params = [{'loss':['hinge', 'log', 'modified_huber'],\n",
    "                'learning_rate':['constant', 'optimal', 'invscaling', 'adaptive'],\n",
    "                'eta0':[0.01, 0.05, 0.1, 0.2, 0.3, 0.5],\n",
    "                'random_state':[RANDOM_STATE]}]\n",
    "f1_train_sgdc = find_F1(SGDClassifier(), grid_params)"
   ]
  },
  {
   "cell_type": "code",
   "execution_count": 29,
   "metadata": {
    "execution": {
     "iopub.execute_input": "2023-04-20T18:25:09.703364Z",
     "iopub.status.busy": "2023-04-20T18:25:09.702548Z",
     "iopub.status.idle": "2023-04-20T18:25:09.997896Z",
     "shell.execute_reply": "2023-04-20T18:25:09.994002Z",
     "shell.execute_reply.started": "2023-04-20T18:25:09.703318Z"
    }
   },
   "outputs": [
    {
     "name": "stdout",
     "output_type": "stream",
     "text": [
      "0.89\n"
     ]
    }
   ],
   "source": [
    "model = SGDClassifier(loss='hinge', learning_rate='adaptive', eta0=0.1, random_state=RANDOM_STATE)\n",
    "model.fit(X_train, y_train)\n",
    "pred = model.predict(X_test)\n",
    "f1_sgdc = f1_score(y_test, pred)\n",
    "print(f1_sgdc)"
   ]
  },
  {
   "cell_type": "code",
   "execution_count": 30,
   "metadata": {
    "execution": {
     "iopub.execute_input": "2023-04-20T18:25:10.002173Z",
     "iopub.status.busy": "2023-04-20T18:25:10.001407Z",
     "iopub.status.idle": "2023-04-20T18:25:10.009875Z",
     "shell.execute_reply": "2023-04-20T18:25:10.008157Z",
     "shell.execute_reply.started": "2023-04-20T18:25:10.002125Z"
    }
   },
   "outputs": [],
   "source": [
    "auc_sgdc = 'N/A'"
   ]
  },
  {
   "cell_type": "code",
   "execution_count": 32,
   "metadata": {
    "execution": {
     "iopub.execute_input": "2023-04-20T18:27:33.177800Z",
     "iopub.status.busy": "2023-04-20T18:27:33.177167Z",
     "iopub.status.idle": "2023-04-20T18:27:33.194180Z",
     "shell.execute_reply": "2023-04-20T18:27:33.193123Z",
     "shell.execute_reply.started": "2023-04-20T18:27:33.177760Z"
    }
   },
   "outputs": [
    {
     "data": {
      "text/html": [
       "<div>\n",
       "<style scoped>\n",
       "    .dataframe tbody tr th:only-of-type {\n",
       "        vertical-align: middle;\n",
       "    }\n",
       "\n",
       "    .dataframe tbody tr th {\n",
       "        vertical-align: top;\n",
       "    }\n",
       "\n",
       "    .dataframe thead th {\n",
       "        text-align: right;\n",
       "    }\n",
       "</style>\n",
       "<table border=\"1\" class=\"dataframe\">\n",
       "  <thead>\n",
       "    <tr style=\"text-align: right;\">\n",
       "      <th></th>\n",
       "      <th>F1 на CV</th>\n",
       "      <th>F1 на тесте</th>\n",
       "      <th>Скорость обучения на CV, сек.</th>\n",
       "      <th>AUC-ROC на тесте</th>\n",
       "      <th>Задание выполнено</th>\n",
       "    </tr>\n",
       "  </thead>\n",
       "  <tbody>\n",
       "    <tr>\n",
       "      <th>Логистическая регрессия</th>\n",
       "      <td>0.925270</td>\n",
       "      <td>0.906404</td>\n",
       "      <td>43.9</td>\n",
       "      <td>0.992324</td>\n",
       "      <td>True</td>\n",
       "    </tr>\n",
       "    <tr>\n",
       "      <th>CatBoost</th>\n",
       "      <td>0.931704</td>\n",
       "      <td>0.906404</td>\n",
       "      <td>168.0</td>\n",
       "      <td>0.992324</td>\n",
       "      <td>True</td>\n",
       "    </tr>\n",
       "    <tr>\n",
       "      <th>Случайный лес</th>\n",
       "      <td>0.934640</td>\n",
       "      <td>0.910000</td>\n",
       "      <td>451.0</td>\n",
       "      <td>0.990892</td>\n",
       "      <td>True</td>\n",
       "    </tr>\n",
       "    <tr>\n",
       "      <th>SGDClassifier</th>\n",
       "      <td>0.933550</td>\n",
       "      <td>0.890000</td>\n",
       "      <td>82.0</td>\n",
       "      <td>N/A</td>\n",
       "      <td>True</td>\n",
       "    </tr>\n",
       "  </tbody>\n",
       "</table>\n",
       "</div>"
      ],
      "text/plain": [
       "                         F1 на CV  F1 на тесте  Скорость обучения на CV, сек.  \\\n",
       "Логистическая регрессия  0.925270     0.906404                           43.9   \n",
       "CatBoost                 0.931704     0.906404                          168.0   \n",
       "Случайный лес            0.934640     0.910000                          451.0   \n",
       "SGDClassifier            0.933550     0.890000                           82.0   \n",
       "\n",
       "                        AUC-ROC на тесте  Задание выполнено  \n",
       "Логистическая регрессия         0.992324               True  \n",
       "CatBoost                        0.992324               True  \n",
       "Случайный лес                   0.990892               True  \n",
       "SGDClassifier                        N/A               True  "
      ]
     },
     "execution_count": 32,
     "metadata": {},
     "output_type": "execute_result"
    }
   ],
   "source": [
    "index = ['Логистическая регрессия',\n",
    "         'CatBoost',\n",
    "         'Случайный лес',\n",
    "         'SGDClassifier']\n",
    "data = {'F1 на CV':[f1_train_lr,\n",
    "                    f1_train_cat,\n",
    "                    f1_train_rfc,\n",
    "                    f1_train_sgdc],\n",
    "        'F1 на тесте':[f1_lr,\n",
    "                           f1_cat,\n",
    "                           f1_rfc,\n",
    "                           f1_sgdc],\n",
    "        'Скорость обучения на CV, сек.':[43.9,\n",
    "                           168,\n",
    "                           451,\n",
    "                           82],\n",
    "       'AUC-ROC на тесте':[auc_lr,\n",
    "                           auc_cat,\n",
    "                           auc_rfc,\n",
    "                           auc_sgdc]}\n",
    "\n",
    "scores_data = pd.DataFrame(data=data, index=index)\n",
    "scores_data['Задание выполнено'] = scores_data['F1 на тесте'] > AIM\n",
    "scores_data"
   ]
  },
  {
   "cell_type": "markdown",
   "metadata": {},
   "source": [
    "## Выводы"
   ]
  },
  {
   "cell_type": "markdown",
   "metadata": {},
   "source": [
    "В ходе работы над проектом было сделано:\n",
    "\n",
    "Подготовленны данные обучения на моделях.\n",
    "C помощью модели BERT подготовлены признаки и поделены данные на обучающую и тестовою выборку.\n",
    "Обучены модели на CV.\n",
    "Лучше всего себя по скорости обучения(44 сек.) и точности(0.93) предсказаний на обучающих данных показала модель логистической регрессии.\n",
    "\n",
    "На тестовой выбоке по метрике F1 лучше всего себя показал случайный лес с показателем 0.91. Данная модель обладает большими показателями Precision и Accuracy. Это говорит нам, что токсичные комментарии находятся лучше. Однако разница между в точности между моделями незначительна. Следовательно можем рекомендовать логистическую регрессию как основную модель для данной задачи по совокупности скорости работы и целевой метрики.\n"
   ]
  },
  {
   "cell_type": "markdown",
   "metadata": {},
   "source": [
    "## Чек-лист проверки"
   ]
  },
  {
   "cell_type": "markdown",
   "metadata": {},
   "source": [
    "- [x]  Jupyter Notebook открыт\n",
    "- [x]  Весь код выполняется без ошибок\n",
    "- [x]  Ячейки с кодом расположены в порядке исполнения\n",
    "- [x]  Данные загружены и подготовлены\n",
    "- [x]  Модели обучены\n",
    "- [x]  Значение метрики *F1* не меньше 0.75\n",
    "- [x]  Выводы написаны"
   ]
  }
 ],
 "metadata": {
  "ExecuteTimeLog": [
   {
    "duration": 2713,
    "start_time": "2023-04-18T06:41:56.387Z"
   },
   {
    "duration": 42,
    "start_time": "2023-04-18T06:41:59.102Z"
   },
   {
    "duration": 2215,
    "start_time": "2023-04-18T06:41:59.146Z"
   },
   {
    "duration": 17,
    "start_time": "2023-04-18T06:42:10.602Z"
   },
   {
    "duration": 2248,
    "start_time": "2023-04-18T06:42:16.384Z"
   },
   {
    "duration": 11,
    "start_time": "2023-04-18T06:42:18.634Z"
   },
   {
    "duration": 2337,
    "start_time": "2023-04-18T06:42:33.228Z"
   },
   {
    "duration": 13,
    "start_time": "2023-04-18T06:42:41.437Z"
   },
   {
    "duration": 11,
    "start_time": "2023-04-18T06:42:42.346Z"
   },
   {
    "duration": 30,
    "start_time": "2023-04-18T06:43:03.522Z"
   },
   {
    "duration": 77,
    "start_time": "2023-04-18T06:43:16.397Z"
   },
   {
    "duration": 301,
    "start_time": "2023-04-18T06:43:33.026Z"
   },
   {
    "duration": 23,
    "start_time": "2023-04-18T06:43:49.176Z"
   },
   {
    "duration": 5,
    "start_time": "2023-04-18T06:48:00.708Z"
   },
   {
    "duration": 907,
    "start_time": "2023-04-18T06:48:00.715Z"
   },
   {
    "duration": 18,
    "start_time": "2023-04-18T06:48:01.624Z"
   },
   {
    "duration": 53,
    "start_time": "2023-04-18T06:48:01.644Z"
   },
   {
    "duration": 88,
    "start_time": "2023-04-18T06:48:01.699Z"
   },
   {
    "duration": 302,
    "start_time": "2023-04-18T06:48:01.789Z"
   },
   {
    "duration": 18,
    "start_time": "2023-04-18T06:48:02.093Z"
   },
   {
    "duration": 32,
    "start_time": "2023-04-18T06:48:02.113Z"
   },
   {
    "duration": 13494,
    "start_time": "2023-04-18T06:48:02.147Z"
   },
   {
    "duration": 2561,
    "start_time": "2023-04-18T06:48:15.643Z"
   },
   {
    "duration": 102,
    "start_time": "2023-04-18T06:48:18.206Z"
   },
   {
    "duration": 6,
    "start_time": "2023-04-18T06:48:18.310Z"
   },
   {
    "duration": 2624,
    "start_time": "2023-04-18T06:49:06.285Z"
   },
   {
    "duration": 2470,
    "start_time": "2023-04-18T06:49:08.912Z"
   },
   {
    "duration": 17,
    "start_time": "2023-04-18T06:49:11.384Z"
   },
   {
    "duration": 55,
    "start_time": "2023-04-18T06:49:11.403Z"
   },
   {
    "duration": 89,
    "start_time": "2023-04-18T06:49:11.459Z"
   },
   {
    "duration": 337,
    "start_time": "2023-04-18T06:49:11.550Z"
   },
   {
    "duration": 21,
    "start_time": "2023-04-18T06:49:11.888Z"
   },
   {
    "duration": 37,
    "start_time": "2023-04-18T06:49:11.911Z"
   },
   {
    "duration": 9684,
    "start_time": "2023-04-18T06:49:11.950Z"
   },
   {
    "duration": 1341,
    "start_time": "2023-04-18T06:49:21.638Z"
   },
   {
    "duration": 76,
    "start_time": "2023-04-18T06:49:22.980Z"
   },
   {
    "duration": 9,
    "start_time": "2023-04-18T06:49:23.058Z"
   },
   {
    "duration": 2542,
    "start_time": "2023-04-18T06:51:26.021Z"
   },
   {
    "duration": 2616,
    "start_time": "2023-04-18T06:51:28.566Z"
   },
   {
    "duration": 15,
    "start_time": "2023-04-18T06:51:31.183Z"
   },
   {
    "duration": 91,
    "start_time": "2023-04-18T06:51:31.200Z"
   },
   {
    "duration": 133,
    "start_time": "2023-04-18T06:51:31.293Z"
   },
   {
    "duration": 308,
    "start_time": "2023-04-18T06:51:31.428Z"
   },
   {
    "duration": 17,
    "start_time": "2023-04-18T06:51:31.745Z"
   },
   {
    "duration": 18,
    "start_time": "2023-04-18T06:51:31.763Z"
   },
   {
    "duration": 9565,
    "start_time": "2023-04-18T06:51:31.783Z"
   },
   {
    "duration": 1430,
    "start_time": "2023-04-18T06:51:41.352Z"
   },
   {
    "duration": 72,
    "start_time": "2023-04-18T06:51:42.784Z"
   },
   {
    "duration": 19,
    "start_time": "2023-04-18T06:51:42.858Z"
   },
   {
    "duration": 1136875,
    "start_time": "2023-04-18T06:51:42.880Z"
   },
   {
    "duration": 76,
    "start_time": "2023-04-18T07:10:39.758Z"
   },
   {
    "duration": 5403,
    "start_time": "2023-04-18T07:10:39.836Z"
   },
   {
    "duration": 98,
    "start_time": "2023-04-18T07:10:45.242Z"
   },
   {
    "duration": 102,
    "start_time": "2023-04-18T07:10:45.342Z"
   },
   {
    "duration": 76,
    "start_time": "2023-04-18T07:10:45.446Z"
   },
   {
    "duration": 0,
    "start_time": "2023-04-18T07:10:45.524Z"
   },
   {
    "duration": 0,
    "start_time": "2023-04-18T07:10:45.525Z"
   },
   {
    "duration": 4818,
    "start_time": "2023-04-18T07:11:22.424Z"
   },
   {
    "duration": 15,
    "start_time": "2023-04-18T07:13:44.237Z"
   },
   {
    "duration": 4,
    "start_time": "2023-04-18T07:42:52.712Z"
   },
   {
    "duration": 4,
    "start_time": "2023-04-18T07:44:20.005Z"
   },
   {
    "duration": 154427,
    "start_time": "2023-04-18T07:44:33.055Z"
   },
   {
    "duration": 4,
    "start_time": "2023-04-18T07:51:48.402Z"
   },
   {
    "duration": 58378,
    "start_time": "2023-04-18T07:52:01.574Z"
   },
   {
    "duration": 5,
    "start_time": "2023-04-18T07:53:43.012Z"
   },
   {
    "duration": 46040,
    "start_time": "2023-04-18T07:54:09.108Z"
   },
   {
    "duration": 1292,
    "start_time": "2023-04-18T07:57:47.064Z"
   },
   {
    "duration": 4,
    "start_time": "2023-04-18T07:58:22.915Z"
   },
   {
    "duration": 6028,
    "start_time": "2023-04-18T07:58:25.006Z"
   },
   {
    "duration": 4,
    "start_time": "2023-04-18T08:00:52.127Z"
   },
   {
    "duration": 6017,
    "start_time": "2023-04-18T08:00:53.719Z"
   },
   {
    "duration": 4,
    "start_time": "2023-04-18T08:01:25.427Z"
   },
   {
    "duration": 5186,
    "start_time": "2023-04-18T08:01:26.155Z"
   },
   {
    "duration": 1110,
    "start_time": "2023-04-18T08:01:31.436Z"
   },
   {
    "duration": 4,
    "start_time": "2023-04-18T08:02:27.924Z"
   },
   {
    "duration": 6205,
    "start_time": "2023-04-18T08:02:30.136Z"
   },
   {
    "duration": 6,
    "start_time": "2023-04-18T08:03:33.319Z"
   },
   {
    "duration": 1244,
    "start_time": "2023-04-18T08:03:36.417Z"
   },
   {
    "duration": 6,
    "start_time": "2023-04-18T08:04:54.055Z"
   },
   {
    "duration": 5864,
    "start_time": "2023-04-18T08:04:56.469Z"
   },
   {
    "duration": 4,
    "start_time": "2023-04-18T08:05:32.736Z"
   },
   {
    "duration": 1390,
    "start_time": "2023-04-18T08:05:34.765Z"
   },
   {
    "duration": 4,
    "start_time": "2023-04-18T08:06:11.117Z"
   },
   {
    "duration": 1202,
    "start_time": "2023-04-18T08:06:12.856Z"
   },
   {
    "duration": 5,
    "start_time": "2023-04-18T08:07:05.128Z"
   },
   {
    "duration": 1310,
    "start_time": "2023-04-18T08:07:07.238Z"
   },
   {
    "duration": 5,
    "start_time": "2023-04-18T08:07:40.243Z"
   },
   {
    "duration": 1192,
    "start_time": "2023-04-18T08:07:43.044Z"
   },
   {
    "duration": 6224,
    "start_time": "2023-04-18T08:07:55.518Z"
   },
   {
    "duration": 8682,
    "start_time": "2023-04-18T08:08:08.654Z"
   },
   {
    "duration": 21714,
    "start_time": "2023-04-18T08:08:24.621Z"
   },
   {
    "duration": 760,
    "start_time": "2023-04-18T08:12:45.775Z"
   },
   {
    "duration": 701,
    "start_time": "2023-04-18T08:12:58.535Z"
   },
   {
    "duration": 54,
    "start_time": "2023-04-18T08:16:00.154Z"
   },
   {
    "duration": 27,
    "start_time": "2023-04-18T08:16:22.314Z"
   },
   {
    "duration": 14,
    "start_time": "2023-04-18T08:17:17.855Z"
   },
   {
    "duration": 9446,
    "start_time": "2023-04-18T08:21:59.709Z"
   },
   {
    "duration": 855,
    "start_time": "2023-04-18T08:22:28.282Z"
   },
   {
    "duration": 213,
    "start_time": "2023-04-18T08:23:54.370Z"
   },
   {
    "duration": 178804,
    "start_time": "2023-04-18T08:25:43.660Z"
   },
   {
    "duration": 32,
    "start_time": "2023-04-18T08:32:19.270Z"
   },
   {
    "duration": 1035,
    "start_time": "2023-04-18T08:32:30.559Z"
   },
   {
    "duration": 3,
    "start_time": "2023-04-18T08:32:55.470Z"
   },
   {
    "duration": 61,
    "start_time": "2023-04-18T08:38:28.151Z"
   },
   {
    "duration": 674721,
    "start_time": "2023-04-18T08:38:50.329Z"
   },
   {
    "duration": 55,
    "start_time": "2023-04-18T08:50:05.079Z"
   },
   {
    "duration": 3094,
    "start_time": "2023-04-18T08:51:14.469Z"
   },
   {
    "duration": 6,
    "start_time": "2023-04-18T08:51:49.518Z"
   },
   {
    "duration": 404,
    "start_time": "2023-04-18T08:51:59.409Z"
   },
   {
    "duration": 32460,
    "start_time": "2023-04-18T08:55:12.930Z"
   },
   {
    "duration": 4110,
    "start_time": "2023-04-18T09:25:38.660Z"
   },
   {
    "duration": 3051,
    "start_time": "2023-04-18T09:25:42.772Z"
   },
   {
    "duration": 37,
    "start_time": "2023-04-18T09:25:45.825Z"
   },
   {
    "duration": 14,
    "start_time": "2023-04-18T09:25:45.864Z"
   },
   {
    "duration": 40,
    "start_time": "2023-04-18T09:25:45.880Z"
   },
   {
    "duration": 95,
    "start_time": "2023-04-18T09:25:45.921Z"
   },
   {
    "duration": 386,
    "start_time": "2023-04-18T09:25:46.017Z"
   },
   {
    "duration": 18,
    "start_time": "2023-04-18T09:25:46.405Z"
   },
   {
    "duration": 27,
    "start_time": "2023-04-18T09:25:46.440Z"
   },
   {
    "duration": 10788,
    "start_time": "2023-04-18T09:25:46.468Z"
   },
   {
    "duration": 1537,
    "start_time": "2023-04-18T09:25:57.261Z"
   },
   {
    "duration": 78,
    "start_time": "2023-04-18T09:25:58.799Z"
   },
   {
    "duration": 6,
    "start_time": "2023-04-18T09:25:58.879Z"
   },
   {
    "duration": 1437784,
    "start_time": "2023-04-18T09:25:58.889Z"
   },
   {
    "duration": 6,
    "start_time": "2023-04-18T09:49:56.676Z"
   },
   {
    "duration": 23,
    "start_time": "2023-04-18T09:49:56.685Z"
   },
   {
    "duration": 41,
    "start_time": "2023-04-18T09:49:56.738Z"
   },
   {
    "duration": 1862,
    "start_time": "2023-04-18T09:49:56.782Z"
   },
   {
    "duration": 11311,
    "start_time": "2023-04-18T09:49:58.648Z"
   },
   {
    "duration": 235,
    "start_time": "2023-04-18T09:50:09.961Z"
   },
   {
    "duration": 205369,
    "start_time": "2023-04-18T09:50:10.198Z"
   },
   {
    "duration": 1094,
    "start_time": "2023-04-18T09:53:35.569Z"
   },
   {
    "duration": 4753,
    "start_time": "2023-04-18T11:29:33.337Z"
   },
   {
    "duration": 2350,
    "start_time": "2023-04-18T11:29:38.092Z"
   },
   {
    "duration": 20,
    "start_time": "2023-04-18T11:29:40.444Z"
   },
   {
    "duration": 9,
    "start_time": "2023-04-18T11:29:40.466Z"
   },
   {
    "duration": 42,
    "start_time": "2023-04-18T11:29:40.477Z"
   },
   {
    "duration": 73,
    "start_time": "2023-04-18T11:29:40.521Z"
   },
   {
    "duration": 241,
    "start_time": "2023-04-18T11:29:40.596Z"
   },
   {
    "duration": 13,
    "start_time": "2023-04-18T11:29:40.839Z"
   },
   {
    "duration": 32,
    "start_time": "2023-04-18T11:29:40.854Z"
   },
   {
    "duration": 11099,
    "start_time": "2023-04-18T11:29:40.888Z"
   },
   {
    "duration": 1239,
    "start_time": "2023-04-18T11:29:51.988Z"
   },
   {
    "duration": 46,
    "start_time": "2023-04-18T11:29:53.229Z"
   },
   {
    "duration": 13,
    "start_time": "2023-04-18T11:29:53.277Z"
   },
   {
    "duration": 1014785,
    "start_time": "2023-04-18T11:29:53.292Z"
   },
   {
    "duration": 4,
    "start_time": "2023-04-18T11:46:48.078Z"
   },
   {
    "duration": 9,
    "start_time": "2023-04-18T11:46:48.083Z"
   },
   {
    "duration": 5,
    "start_time": "2023-04-18T11:46:48.093Z"
   },
   {
    "duration": 8,
    "start_time": "2023-04-18T11:46:48.099Z"
   },
   {
    "duration": 0,
    "start_time": "2023-04-18T11:46:48.108Z"
   },
   {
    "duration": 0,
    "start_time": "2023-04-18T11:46:48.109Z"
   },
   {
    "duration": 0,
    "start_time": "2023-04-18T11:46:48.110Z"
   },
   {
    "duration": 0,
    "start_time": "2023-04-18T11:46:48.111Z"
   },
   {
    "duration": 0,
    "start_time": "2023-04-18T11:46:48.112Z"
   },
   {
    "duration": 0,
    "start_time": "2023-04-18T11:46:48.113Z"
   },
   {
    "duration": 0,
    "start_time": "2023-04-18T11:46:48.113Z"
   },
   {
    "duration": 0,
    "start_time": "2023-04-18T11:46:48.114Z"
   },
   {
    "duration": 0,
    "start_time": "2023-04-18T11:46:48.115Z"
   },
   {
    "duration": 4727,
    "start_time": "2023-04-18T11:47:56.746Z"
   },
   {
    "duration": 22717,
    "start_time": "2023-04-18T11:48:07.940Z"
   },
   {
    "duration": 531,
    "start_time": "2023-04-18T11:48:44.244Z"
   },
   {
    "duration": 17450,
    "start_time": "2023-04-18T11:49:10.358Z"
   },
   {
    "duration": 315,
    "start_time": "2023-04-18T11:49:27.809Z"
   },
   {
    "duration": 3322,
    "start_time": "2023-04-18T11:50:07.368Z"
   },
   {
    "duration": 542,
    "start_time": "2023-04-18T11:50:49.931Z"
   },
   {
    "duration": 529,
    "start_time": "2023-04-18T11:51:19.244Z"
   },
   {
    "duration": 11581,
    "start_time": "2023-04-18T11:51:50.232Z"
   },
   {
    "duration": 464,
    "start_time": "2023-04-18T11:52:01.815Z"
   },
   {
    "duration": 18108,
    "start_time": "2023-04-18T11:52:02.281Z"
   },
   {
    "duration": 348,
    "start_time": "2023-04-18T11:52:20.391Z"
   },
   {
    "duration": 202351,
    "start_time": "2023-04-18T11:52:20.740Z"
   },
   {
    "duration": 1405,
    "start_time": "2023-04-18T11:55:43.092Z"
   },
   {
    "duration": 882498,
    "start_time": "2023-04-18T11:55:44.498Z"
   },
   {
    "duration": 4887,
    "start_time": "2023-04-18T12:10:26.998Z"
   },
   {
    "duration": 36,
    "start_time": "2023-04-18T12:10:31.887Z"
   },
   {
    "duration": 11,
    "start_time": "2023-04-18T12:38:59.884Z"
   },
   {
    "duration": 11,
    "start_time": "2023-04-18T12:39:07.591Z"
   },
   {
    "duration": 10,
    "start_time": "2023-04-18T12:39:24.245Z"
   },
   {
    "duration": 206,
    "start_time": "2023-04-18T12:59:44.388Z"
   },
   {
    "duration": 5,
    "start_time": "2023-04-18T13:05:33.789Z"
   },
   {
    "duration": 11329,
    "start_time": "2023-04-18T13:08:23.331Z"
   },
   {
    "duration": 512,
    "start_time": "2023-04-18T13:08:34.661Z"
   },
   {
    "duration": 440,
    "start_time": "2023-04-18T13:08:35.175Z"
   },
   {
    "duration": 79,
    "start_time": "2023-04-18T13:08:41.527Z"
   },
   {
    "duration": 5,
    "start_time": "2023-04-18T13:08:45.694Z"
   },
   {
    "duration": 12038,
    "start_time": "2023-04-18T13:08:48.488Z"
   },
   {
    "duration": 481,
    "start_time": "2023-04-18T13:09:00.528Z"
   },
   {
    "duration": 176,
    "start_time": "2023-04-18T13:09:01.011Z"
   },
   {
    "duration": 4,
    "start_time": "2023-04-18T13:09:17.433Z"
   },
   {
    "duration": 12735,
    "start_time": "2023-04-18T13:09:20.155Z"
   },
   {
    "duration": 582,
    "start_time": "2023-04-18T13:09:32.892Z"
   },
   {
    "duration": 202,
    "start_time": "2023-04-18T13:09:33.477Z"
   },
   {
    "duration": 413,
    "start_time": "2023-04-18T13:10:13.449Z"
   },
   {
    "duration": 4,
    "start_time": "2023-04-18T13:10:18.826Z"
   },
   {
    "duration": 11568,
    "start_time": "2023-04-18T13:10:20.423Z"
   },
   {
    "duration": 491,
    "start_time": "2023-04-18T13:10:31.992Z"
   },
   {
    "duration": 295,
    "start_time": "2023-04-18T13:10:32.485Z"
   },
   {
    "duration": 377,
    "start_time": "2023-04-18T13:12:20.942Z"
   },
   {
    "duration": 12302,
    "start_time": "2023-04-18T13:14:03.319Z"
   },
   {
    "duration": 552,
    "start_time": "2023-04-18T13:14:15.622Z"
   },
   {
    "duration": 283,
    "start_time": "2023-04-18T13:14:16.175Z"
   },
   {
    "duration": 17069,
    "start_time": "2023-04-18T13:14:16.459Z"
   },
   {
    "duration": 347,
    "start_time": "2023-04-18T13:14:33.531Z"
   },
   {
    "duration": 126,
    "start_time": "2023-04-18T13:14:33.879Z"
   },
   {
    "duration": 210577,
    "start_time": "2023-04-18T13:14:34.006Z"
   },
   {
    "duration": 1304,
    "start_time": "2023-04-18T13:18:04.585Z"
   },
   {
    "duration": 160,
    "start_time": "2023-04-18T13:18:05.892Z"
   },
   {
    "duration": 900447,
    "start_time": "2023-04-18T13:18:06.054Z"
   },
   {
    "duration": 4705,
    "start_time": "2023-04-18T13:33:06.573Z"
   },
   {
    "duration": 161,
    "start_time": "2023-04-18T13:33:11.280Z"
   },
   {
    "duration": 12,
    "start_time": "2023-04-18T13:33:11.443Z"
   },
   {
    "duration": 3,
    "start_time": "2023-04-18T13:41:27.381Z"
   },
   {
    "duration": 11517,
    "start_time": "2023-04-18T13:41:35.624Z"
   },
   {
    "duration": 487,
    "start_time": "2023-04-18T13:41:47.144Z"
   },
   {
    "duration": 311,
    "start_time": "2023-04-18T13:41:47.633Z"
   },
   {
    "duration": 16726,
    "start_time": "2023-04-18T13:41:47.946Z"
   },
   {
    "duration": 314,
    "start_time": "2023-04-18T13:42:04.675Z"
   },
   {
    "duration": 125,
    "start_time": "2023-04-18T13:42:04.991Z"
   },
   {
    "duration": 34106,
    "start_time": "2023-04-18T13:42:05.117Z"
   },
   {
    "duration": 1353,
    "start_time": "2023-04-18T13:42:39.225Z"
   },
   {
    "duration": 163,
    "start_time": "2023-04-18T13:42:40.580Z"
   },
   {
    "duration": 181582,
    "start_time": "2023-04-18T13:42:40.745Z"
   },
   {
    "duration": 166,
    "start_time": "2023-04-18T13:45:42.328Z"
   },
   {
    "duration": 0,
    "start_time": "2023-04-18T13:45:42.496Z"
   },
   {
    "duration": 0,
    "start_time": "2023-04-18T13:45:42.497Z"
   },
   {
    "duration": 0,
    "start_time": "2023-04-18T13:45:42.503Z"
   },
   {
    "duration": 0,
    "start_time": "2023-04-18T13:45:42.504Z"
   },
   {
    "duration": 367,
    "start_time": "2023-04-18T13:45:44.613Z"
   },
   {
    "duration": 129,
    "start_time": "2023-04-18T13:45:46.959Z"
   },
   {
    "duration": 13,
    "start_time": "2023-04-18T13:46:01.213Z"
   },
   {
    "duration": 11310,
    "start_time": "2023-04-18T13:46:48.354Z"
   },
   {
    "duration": 507,
    "start_time": "2023-04-18T13:46:59.666Z"
   },
   {
    "duration": 298,
    "start_time": "2023-04-18T13:47:00.175Z"
   },
   {
    "duration": 17259,
    "start_time": "2023-04-18T13:47:00.475Z"
   },
   {
    "duration": 314,
    "start_time": "2023-04-18T13:47:17.736Z"
   },
   {
    "duration": 113,
    "start_time": "2023-04-18T13:47:18.052Z"
   },
   {
    "duration": 201937,
    "start_time": "2023-04-18T13:47:18.171Z"
   },
   {
    "duration": 1345,
    "start_time": "2023-04-18T13:50:40.173Z"
   },
   {
    "duration": 217,
    "start_time": "2023-04-18T13:50:41.520Z"
   },
   {
    "duration": 828142,
    "start_time": "2023-04-18T13:50:41.738Z"
   },
   {
    "duration": 4599,
    "start_time": "2023-04-18T14:04:29.882Z"
   },
   {
    "duration": 165,
    "start_time": "2023-04-18T14:04:34.483Z"
   },
   {
    "duration": 23,
    "start_time": "2023-04-18T14:04:34.650Z"
   },
   {
    "duration": 8834,
    "start_time": "2023-04-19T13:40:48.339Z"
   },
   {
    "duration": 5585,
    "start_time": "2023-04-19T13:40:57.178Z"
   },
   {
    "duration": 30,
    "start_time": "2023-04-19T13:41:02.767Z"
   },
   {
    "duration": 31,
    "start_time": "2023-04-19T13:41:02.800Z"
   },
   {
    "duration": 57,
    "start_time": "2023-04-19T13:41:02.835Z"
   },
   {
    "duration": 175,
    "start_time": "2023-04-19T13:41:02.897Z"
   },
   {
    "duration": 524,
    "start_time": "2023-04-19T13:41:03.074Z"
   },
   {
    "duration": 22,
    "start_time": "2023-04-19T13:41:03.601Z"
   },
   {
    "duration": 49,
    "start_time": "2023-04-19T13:41:03.625Z"
   },
   {
    "duration": 25,
    "start_time": "2023-04-19T13:41:03.680Z"
   },
   {
    "duration": 37,
    "start_time": "2023-04-19T13:41:03.707Z"
   },
   {
    "duration": 48,
    "start_time": "2023-04-19T13:41:03.745Z"
   },
   {
    "duration": 8,
    "start_time": "2023-04-19T13:41:55.557Z"
   },
   {
    "duration": 1101,
    "start_time": "2023-04-19T13:41:55.567Z"
   },
   {
    "duration": 16,
    "start_time": "2023-04-19T13:41:56.670Z"
   },
   {
    "duration": 42,
    "start_time": "2023-04-19T13:41:56.688Z"
   },
   {
    "duration": 75,
    "start_time": "2023-04-19T13:41:56.733Z"
   },
   {
    "duration": 131,
    "start_time": "2023-04-19T13:41:56.810Z"
   },
   {
    "duration": 440,
    "start_time": "2023-04-19T13:41:56.949Z"
   },
   {
    "duration": 28,
    "start_time": "2023-04-19T13:41:57.392Z"
   },
   {
    "duration": 61,
    "start_time": "2023-04-19T13:41:57.422Z"
   },
   {
    "duration": 24,
    "start_time": "2023-04-19T13:41:57.485Z"
   },
   {
    "duration": 28,
    "start_time": "2023-04-19T13:41:57.516Z"
   },
   {
    "duration": 43,
    "start_time": "2023-04-19T13:41:57.547Z"
   },
   {
    "duration": 25035,
    "start_time": "2023-04-19T13:41:57.592Z"
   },
   {
    "duration": 30,
    "start_time": "2023-04-19T13:42:22.640Z"
   },
   {
    "duration": 3325670,
    "start_time": "2023-04-19T13:42:22.675Z"
   },
   {
    "duration": 10,
    "start_time": "2023-04-19T14:37:48.347Z"
   },
   {
    "duration": 595074,
    "start_time": "2023-04-19T14:37:48.361Z"
   },
   {
    "duration": 6,
    "start_time": "2023-04-19T14:47:43.437Z"
   },
   {
    "duration": 28,
    "start_time": "2023-04-19T14:47:43.445Z"
   },
   {
    "duration": 5,
    "start_time": "2023-04-19T14:47:43.517Z"
   },
   {
    "duration": 22,
    "start_time": "2023-04-19T14:47:43.524Z"
   },
   {
    "duration": 64374,
    "start_time": "2023-04-19T14:51:41.440Z"
   },
   {
    "duration": 914,
    "start_time": "2023-04-19T14:52:49.270Z"
   },
   {
    "duration": 327,
    "start_time": "2023-04-19T14:52:52.524Z"
   },
   {
    "duration": 25280,
    "start_time": "2023-04-19T14:52:56.337Z"
   },
   {
    "duration": 453,
    "start_time": "2023-04-19T14:53:21.620Z"
   },
   {
    "duration": 169,
    "start_time": "2023-04-19T14:53:22.078Z"
   },
   {
    "duration": 2534,
    "start_time": "2023-04-19T14:54:13.503Z"
   },
   {
    "duration": 319,
    "start_time": "2023-04-19T14:54:17.441Z"
   },
   {
    "duration": 285,
    "start_time": "2023-04-19T14:54:28.488Z"
   },
   {
    "duration": 237,
    "start_time": "2023-04-19T14:54:33.102Z"
   },
   {
    "duration": 354230,
    "start_time": "2023-04-19T14:54:37.007Z"
   },
   {
    "duration": 13,
    "start_time": "2023-04-19T15:00:31.241Z"
   },
   {
    "duration": 1476,
    "start_time": "2023-04-19T15:04:43.045Z"
   },
   {
    "duration": 5,
    "start_time": "2023-04-19T15:05:07.692Z"
   },
   {
    "duration": 2895786,
    "start_time": "2023-04-19T15:05:16.082Z"
   },
   {
    "duration": 226,
    "start_time": "2023-04-19T15:53:31.873Z"
   },
   {
    "duration": 276,
    "start_time": "2023-04-19T15:53:32.102Z"
   },
   {
    "duration": 175,
    "start_time": "2023-04-19T15:53:32.380Z"
   },
   {
    "duration": 82269,
    "start_time": "2023-04-19T15:53:32.557Z"
   },
   {
    "duration": 267,
    "start_time": "2023-04-19T15:54:54.830Z"
   },
   {
    "duration": 177,
    "start_time": "2023-04-19T15:54:55.099Z"
   },
   {
    "duration": 123,
    "start_time": "2023-04-19T15:55:09.410Z"
   },
   {
    "duration": 47,
    "start_time": "2023-04-19T15:55:12.349Z"
   },
   {
    "duration": 29,
    "start_time": "2023-04-19T15:55:36.344Z"
   },
   {
    "duration": 3,
    "start_time": "2023-04-19T15:55:44.682Z"
   },
   {
    "duration": 1502,
    "start_time": "2023-04-19T15:55:49.868Z"
   },
   {
    "duration": 91,
    "start_time": "2023-04-19T16:57:44.648Z"
   },
   {
    "duration": 0,
    "start_time": "2023-04-19T16:57:44.742Z"
   },
   {
    "duration": 0,
    "start_time": "2023-04-19T16:57:44.743Z"
   },
   {
    "duration": 0,
    "start_time": "2023-04-19T16:57:44.744Z"
   },
   {
    "duration": 0,
    "start_time": "2023-04-19T16:57:44.745Z"
   },
   {
    "duration": 0,
    "start_time": "2023-04-19T16:57:44.747Z"
   },
   {
    "duration": 0,
    "start_time": "2023-04-19T16:57:44.748Z"
   },
   {
    "duration": 0,
    "start_time": "2023-04-19T16:57:44.749Z"
   },
   {
    "duration": 0,
    "start_time": "2023-04-19T16:57:44.750Z"
   },
   {
    "duration": 0,
    "start_time": "2023-04-19T16:57:44.756Z"
   },
   {
    "duration": 0,
    "start_time": "2023-04-19T16:57:44.757Z"
   },
   {
    "duration": 0,
    "start_time": "2023-04-19T16:57:44.760Z"
   },
   {
    "duration": 0,
    "start_time": "2023-04-19T16:57:44.761Z"
   },
   {
    "duration": 0,
    "start_time": "2023-04-19T16:57:44.765Z"
   },
   {
    "duration": 0,
    "start_time": "2023-04-19T16:57:44.766Z"
   },
   {
    "duration": 0,
    "start_time": "2023-04-19T16:57:44.767Z"
   },
   {
    "duration": 0,
    "start_time": "2023-04-19T16:57:44.769Z"
   },
   {
    "duration": 0,
    "start_time": "2023-04-19T16:57:44.770Z"
   },
   {
    "duration": 0,
    "start_time": "2023-04-19T16:57:44.775Z"
   },
   {
    "duration": 0,
    "start_time": "2023-04-19T16:57:44.776Z"
   },
   {
    "duration": 0,
    "start_time": "2023-04-19T16:57:44.777Z"
   },
   {
    "duration": 0,
    "start_time": "2023-04-19T16:57:44.779Z"
   },
   {
    "duration": 14418,
    "start_time": "2023-04-19T16:58:28.290Z"
   },
   {
    "duration": 1096,
    "start_time": "2023-04-19T16:58:42.711Z"
   },
   {
    "duration": 29,
    "start_time": "2023-04-19T16:58:43.808Z"
   },
   {
    "duration": 18,
    "start_time": "2023-04-19T16:58:43.839Z"
   },
   {
    "duration": 40,
    "start_time": "2023-04-19T16:58:43.859Z"
   },
   {
    "duration": 148,
    "start_time": "2023-04-19T16:58:43.901Z"
   },
   {
    "duration": 346,
    "start_time": "2023-04-19T16:58:44.054Z"
   },
   {
    "duration": 23,
    "start_time": "2023-04-19T16:58:44.402Z"
   },
   {
    "duration": 47,
    "start_time": "2023-04-19T16:58:44.426Z"
   },
   {
    "duration": 22,
    "start_time": "2023-04-19T16:58:44.475Z"
   },
   {
    "duration": 32,
    "start_time": "2023-04-19T16:58:44.498Z"
   },
   {
    "duration": 36,
    "start_time": "2023-04-19T16:58:44.531Z"
   },
   {
    "duration": 11,
    "start_time": "2023-04-19T16:58:44.568Z"
   },
   {
    "duration": 7,
    "start_time": "2023-04-19T17:00:10.083Z"
   },
   {
    "duration": 5,
    "start_time": "2023-04-19T17:00:42.201Z"
   },
   {
    "duration": 14868,
    "start_time": "2023-04-19T17:02:51.771Z"
   },
   {
    "duration": 18,
    "start_time": "2023-04-19T17:03:07.637Z"
   },
   {
    "duration": 58437,
    "start_time": "2023-04-19T17:03:14.432Z"
   },
   {
    "duration": 0,
    "start_time": "2023-04-19T17:04:12.877Z"
   },
   {
    "duration": 0,
    "start_time": "2023-04-19T17:04:12.881Z"
   },
   {
    "duration": 0,
    "start_time": "2023-04-19T17:04:12.885Z"
   }
  ],
  "kernelspec": {
   "display_name": "Python 3 (ipykernel)",
   "language": "python",
   "name": "python3"
  },
  "language_info": {
   "codemirror_mode": {
    "name": "ipython",
    "version": 3
   },
   "file_extension": ".py",
   "mimetype": "text/x-python",
   "name": "python",
   "nbconvert_exporter": "python",
   "pygments_lexer": "ipython3",
   "version": "3.9.12"
  },
  "toc": {
   "base_numbering": 1,
   "nav_menu": {},
   "number_sections": true,
   "sideBar": true,
   "skip_h1_title": true,
   "title_cell": "Содержание",
   "title_sidebar": "Contents",
   "toc_cell": true,
   "toc_position": {
    "height": "calc(100% - 180px)",
    "left": "10px",
    "top": "150px",
    "width": "302.391px"
   },
   "toc_section_display": true,
   "toc_window_display": true
  }
 },
 "nbformat": 4,
 "nbformat_minor": 4
}
